{
 "cells": [
  {
   "cell_type": "markdown",
   "id": "87356fd5",
   "metadata": {
    "slideshow": {
     "slide_type": "slide"
    },
    "tags": []
   },
   "source": [
    "# Bayesian analysis"
   ]
  },
  {
   "cell_type": "code",
   "execution_count": 1,
   "id": "ba31d217",
   "metadata": {
    "execution": {
     "iopub.execute_input": "2021-04-28T13:54:49.854527Z",
     "iopub.status.busy": "2021-04-28T13:54:49.853729Z",
     "iopub.status.idle": "2021-04-28T13:54:50.679571Z",
     "shell.execute_reply": "2021-04-28T13:54:50.680046Z"
    },
    "slideshow": {
     "slide_type": "skip"
    }
   },
   "outputs": [],
   "source": [
    "import matplotlib.pyplot as plt\n",
    "import numpy as np\n",
    "import scipy.stats as st"
   ]
  },
  {
   "cell_type": "code",
   "execution_count": 2,
   "id": "cca09e86",
   "metadata": {
    "execution": {
     "iopub.execute_input": "2021-04-28T13:54:50.686460Z",
     "iopub.status.busy": "2021-04-28T13:54:50.685708Z",
     "iopub.status.idle": "2021-04-28T13:54:50.687741Z",
     "shell.execute_reply": "2021-04-28T13:54:50.688198Z"
    },
    "slideshow": {
     "slide_type": "skip"
    }
   },
   "outputs": [],
   "source": [
    "%matplotlib inline\n",
    "plt.rcParams[\"figure.figsize\"] = [12,8]"
   ]
  },
  {
   "cell_type": "markdown",
   "id": "ebffae83",
   "metadata": {
    "slideshow": {
     "slide_type": "skip"
    }
   },
   "source": [
    "Here are some latex definitions for later convenience. \n",
    "$$\\newcommand{\\lbl}[2]{{#1}^{(#2)}}$$\n",
    "$$\\newcommand{\\no}{n^{(1)}}$$\n",
    "$$\\newcommand{\\nz}{n^{(0)}}$$"
   ]
  },
  {
   "cell_type": "markdown",
   "id": "30b24321",
   "metadata": {
    "slideshow": {
     "slide_type": "slide"
    }
   },
   "source": [
    "## Training (Naive) Bayes"
   ]
  },
  {
   "cell_type": "markdown",
   "id": "57ba18c6",
   "metadata": {
    "slideshow": {
     "slide_type": "fragment"
    }
   },
   "source": [
    "As we have shown in the previous lectures training a Bayes classifier amounts to finding the conditional probability distributions of the features $\\mathbf{x}$ given the class label $c$. "
   ]
  },
  {
   "cell_type": "markdown",
   "id": "a2d5dd6e",
   "metadata": {
    "slideshow": {
     "slide_type": "fragment"
    }
   },
   "source": [
    "$$P(\\mathbf{X}=\\mathbf{x}|C=c)$$"
   ]
  },
  {
   "cell_type": "markdown",
   "id": "e48b1c69",
   "metadata": {
    "slideshow": {
     "slide_type": "skip"
    }
   },
   "source": [
    "In case of the Naive bayes classifier the features are conditionally independent "
   ]
  },
  {
   "cell_type": "markdown",
   "id": "a0949578",
   "metadata": {
    "slideshow": {
     "slide_type": "fragment"
    }
   },
   "source": [
    "$$P(\\mathbf{X}=\\mathbf{x}|C=c)=\\prod_{i}P(X_i=x_i|C=c)$$"
   ]
  },
  {
   "cell_type": "markdown",
   "id": "c853b8d6",
   "metadata": {
    "slideshow": {
     "slide_type": "skip"
    }
   },
   "source": [
    "so we can estimate   probality distribution  for each feature separately. "
   ]
  },
  {
   "cell_type": "markdown",
   "id": "b4bafc53",
   "metadata": {
    "slideshow": {
     "slide_type": "skip"
    }
   },
   "source": [
    "## Statistics "
   ]
  },
  {
   "cell_type": "markdown",
   "id": "ead65d24",
   "metadata": {
    "slideshow": {
     "slide_type": "notes"
    }
   },
   "source": [
    "Estimating parameters of the probability distribution  from samples drawn from that distribution is the domain of the statistics. We have already used the maximal likelihood estimator in case of the normal distribution while training the \"sex form height & bmi\"  classifier. In this notebook I will concentrate  on estimating parameters of discrete (categorical) features distribution.  I will use this oportunity to introduce  Bayesian data analysis. "
   ]
  },
  {
   "cell_type": "markdown",
   "id": "a400eddf",
   "metadata": {
    "slideshow": {
     "slide_type": "slide",
     "slideshow": {
      "slide_type": "slide"
     }
    }
   },
   "source": [
    "## Coin toss"
   ]
  },
  {
   "cell_type": "markdown",
   "id": "49bba5f0",
   "metadata": {
    "slideshow": {
     "slide_type": "notes"
    }
   },
   "source": [
    "We will start with binary features. To be more specyfic you can imagine a series of $n$ coin tosses and treat head as success. The $\\no$ is the number of heads and $\\nz$ is the number of tails. Please take a coin and throw it now 10 times and count $\\no$ and $\\nz$. "
   ]
  },
  {
   "cell_type": "markdown",
   "id": "aaba2143",
   "metadata": {
    "slideshow": {
     "slide_type": "notes"
    }
   },
   "source": [
    "Given those numbers how  would you estimate the probability of heads $p$ ? You will be probably tempted to use "
   ]
  },
  {
   "cell_type": "markdown",
   "id": "75ea468a",
   "metadata": {
    "slideshow": {
     "slide_type": "fragment"
    }
   },
   "source": [
    "$$p = \\frac{\\no}{\\nz+\\no}$$"
   ]
  },
  {
   "cell_type": "markdown",
   "id": "e90cfaaf",
   "metadata": {
    "slideshow": {
     "slide_type": "notes"
    }
   },
   "source": [
    "This is not a bad choice but requires few comments. First let's recall how this results is obtained. "
   ]
  },
  {
   "cell_type": "markdown",
   "id": "3226f94e",
   "metadata": {
    "slideshow": {
     "slide_type": "notes"
    }
   },
   "source": [
    "As we already know $P(\\nz, \\no|p)$ considered as a function of $\\nz$  and $\\no$ is a probability distribution also called a _sampling_ distribution. \n",
    "However when considered as a function of $p$ is it called _likelihood_"
   ]
  },
  {
   "cell_type": "markdown",
   "id": "fb7d3217",
   "metadata": {
    "slideshow": {
     "slide_type": "fragment",
     "slideshow": {
      "slide_type": "fragment"
     }
    }
   },
   "source": [
    "$$L(p|n^0, n^1) = P(n^0,n^1|p) = \\binom{n^0+n^1}{n^1}p^{n^1}(1-p)^{n^0}$$"
   ]
  },
  {
   "cell_type": "markdown",
   "id": "5f463ff3",
   "metadata": {
    "slideshow": {
     "slide_type": "slide"
    }
   },
   "source": [
    "__Maximal likelihood__"
   ]
  },
  {
   "cell_type": "markdown",
   "id": "0ecb35d0",
   "metadata": {
    "slideshow": {
     "slide_type": "skip"
    }
   },
   "source": [
    "Now we can choose $p$ as the number that maximises this quantity. Actually when dealing with probabilities it's often more convenient to use logarithms. Logarithm is a monotonicaly increasing funcion, so the maximum of logarithm of an function will correspond to maximum of the function. "
   ]
  },
  {
   "cell_type": "markdown",
   "id": "8b4bcf68",
   "metadata": {
    "slideshow": {
     "slide_type": "fragment",
     "slideshow": {
      "slide_type": "fragment"
     }
    }
   },
   "source": [
    "$$\\log P(n^0,n^1|p) = \\log\\binom{n^0+n^1}{n^1}+\\log p^{n^1}+\\log (1-p)^{n^0} =  \\log\\binom{n^0+n^1}{n^1}+n^1\\log p+{n^0}\\log (1-p)$$"
   ]
  },
  {
   "cell_type": "markdown",
   "id": "71d6a38c",
   "metadata": {
    "slideshow": {
     "slide_type": "skip"
    }
   },
   "source": [
    "Differentiating this expression with respect to $p$ we obtain equation for minimum:"
   ]
  },
  {
   "cell_type": "markdown",
   "id": "13644d5e",
   "metadata": {
    "slideshow": {
     "slide_type": "fragment"
    }
   },
   "source": [
    "$$\\frac{n^1}{p}-\\frac{n^0}{1-p}=0$$"
   ]
  },
  {
   "cell_type": "markdown",
   "id": "12612eb3",
   "metadata": {
    "slideshow": {
     "slide_type": "skip"
    }
   },
   "source": [
    "Leading to the result stated above. "
   ]
  },
  {
   "cell_type": "markdown",
   "id": "ce640c23",
   "metadata": {
    "slideshow": {
     "slide_type": "skip"
    }
   },
   "source": [
    "$$P(p|n^1, n^0)$$"
   ]
  },
  {
   "cell_type": "markdown",
   "id": "8059792b",
   "metadata": {
    "slideshow": {
     "slide_type": "notes"
    }
   },
   "source": [
    "This approach works, the estimator is _consistent_, that is as the number of tosses goes to infinity its value will converge to the true value  of $p$. However it has some problems.\n",
    "\n",
    "\n",
    " \n",
    "\n",
    "First of all the likelihood has no clear interpretation. This is NOT a probability distribution on $p$ ! Ideally we would like to have the distribution"
   ]
  },
  {
   "cell_type": "markdown",
   "id": "903398e9",
   "metadata": {
    "slideshow": {
     "slide_type": "notes"
    }
   },
   "source": [
    "which can be interpreted as probability of $p$ given the measured $\\nz$ amd $\\no$. "
   ]
  },
  {
   "cell_type": "markdown",
   "id": "9d0828c9",
   "metadata": {
    "slideshow": {
     "slide_type": "notes"
    }
   },
   "source": [
    "Secondly with maximal likelihood estimator there is no clear way of estimating the error on the $p$. "
   ]
  },
  {
   "cell_type": "markdown",
   "id": "cbbf0be9",
   "metadata": {
    "slideshow": {
     "slide_type": "notes"
    }
   },
   "source": [
    "And thirdly we do not have a way of incorporating our prior knowledge. For example when tossing a coin we are practically sure that $p=1/2$. If we toss the coin and get  values"
   ]
  },
  {
   "cell_type": "code",
   "execution_count": 3,
   "id": "884b67e4",
   "metadata": {
    "execution": {
     "iopub.execute_input": "2021-04-28T13:54:50.692234Z",
     "iopub.status.busy": "2021-04-28T13:54:50.691477Z",
     "iopub.status.idle": "2021-04-28T13:54:50.693393Z",
     "shell.execute_reply": "2021-04-28T13:54:50.693955Z"
    },
    "slideshow": {
     "slide_type": "slide"
    }
   },
   "outputs": [],
   "source": [
    "tosses = np.asarray([0, 1, 1, 1, 0, 1, 1, 0, 1, 0])"
   ]
  },
  {
   "cell_type": "markdown",
   "id": "d5e7e0d8",
   "metadata": {
    "slideshow": {
     "slide_type": "notes"
    }
   },
   "source": [
    "we will rather not conclude that $p=0.6$ as indicated by the data "
   ]
  },
  {
   "cell_type": "code",
   "execution_count": 4,
   "id": "735614cf",
   "metadata": {
    "execution": {
     "iopub.execute_input": "2021-04-28T13:54:50.697697Z",
     "iopub.status.busy": "2021-04-28T13:54:50.697061Z",
     "iopub.status.idle": "2021-04-28T13:54:50.699444Z",
     "shell.execute_reply": "2021-04-28T13:54:50.699857Z"
    },
    "slideshow": {
     "slide_type": "fragment"
    }
   },
   "outputs": [
    {
     "name": "stdout",
     "output_type": "stream",
     "text": [
      "0.6\n"
     ]
    }
   ],
   "source": [
    "n=len(tosses)\n",
    "n1 = tosses.sum()\n",
    "n0 = n-n1 \n",
    "p_est = n1/n\n",
    "print(p_est)"
   ]
  },
  {
   "cell_type": "markdown",
   "id": "5d8ffed9",
   "metadata": {
    "slideshow": {
     "slide_type": "notes"
    }
   },
   "source": [
    "We would need much more evidence  to overcome our _prior_ knowledge about a normal coin. "
   ]
  },
  {
   "cell_type": "markdown",
   "id": "2f3ba15d",
   "metadata": {
    "slideshow": {
     "slide_type": "notes"
    }
   },
   "source": [
    "Actually in case of 10 tosses we have only 25% chance of geting $p$ exactly right. "
   ]
  },
  {
   "cell_type": "code",
   "execution_count": 5,
   "id": "d5e2ee53",
   "metadata": {
    "execution": {
     "iopub.execute_input": "2021-04-28T13:54:50.745531Z",
     "iopub.status.busy": "2021-04-28T13:54:50.744918Z",
     "iopub.status.idle": "2021-04-28T13:54:50.823900Z",
     "shell.execute_reply": "2021-04-28T13:54:50.824259Z"
    },
    "slideshow": {
     "slide_type": "fragment"
    }
   },
   "outputs": [
    {
     "data": {
      "image/png": "[encoded data removed]",
      "text/plain": [
       "<Figure size 864x576 with 1 Axes>"
      ]
     },
     "metadata": {
      "needs_background": "light"
     },
     "output_type": "display_data"
    }
   ],
   "source": [
    "plt.plot(np.arange(11)/10,st.binom(10,0.5).pmf(np.arange(11)), drawstyle = 'steps-mid' );\n",
    "plt.xticks(np.arange(11)/10);"
   ]
  },
  {
   "cell_type": "markdown",
   "id": "cba93254",
   "metadata": {
    "slideshow": {
     "slide_type": "notes"
    }
   },
   "source": [
    "In extreme case we can get $n^{(1)}=0$ and conclude that succes is impossible, skewing the classifier. This seems unlikely but consider that if all of the 1000 students  at our faculty throw the coin 10 times. Probability that at least one of them tosses ten  tails in a row is"
   ]
  },
  {
   "cell_type": "markdown",
   "id": "cbc0eeed",
   "metadata": {
    "slideshow": {
     "slide_type": "slide"
    }
   },
   "source": [
    "$$ 1 - (1-p^{10})^{1000} $$"
   ]
  },
  {
   "cell_type": "code",
   "execution_count": 6,
   "id": "9008276f",
   "metadata": {
    "execution": {
     "iopub.execute_input": "2021-04-28T13:54:50.827576Z",
     "iopub.status.busy": "2021-04-28T13:54:50.827060Z",
     "iopub.status.idle": "2021-04-28T13:54:50.829193Z",
     "shell.execute_reply": "2021-04-28T13:54:50.829482Z"
    },
    "slideshow": {
     "slide_type": "-"
    }
   },
   "outputs": [
    {
     "data": {
      "text/plain": [
       "0.623576201943276"
      ]
     },
     "execution_count": 6,
     "metadata": {},
     "output_type": "execute_result"
    }
   ],
   "source": [
    "1-(1-0.5**(10.0))**1000"
   ]
  },
  {
   "cell_type": "markdown",
   "id": "7db4ae37",
   "metadata": {
    "slideshow": {
     "slide_type": "notes"
    }
   },
   "source": [
    "so not that small. In practical applications for some features $p$ can be very small and the probability of zero successes in our sample is big. "
   ]
  },
  {
   "cell_type": "markdown",
   "id": "555fad59",
   "metadata": {
    "slideshow": {
     "slide_type": "slide"
    }
   },
   "source": [
    "## Bayesian analysis"
   ]
  },
  {
   "cell_type": "markdown",
   "id": "43893dbc",
   "metadata": {
    "slideshow": {
     "slide_type": "notes"
    }
   },
   "source": [
    "Those issues are addressed by the Bayesian statistics. In this approach we concentrate on finding the posterior probability distribution of $p$ given the observed outcomes. "
   ]
  },
  {
   "cell_type": "markdown",
   "id": "01f95d9e",
   "metadata": {
    "slideshow": {
     "slide_type": "slide"
    }
   },
   "source": [
    "### Posterior"
   ]
  },
  {
   "cell_type": "markdown",
   "id": "6a4eac0c",
   "metadata": {
    "slideshow": {
     "slide_type": "notes"
    }
   },
   "source": [
    "Bayes theorem gives us a more systematic way of estimating $p$. Recall that:"
   ]
  },
  {
   "cell_type": "markdown",
   "id": "f7cd4669",
   "metadata": {
    "slideshow": {
     "slide_type": "fragment",
     "slideshow": {
      "slide_type": "fragment"
     }
    }
   },
   "source": [
    "$$P(p|n^1,n^0) =  \\frac{P(n^1,n^0|p) P(p)}{P(n^1,n^0)} = \\frac{P(n^1,n^0|p) P(p)}{\\int_0^1\\text{d}p P(n^1,n^0|p) P(p)} $$"
   ]
  },
  {
   "cell_type": "markdown",
   "id": "c9081272",
   "metadata": {
    "slideshow": {
     "slide_type": "notes"
    }
   },
   "source": [
    "This is called _posterior_ probability refering to the fact that it is calculated after we have collected the data. It represents our knowledge of $p$ after we have collected some evidence. "
   ]
  },
  {
   "cell_type": "markdown",
   "id": "2f2d32c6",
   "metadata": {
    "slideshow": {
     "slide_type": "slide",
     "slideshow": {
      "slide_type": "slide"
     }
    }
   },
   "source": [
    "### Prior"
   ]
  },
  {
   "cell_type": "markdown",
   "id": "a9bd0acb",
   "metadata": {
    "slideshow": {
     "slide_type": "notes"
    }
   },
   "source": [
    "The first factor in the numerator is the likelihood/sampling distribution. The second factor "
   ]
  },
  {
   "cell_type": "markdown",
   "id": "0366c606",
   "metadata": {
    "slideshow": {
     "slide_type": "fragment",
     "slideshow": {
      "slide_type": "fragment"
     }
    }
   },
   "source": [
    "$$P(p)$$"
   ]
  },
  {
   "cell_type": "markdown",
   "id": "ea00218f",
   "metadata": {
    "slideshow": {
     "slide_type": "notes"
    }
   },
   "source": [
    "is more problematic. This is  _a priori_ probability of the probability of succes $p$ usually caled \"prior\". What does that mean ? According to Bayesians this is our degree of belief about $p$ before we see any data. I agree that this is vague, but that's the best we can do. This maybe very subjective but at least that subjectivity is stated openly. Anyway when we gather enough data the prior will not matter. If we do not have data we have to guess anyway :) The Bayes theorem gives us a way of changing our beliefs (probability distribution) according to the data collected. "
   ]
  },
  {
   "cell_type": "markdown",
   "id": "c9a6094a",
   "metadata": {
    "slideshow": {
     "slide_type": "notes"
    }
   },
   "source": [
    "Sometimes the prior  maybe well defined. In principle we could take thousands  of coins and toss them milions of times measuring $p$. Then we could get the distribution of $p$ due to manufacturing defects. The same could be said for any other object that in principle can be produced in many copies. "
   ]
  },
  {
   "cell_type": "markdown",
   "id": "56693a64",
   "metadata": {
    "slideshow": {
     "slide_type": "notes"
    }
   },
   "source": [
    "So imagine that we have coins produced by some sloppy blacksmith. We have one of such coins and we want to estimate $p$. We have previously examined many such coins so we have some idea how the  $P(p)$ distribution looks like. "
   ]
  },
  {
   "cell_type": "markdown",
   "id": "9c0db11b",
   "metadata": {
    "slideshow": {
     "slide_type": "slide"
    }
   },
   "source": [
    "#### Beta distribution"
   ]
  },
  {
   "cell_type": "markdown",
   "id": "953d44dd",
   "metadata": {
    "slideshow": {
     "slide_type": "notes"
    }
   },
   "source": [
    "The only paractical way of specfying a continous probability distribution is by giving a formula for the probability density function, usually parametrised by few parameters. In case of binary features the most convenient distribution is\n",
    "he  [Beta distribution](https://en.wikipedia.org/wiki/Beta_distribution). It  has two parameters $\\alpha$ and $\\beta$  and its probability density function is"
   ]
  },
  {
   "cell_type": "markdown",
   "id": "632d6a11",
   "metadata": {
    "slideshow": {
     "slide_type": "fragment",
     "slideshow": {
      "slide_type": "fragment"
     }
    }
   },
   "source": [
    "$$P(x|\\alpha,\\beta) =  \\frac{\\Gamma(\\alpha+\\beta)}{\\Gamma(\\alpha)\\Gamma(\\beta)}\n",
    "x^{\\alpha-1}(1-x)^{\\beta-1},\\quad 0\\leq x\\leq 1\n",
    "$$"
   ]
  },
  {
   "cell_type": "markdown",
   "id": "196ce66d",
   "metadata": {
    "slideshow": {
     "slide_type": "skip"
    }
   },
   "source": [
    "Here are plots of the probability density function for some values of $\\alpha=\\beta$"
   ]
  },
  {
   "cell_type": "code",
   "execution_count": 7,
   "id": "2de32f1f",
   "metadata": {
    "execution": {
     "iopub.execute_input": "2021-04-28T13:54:50.867262Z",
     "iopub.status.busy": "2021-04-28T13:54:50.866637Z",
     "iopub.status.idle": "2021-04-28T13:54:51.091143Z",
     "shell.execute_reply": "2021-04-28T13:54:51.091527Z"
    },
    "slideshow": {
     "slide_type": "slide"
    }
   },
   "outputs": [
    {
     "data": {
      "image/png": "[encoded data removed]",
      "text/plain": [
       "<Figure size 864x576 with 1 Axes>"
      ]
     },
     "metadata": {
      "needs_background": "light"
     },
     "output_type": "display_data"
    }
   ],
   "source": [
    "xs =np.linspace(0,1,250)\n",
    "for a in [0.25,0.5,1,2,5,10]:\n",
    "    ys = st.beta(a,a).pdf(xs)\n",
    "    plt.plot(xs,ys, label='%4.2f' %(a,))\n",
    "plt.legend(loc='best', title='$\\\\alpha=\\\\beta$');"
   ]
  },
  {
   "cell_type": "markdown",
   "id": "650b0c39",
   "metadata": {
    "slideshow": {
     "slide_type": "skip"
    }
   },
   "source": [
    "And here for some values of $\\alpha\\neq\\beta$"
   ]
  },
  {
   "cell_type": "code",
   "execution_count": 8,
   "id": "6cabe834",
   "metadata": {
    "execution": {
     "iopub.execute_input": "2021-04-28T13:54:51.131936Z",
     "iopub.status.busy": "2021-04-28T13:54:51.131472Z",
     "iopub.status.idle": "2021-04-28T13:54:51.209888Z",
     "shell.execute_reply": "2021-04-28T13:54:51.210212Z"
    },
    "slideshow": {
     "slide_type": "slide"
    }
   },
   "outputs": [
    {
     "data": {
      "image/png": "[encoded data removed]",
      "text/plain": [
       "<Figure size 864x576 with 1 Axes>"
      ]
     },
     "metadata": {
      "needs_background": "light"
     },
     "output_type": "display_data"
    }
   ],
   "source": [
    "xs =np.linspace(0,1,250)\n",
    "for a in [0.25,0.5,1,5]:\n",
    "    ys = st.beta(a,2.0).pdf(xs)\n",
    "    plt.plot(xs,ys, label='%4.2f' %(a,))\n",
    "plt.legend(loc=1, title='$\\\\alpha$');"
   ]
  },
  {
   "cell_type": "markdown",
   "id": "6f409889",
   "metadata": {
    "slideshow": {
     "slide_type": "notes"
    }
   },
   "source": [
    "It can be more convenient to parametrise  Beta distribution by its mean and variance. The mean and variance of Beta distribution are "
   ]
  },
  {
   "cell_type": "markdown",
   "id": "1fa8b393",
   "metadata": {
    "slideshow": {
     "slide_type": "slide"
    }
   },
   "source": [
    "$$\\mu = \\frac{\\alpha}{\\alpha+\\beta}\\quad\\text{and}\\quad \\sigma^2=\\frac{\\alpha\\beta}{(\\alpha+\\beta)^2(\\alpha+\\beta+1)}$$"
   ]
  },
  {
   "cell_type": "markdown",
   "id": "4f533f7c",
   "metadata": {
    "slideshow": {
     "slide_type": "skip"
    }
   },
   "source": [
    "and so"
   ]
  },
  {
   "cell_type": "markdown",
   "id": "7c59a32a",
   "metadata": {
    "slideshow": {
     "slide_type": "fragment"
    }
   },
   "source": [
    "$$\\nu = \\left(\\frac{\\mu(1-\\mu)}{\\sigma^2}-1\\right),\\quad \\alpha = \\mu\\nu, \\quad\n",
    "\\beta = (1-\\mu) \\nu,\\quad \\sigma^2<\\mu(1-\\mu)$$"
   ]
  },
  {
   "cell_type": "code",
   "execution_count": 9,
   "id": "3677ef10",
   "metadata": {
    "execution": {
     "iopub.execute_input": "2021-04-28T13:54:51.213679Z",
     "iopub.status.busy": "2021-04-28T13:54:51.213225Z",
     "iopub.status.idle": "2021-04-28T13:54:51.214967Z",
     "shell.execute_reply": "2021-04-28T13:54:51.215287Z"
    },
    "slideshow": {
     "slide_type": "skip"
    },
    "tags": [
     "function"
    ]
   },
   "outputs": [],
   "source": [
    "def beta_mu_var(mu, s2):\n",
    "    \"\"\"Returns Beta distribution object (from scipy.stats) with specified mean and variance\"\"\"\n",
    "    \n",
    "    nu = mu*(1-mu)/s2 -1\n",
    "    if nu>0:\n",
    "        alpha = mu*nu\n",
    "        beta = (1-mu)*nu\n",
    "        return st.beta(a=alpha,b=beta)\n",
    "    else:\n",
    "        print(\"s2 must be less then {:6.4f}\".format(mu*(1-mu)))"
   ]
  },
  {
   "cell_type": "markdown",
   "id": "05882840",
   "metadata": {
    "slideshow": {
     "slide_type": "skip"
    }
   },
   "source": [
    "Let's check this"
   ]
  },
  {
   "cell_type": "code",
   "execution_count": 10,
   "id": "80ff135a",
   "metadata": {
    "execution": {
     "iopub.execute_input": "2021-04-28T13:54:51.219108Z",
     "iopub.status.busy": "2021-04-28T13:54:51.218657Z",
     "iopub.status.idle": "2021-04-28T13:54:51.220773Z",
     "shell.execute_reply": "2021-04-28T13:54:51.220442Z"
    },
    "slideshow": {
     "slide_type": "skip"
    }
   },
   "outputs": [
    {
     "name": "stdout",
     "output_type": "stream",
     "text": [
      "0.3 0.1\n"
     ]
    }
   ],
   "source": [
    "bd = beta_mu_var(0.3, 0.1)\n",
    "print(bd.mean(), bd.var())"
   ]
  },
  {
   "cell_type": "markdown",
   "id": "d6c7e5fa",
   "metadata": {
    "slideshow": {
     "slide_type": "slide"
    }
   },
   "source": [
    "### Back to coin toss"
   ]
  },
  {
   "cell_type": "markdown",
   "id": "d2bb11fe",
   "metadata": {
    "slideshow": {
     "slide_type": "notes"
    }
   },
   "source": [
    "So let's assume that the $p$ values of coins produced by our sloppy blacksmith have Beta distribution  with mean $\\mu=0.45$ and standard deviation $\\sigma=0.1$. "
   ]
  },
  {
   "cell_type": "code",
   "execution_count": 11,
   "id": "b980c350",
   "metadata": {
    "execution": {
     "iopub.execute_input": "2021-04-28T13:54:51.224193Z",
     "iopub.status.busy": "2021-04-28T13:54:51.223738Z",
     "iopub.status.idle": "2021-04-28T13:54:51.225904Z",
     "shell.execute_reply": "2021-04-28T13:54:51.226220Z"
    },
    "slideshow": {
     "slide_type": "fragment"
    }
   },
   "outputs": [
    {
     "name": "stdout",
     "output_type": "stream",
     "text": [
      "alpha = 10.69, beta=13.06\n"
     ]
    }
   ],
   "source": [
    "prior = beta_mu_var(0.45, 0.1*0.1)\n",
    "pars = prior.kwds\n",
    "alpha =pars['a']\n",
    "beta = pars['b']\n",
    "print(\"alpha = {:.2f}, beta={:.2f}\".format(alpha,beta))"
   ]
  },
  {
   "cell_type": "markdown",
   "id": "9d65043c",
   "metadata": {
    "slideshow": {
     "slide_type": "notes"
    }
   },
   "source": [
    "We will compare this to uniform prior with $\\alpha=\\beta=1$. This gives a constant probability density function $P(p)=1$"
   ]
  },
  {
   "cell_type": "code",
   "execution_count": 12,
   "id": "cc32f684",
   "metadata": {
    "execution": {
     "iopub.execute_input": "2021-04-28T13:54:51.229028Z",
     "iopub.status.busy": "2021-04-28T13:54:51.228587Z",
     "iopub.status.idle": "2021-04-28T13:54:51.230339Z",
     "shell.execute_reply": "2021-04-28T13:54:51.230655Z"
    },
    "slideshow": {
     "slide_type": "fragment"
    }
   },
   "outputs": [],
   "source": [
    "uni_prior = st.beta(1,1)"
   ]
  },
  {
   "cell_type": "code",
   "execution_count": 13,
   "id": "a7b50d8e",
   "metadata": {
    "execution": {
     "iopub.execute_input": "2021-04-28T13:54:51.234135Z",
     "iopub.status.busy": "2021-04-28T13:54:51.233680Z",
     "iopub.status.idle": "2021-04-28T13:54:51.413021Z",
     "shell.execute_reply": "2021-04-28T13:54:51.413336Z"
    },
    "slideshow": {
     "slide_type": "slide"
    }
   },
   "outputs": [
    {
     "data": {
      "image/png": "[encoded data removed]",
      "text/plain": [
       "<Figure size 864x576 with 1 Axes>"
      ]
     },
     "metadata": {
      "needs_background": "light"
     },
     "output_type": "display_data"
    }
   ],
   "source": [
    "xs =np.linspace(0,1,2000)\n",
    "plt.plot(xs, prior.pdf(xs),    label=\"$\\\\alpha = {:5.2f}$ $\\\\beta = {:5.2f}$\".format(alpha, beta));\n",
    "plt.plot(xs,uni_prior.pdf(xs), label=\"$\\\\alpha = {:5.2f}$ $\\\\beta = {:5.2f}$\".format(1, 1));\n",
    "plt.xlabel('p');\n",
    "plt.ylabel('P(p)');\n",
    "plt.legend();"
   ]
  },
  {
   "cell_type": "markdown",
   "id": "8059b3b9",
   "metadata": {
    "slideshow": {
     "slide_type": "slide",
     "slideshow": {
      "slide_type": "slide"
     }
    }
   },
   "source": [
    "### Posterior"
   ]
  },
  {
   "cell_type": "markdown",
   "id": "2720a4f8",
   "metadata": {
    "slideshow": {
     "slide_type": "fragment"
    }
   },
   "source": [
    "$$P(p|\\nz,\\no)=\\frac{P(\\nz,\\no|p)P(p)}{P(\\nz,\\no)},\\qquad P(\\nz,\\no) = \\int\\text{d}p\\,P(\\nz,\\no|p)P(p)$$"
   ]
  },
  {
   "cell_type": "markdown",
   "id": "9398dfe5",
   "metadata": {
    "slideshow": {
     "slide_type": "notes"
    }
   },
   "source": [
    "If we chose $Beta(\\alpha, \\beta)$ as the prior $P(p)$ the  numerator of the posterior distribution has the form:"
   ]
  },
  {
   "cell_type": "markdown",
   "id": "0d126ee1",
   "metadata": {
    "slideshow": {
     "slide_type": "fragment"
    }
   },
   "source": [
    "$$\\binom{\\nz+\\no}{\\no}p^{\\no}(1-p)^{\\nz}  \\frac{\\Gamma(\\alpha+\\beta)}{\\Gamma(\\alpha)\\Gamma(\\beta)}\n",
    "p^{\\alpha-1}(1-p)^{\\beta-1}$$"
   ]
  },
  {
   "cell_type": "markdown",
   "id": "d93ac935",
   "metadata": {
    "slideshow": {
     "slide_type": "notes"
    }
   },
   "source": [
    "The denominator is an integral of the numerator but we don't have to do it explicitely. By noting that "
   ]
  },
  {
   "cell_type": "markdown",
   "id": "09158590",
   "metadata": {
    "slideshow": {
     "slide_type": "slide"
    }
   },
   "source": [
    "### Conjugate priors"
   ]
  },
  {
   "cell_type": "markdown",
   "id": "d2f5638f",
   "metadata": {
    "slideshow": {
     "slide_type": "fragment"
    }
   },
   "source": [
    "$$ p^{\\no}(1-p)^{\\nz} p^{\\alpha-1}(1-p)^{\\beta-1}=\n",
    "p^{\\no+\\alpha-1}(1-p)^{\\nz+\\beta-1}$$"
   ]
  },
  {
   "cell_type": "markdown",
   "id": "43df573c",
   "metadata": {
    "slideshow": {
     "slide_type": "notes"
    }
   },
   "source": [
    "we see that the functional dependence on $p$ is same as for $Beta(n^1+\\alpha, n^0+\\beta)$. So this is the same distribution and  finally we have the formula for the posterior "
   ]
  },
  {
   "cell_type": "markdown",
   "id": "4bd5a03b",
   "metadata": {
    "slideshow": {
     "slide_type": "fragment"
    }
   },
   "source": [
    "$$P(p| \\nz, \\no) \\sim  Beta(\\no+\\alpha, \\nz+\\beta)$$"
   ]
  },
  {
   "cell_type": "markdown",
   "id": "9b576f7b",
   "metadata": {
    "slideshow": {
     "slide_type": "skip"
    }
   },
   "source": [
    "So continuing our example let's suppose that real $p$ of our coin is"
   ]
  },
  {
   "cell_type": "markdown",
   "id": "a0050999",
   "metadata": {
    "slideshow": {
     "slide_type": "notes"
    }
   },
   "source": [
    "A prior with a property that the posterior distribution has same form as the prior is called _conjugate_ prior to the sampling distribution. So the Beta distribution is a conjugate prior to Bernouilli distribution. "
   ]
  },
  {
   "cell_type": "code",
   "execution_count": 14,
   "id": "ffbd42c5",
   "metadata": {
    "execution": {
     "iopub.execute_input": "2021-04-28T13:54:51.416033Z",
     "iopub.status.busy": "2021-04-28T13:54:51.415596Z",
     "iopub.status.idle": "2021-04-28T13:54:51.417503Z",
     "shell.execute_reply": "2021-04-28T13:54:51.418135Z"
    },
    "slideshow": {
     "slide_type": "slide"
    }
   },
   "outputs": [],
   "source": [
    "p_coin = 0.35"
   ]
  },
  {
   "cell_type": "code",
   "execution_count": 15,
   "id": "3d7dcc25",
   "metadata": {
    "execution": {
     "iopub.execute_input": "2021-04-28T13:54:51.421389Z",
     "iopub.status.busy": "2021-04-28T13:54:51.420946Z",
     "iopub.status.idle": "2021-04-28T13:54:51.422752Z",
     "shell.execute_reply": "2021-04-28T13:54:51.423064Z"
    },
    "slideshow": {
     "slide_type": "fragment"
    }
   },
   "outputs": [],
   "source": [
    "coin = st.bernoulli(p=p_coin)"
   ]
  },
  {
   "cell_type": "markdown",
   "id": "5adaf2cf",
   "metadata": {
    "slideshow": {
     "slide_type": "skip"
    }
   },
   "source": [
    "We will \"toss\" it 10000 times"
   ]
  },
  {
   "cell_type": "code",
   "execution_count": 16,
   "id": "21e7ca2d",
   "metadata": {
    "execution": {
     "iopub.execute_input": "2021-04-28T13:54:51.425931Z",
     "iopub.status.busy": "2021-04-28T13:54:51.425491Z",
     "iopub.status.idle": "2021-04-28T13:54:51.427267Z",
     "shell.execute_reply": "2021-04-28T13:54:51.427601Z"
    },
    "slideshow": {
     "slide_type": "fragment"
    }
   },
   "outputs": [],
   "source": [
    "n_tosses = 10000\n",
    "tosses = coin.rvs(n_tosses)"
   ]
  },
  {
   "cell_type": "code",
   "execution_count": 17,
   "id": "41e23853",
   "metadata": {
    "execution": {
     "iopub.execute_input": "2021-04-28T13:54:51.430258Z",
     "iopub.status.busy": "2021-04-28T13:54:51.429825Z",
     "iopub.status.idle": "2021-04-28T13:54:51.431728Z",
     "shell.execute_reply": "2021-04-28T13:54:51.432037Z"
    },
    "slideshow": {
     "slide_type": "skip"
    },
    "tags": [
     "function"
    ]
   },
   "outputs": [],
   "source": [
    "def ht(tosses):\n",
    "    \"\"\"Takes a list of toss results and returns number of successes and failures\"\"\"\n",
    "    h = tosses.sum()\n",
    "    t = len(tosses)-h\n",
    "    return (h,t)"
   ]
  },
  {
   "cell_type": "code",
   "execution_count": 18,
   "id": "5311897c",
   "metadata": {
    "execution": {
     "iopub.execute_input": "2021-04-28T13:54:51.434919Z",
     "iopub.status.busy": "2021-04-28T13:54:51.434413Z",
     "iopub.status.idle": "2021-04-28T13:54:51.436400Z",
     "shell.execute_reply": "2021-04-28T13:54:51.436716Z"
    },
    "slideshow": {
     "slide_type": "fragment"
    }
   },
   "outputs": [
    {
     "data": {
      "text/plain": [
       "(3420, 6580)"
      ]
     },
     "execution_count": 18,
     "metadata": {},
     "output_type": "execute_result"
    }
   ],
   "source": [
    "ht(tosses)"
   ]
  },
  {
   "cell_type": "code",
   "execution_count": 19,
   "id": "964e1295",
   "metadata": {
    "execution": {
     "iopub.execute_input": "2021-04-28T13:54:51.440621Z",
     "iopub.status.busy": "2021-04-28T13:54:51.440172Z",
     "iopub.status.idle": "2021-04-28T13:54:51.442147Z",
     "shell.execute_reply": "2021-04-28T13:54:51.442455Z"
    },
    "slideshow": {
     "slide_type": "skip"
    },
    "tags": [
     "function"
    ]
   },
   "outputs": [],
   "source": [
    "def ab_string(a,b):\n",
    "    return \"$\\\\alpha = {:.2f}$ $\\\\beta = {:.2f}$\".format(a,b)\n",
    "\n",
    "def draw_beta_prior(a,b,**kargs):\n",
    "    xs=np.linspace(0,1,1000)\n",
    "    plt.plot(xs, st.beta(a,b).pdf(\n",
    "        xs), **kargs)\n",
    "\n",
    "def draw_beta_posterior(a,b,tosses, **kargs):\n",
    "    \"\"\"Draw posterior distribution after  seing tosses assuming Beta(a,b) prior\"\"\"\n",
    "    (h,t)=ht(tosses)\n",
    "    xs=np.linspace(0,1,1000)\n",
    "    plt.plot(xs, st.beta(a+h,b+t).pdf(\n",
    "        xs), **kargs)"
   ]
  },
  {
   "cell_type": "markdown",
   "id": "a8c08a87",
   "metadata": {
    "slideshow": {
     "slide_type": "skip"
    }
   },
   "source": [
    "Let's draw the posterior after 10 tosses"
   ]
  },
  {
   "cell_type": "code",
   "execution_count": 20,
   "id": "2e42429d",
   "metadata": {
    "execution": {
     "iopub.execute_input": "2021-04-28T13:54:51.445821Z",
     "iopub.status.busy": "2021-04-28T13:54:51.445360Z",
     "iopub.status.idle": "2021-04-28T13:54:51.546007Z",
     "shell.execute_reply": "2021-04-28T13:54:51.546360Z"
    },
    "slideshow": {
     "slide_type": "slide"
    }
   },
   "outputs": [
    {
     "data": {
      "image/png": "[encoded data removed]",
      "text/plain": [
       "<Figure size 864x576 with 1 Axes>"
      ]
     },
     "metadata": {
      "needs_background": "light"
     },
     "output_type": "display_data"
    }
   ],
   "source": [
    "draw_beta_posterior(alpha,beta,tosses[:10], label=ab_string(alpha, beta))\n",
    "plt.legend();"
   ]
  },
  {
   "cell_type": "markdown",
   "id": "5eaa6b78",
   "metadata": {
    "slideshow": {
     "slide_type": "skip"
    }
   },
   "source": [
    "Let's discuss again what does this probability distribution mean? "
   ]
  },
  {
   "cell_type": "markdown",
   "id": "54c83097",
   "metadata": {
    "slideshow": {
     "slide_type": "slide"
    }
   },
   "source": [
    "You can thing about it as an outcome of following experiment:\n",
    " 1. You draw a value for $p$  from the prior distribution\n",
    " 1. You draw 10 ten times from the Bernoulli distribution with $p$ selected above,  which is equivalent to drawing from Binomial distribution with same $p$  and $n=10$.\n",
    " 1. You  repeat the two points above noting each time  $p$ and number of successes.\n",
    " 1. From the results you select only those where number of successes was equal to `tosses[:10].sum()`\n",
    " 1. The distributiion of $p$ in this selected results should match our posterior!\n",
    " \n",
    " Let's check this."
   ]
  },
  {
   "cell_type": "code",
   "execution_count": 21,
   "id": "96d09040",
   "metadata": {
    "execution": {
     "iopub.execute_input": "2021-04-28T13:54:51.549840Z",
     "iopub.status.busy": "2021-04-28T13:54:51.549316Z",
     "iopub.status.idle": "2021-04-28T13:54:51.551462Z",
     "shell.execute_reply": "2021-04-28T13:54:51.551976Z"
    },
    "slideshow": {
     "slide_type": "slide"
    }
   },
   "outputs": [],
   "source": [
    "def experiment(prior,n,size):\n",
    "    p = prior.rvs(size=size)\n",
    "    return np.stack((p,st.binom(n=n, p=p).rvs()), axis=1)"
   ]
  },
  {
   "cell_type": "code",
   "execution_count": 22,
   "id": "c95b6751",
   "metadata": {
    "execution": {
     "iopub.execute_input": "2021-04-28T13:54:51.556215Z",
     "iopub.status.busy": "2021-04-28T13:54:51.555501Z",
     "iopub.status.idle": "2021-04-28T13:54:51.747604Z",
     "shell.execute_reply": "2021-04-28T13:54:51.748052Z"
    }
   },
   "outputs": [],
   "source": [
    "res = experiment(st.beta(alpha, beta),10,1000000)"
   ]
  },
  {
   "cell_type": "code",
   "execution_count": 23,
   "id": "e6a24d38",
   "metadata": {
    "execution": {
     "iopub.execute_input": "2021-04-28T13:54:51.752896Z",
     "iopub.status.busy": "2021-04-28T13:54:51.752297Z",
     "iopub.status.idle": "2021-04-28T13:54:51.979012Z",
     "shell.execute_reply": "2021-04-28T13:54:51.979331Z"
    },
    "slideshow": {
     "slide_type": "slide"
    }
   },
   "outputs": [
    {
     "data": {
      "image/png": "[encoded data removed]",
      "text/plain": [
       "<Figure size 864x576 with 1 Axes>"
      ]
     },
     "metadata": {
      "needs_background": "light"
     },
     "output_type": "display_data"
    }
   ],
   "source": [
    "plt.hist(res[res[:,1]==tosses[:10].sum()][:,0], bins=50, density=True, label=ab_string(alpha, beta));\n",
    "draw_beta_posterior(alpha,beta,tosses[:10], label=ab_string(alpha, beta))\n",
    "draw_beta_posterior(3,3,tosses[:10], label=ab_string(3, 3))\n",
    "draw_beta_posterior(1,1,tosses[:10], label=ab_string(1, 1))\n",
    "plt.legend(title = 'Priors');"
   ]
  },
  {
   "cell_type": "markdown",
   "id": "ad82264e",
   "metadata": {
    "slideshow": {
     "slide_type": "notes"
    }
   },
   "source": [
    "As we can see we indeed get the predicted posterior distribution. Unfortunatelly this requires us to get our prior right."
   ]
  },
  {
   "cell_type": "markdown",
   "id": "06c30cde",
   "metadata": {
    "slideshow": {
     "slide_type": "notes"
    }
   },
   "source": [
    "With more data the dependence of the posterior on the prior diminishes"
   ]
  },
  {
   "cell_type": "code",
   "execution_count": 24,
   "id": "c0e3d2f4",
   "metadata": {
    "execution": {
     "iopub.execute_input": "2021-04-28T13:54:51.982605Z",
     "iopub.status.busy": "2021-04-28T13:54:51.982140Z",
     "iopub.status.idle": "2021-04-28T13:54:52.189856Z",
     "shell.execute_reply": "2021-04-28T13:54:52.190290Z"
    },
    "slideshow": {
     "slide_type": "slide"
    }
   },
   "outputs": [],
   "source": [
    "res_100 = experiment(st.beta(alpha, beta),100,1000000)"
   ]
  },
  {
   "cell_type": "code",
   "execution_count": 25,
   "id": "6002c788",
   "metadata": {
    "execution": {
     "iopub.execute_input": "2021-04-28T13:54:52.194902Z",
     "iopub.status.busy": "2021-04-28T13:54:52.194327Z",
     "iopub.status.idle": "2021-04-28T13:54:52.400801Z",
     "shell.execute_reply": "2021-04-28T13:54:52.401121Z"
    },
    "slideshow": {
     "slide_type": "fragment"
    }
   },
   "outputs": [
    {
     "data": {
      "image/png": "[encoded data removed]",
      "text/plain": [
       "<Figure size 864x576 with 1 Axes>"
      ]
     },
     "metadata": {
      "needs_background": "light"
     },
     "output_type": "display_data"
    }
   ],
   "source": [
    "plt.hist(res_100[res_100[:,1]==tosses[:100].sum()][:,0], bins=50, density=True);\n",
    "draw_beta_posterior(alpha,beta,tosses[:100], label=ab_string(alpha, beta))\n",
    "draw_beta_posterior(3,3,tosses[:100], label=ab_string(1,1), c='red')\n",
    "draw_beta_posterior(1,1,tosses[:100], label=ab_string(1,1))\n",
    "plt.legend();"
   ]
  },
  {
   "cell_type": "markdown",
   "id": "9a5785fe",
   "metadata": {
    "slideshow": {
     "slide_type": "notes"
    }
   },
   "source": [
    "So let's see how the posterior distribution evolves with increasing number of tosses. Below we draw posterior distribution after different number of tosses"
   ]
  },
  {
   "cell_type": "code",
   "execution_count": 26,
   "id": "c892aa32",
   "metadata": {
    "execution": {
     "iopub.execute_input": "2021-04-28T13:54:52.405324Z",
     "iopub.status.busy": "2021-04-28T13:54:52.404839Z",
     "iopub.status.idle": "2021-04-28T13:54:52.545960Z",
     "shell.execute_reply": "2021-04-28T13:54:52.546423Z"
    },
    "slideshow": {
     "slide_type": "slide"
    }
   },
   "outputs": [
    {
     "data": {
      "image/png": "[encoded data removed]",
      "text/plain": [
       "<Figure size 864x576 with 1 Axes>"
      ]
     },
     "metadata": {
      "needs_background": "light"
     },
     "output_type": "display_data"
    }
   ],
   "source": [
    "for n in [0, 1,2,3,4,5,10,20,50,100]:\n",
    "    draw_beta_posterior(alpha,beta,tosses[:n], label=\"{:d}\".format(n))\n",
    "plt.legend();\n",
    "plt.axvline(p_coin);"
   ]
  },
  {
   "cell_type": "markdown",
   "id": "5c18f762",
   "metadata": {
    "slideshow": {
     "slide_type": "skip"
    }
   },
   "source": [
    "And below after some more tosses"
   ]
  },
  {
   "cell_type": "code",
   "execution_count": 27,
   "id": "813182b0",
   "metadata": {
    "execution": {
     "iopub.execute_input": "2021-04-28T13:54:52.606917Z",
     "iopub.status.busy": "2021-04-28T13:54:52.606281Z",
     "iopub.status.idle": "2021-04-28T13:54:52.721650Z",
     "shell.execute_reply": "2021-04-28T13:54:52.721983Z"
    },
    "slideshow": {
     "slide_type": "slide"
    }
   },
   "outputs": [
    {
     "data": {
      "image/png": "[encoded data removed]",
      "text/plain": [
       "<Figure size 864x576 with 1 Axes>"
      ]
     },
     "metadata": {
      "needs_background": "light"
     },
     "output_type": "display_data"
    }
   ],
   "source": [
    "plt.xlim(0.2,0.5)\n",
    "for n in [100,200,500,1000,5000]:\n",
    "    draw_beta_posterior(alpha,beta,tosses[:n], label=\"{:d}\".format(n))\n",
    "plt.legend();\n",
    "plt.axvline(p_coin);"
   ]
  },
  {
   "cell_type": "markdown",
   "id": "83dc5837",
   "metadata": {
    "slideshow": {
     "slide_type": "notes"
    }
   },
   "source": [
    "Let's compare  how the estimated value converges to the real one for different priors. We will use the maximal a posteriori estimate of $p$ "
   ]
  },
  {
   "cell_type": "markdown",
   "id": "7d5ee063",
   "metadata": {
    "slideshow": {
     "slide_type": "slide",
     "slideshow": {
      "slide_type": "slide"
     }
    }
   },
   "source": [
    "#### MAP (Maximal a posteriori)"
   ]
  },
  {
   "cell_type": "markdown",
   "id": "87bb252c",
   "metadata": {
    "slideshow": {
     "slide_type": "skip"
    }
   },
   "source": [
    "Because mode of the Beta distribution is "
   ]
  },
  {
   "cell_type": "markdown",
   "id": "7ebc920a",
   "metadata": {
    "slideshow": {
     "slide_type": "fragment",
     "slideshow": {
      "slide_type": "fragment"
     }
    }
   },
   "source": [
    "$$\\frac{\\alpha-1}{\\alpha+\\beta-2},\\qquad \\alpha, \\beta>1$$"
   ]
  },
  {
   "cell_type": "markdown",
   "id": "ee8111c8",
   "metadata": {
    "slideshow": {
     "slide_type": "skip"
    }
   },
   "source": [
    "the mode of posterior is:"
   ]
  },
  {
   "cell_type": "markdown",
   "id": "9d8c3f82",
   "metadata": {
    "slideshow": {
     "slide_type": "fragment",
     "slideshow": {
      "slide_type": "fragment"
     }
    }
   },
   "source": [
    "$$p_{MAP}=\\frac{\\alpha-1+\\no}{\\alpha-1+\\no+\\beta-1+\\nz}$$"
   ]
  },
  {
   "cell_type": "code",
   "execution_count": 28,
   "id": "1b6cc0db",
   "metadata": {
    "execution": {
     "iopub.execute_input": "2021-04-28T13:54:52.725460Z",
     "iopub.status.busy": "2021-04-28T13:54:52.724996Z",
     "iopub.status.idle": "2021-04-28T13:54:52.728869Z",
     "shell.execute_reply": "2021-04-28T13:54:52.729241Z"
    },
    "slideshow": {
     "slide_type": "skip"
    }
   },
   "outputs": [],
   "source": [
    "cs  = np.cumsum(tosses)\n",
    "ns  = np.arange(1.0, len(cs)+1)\n",
    "avs = cs/ns\n",
    "post_avs = (cs + alpha-1)/(ns+alpha+beta -2 )"
   ]
  },
  {
   "cell_type": "markdown",
   "id": "3f263df5",
   "metadata": {
    "slideshow": {
     "slide_type": "notes"
    }
   },
   "source": [
    "So adding a Beta prior amounts to adding $\\alpha-1$  and $\\beta-1$  repectively to  $\\no$ and $\\nz$. "
   ]
  },
  {
   "cell_type": "code",
   "execution_count": 29,
   "id": "c3f1f756",
   "metadata": {
    "execution": {
     "iopub.execute_input": "2021-04-28T13:54:52.767813Z",
     "iopub.status.busy": "2021-04-28T13:54:52.767311Z",
     "iopub.status.idle": "2021-04-28T13:54:52.838052Z",
     "shell.execute_reply": "2021-04-28T13:54:52.838383Z"
    },
    "slideshow": {
     "slide_type": "slide"
    }
   },
   "outputs": [
    {
     "data": {
      "image/png": "[encoded data removed]",
      "text/plain": [
       "<Figure size 864x576 with 1 Axes>"
      ]
     },
     "metadata": {
      "needs_background": "light"
     },
     "output_type": "display_data"
    }
   ],
   "source": [
    "l = 500\n",
    "plt.plot(ns[:l],avs[:l],'.', label='uniform prior');\n",
    "plt.plot(ns[:l],post_avs[:l],'.', label='prior');\n",
    "plt.axhline(p_coin, linewidth=1, c='grey')\n",
    "plt.legend();"
   ]
  },
  {
   "cell_type": "markdown",
   "id": "e807edfe",
   "metadata": {
    "slideshow": {
     "slide_type": "notes"
    }
   },
   "source": [
    "We can see that after few tens/houndreds of tosses both estimate behave in the same way, but with informative prior  we get better results for small number of tosses. "
   ]
  },
  {
   "cell_type": "markdown",
   "id": "2a48ecb4",
   "metadata": {
    "slideshow": {
     "slide_type": "slide",
     "slideshow": {
      "slide_type": "slide"
     }
    }
   },
   "source": [
    "### Posterior predictive distribution"
   ]
  },
  {
   "cell_type": "markdown",
   "id": "de68857e",
   "metadata": {
    "slideshow": {
     "slide_type": "notes"
    }
   },
   "source": [
    "We can ask what is the probability of the coin comming head up after seing it come head up $\\no$ times in $n$ trials? The answer is the integral"
   ]
  },
  {
   "cell_type": "markdown",
   "id": "4fca2897",
   "metadata": {
    "slideshow": {
     "slide_type": "fragment",
     "slideshow": {
      "slide_type": "fragment"
     }
    }
   },
   "source": [
    "$$P(X=1|\\no,\\nz)=\\int\\limits_0^1\\text{d}p \\,P(X=1|p) P(p|\\no,\\nz) = \\int\\limits_0^1\\text{d}p\\, p\\, P(p|\\no,\\nz)$$"
   ]
  },
  {
   "cell_type": "markdown",
   "id": "865d0726",
   "metadata": {},
   "source": [
    "which is an expectation value (mean) of the posterior  distribution leading to:"
   ]
  },
  {
   "cell_type": "markdown",
   "id": "a7ac9dab",
   "metadata": {
    "slideshow": {
     "slide_type": "fragment",
     "slideshow": {
      "slide_type": "fragment"
     }
    }
   },
   "source": [
    "$$P(X=1|\\no,\\nz)=\\frac{\\alpha+\\no}{\\alpha+\\no+\\beta+\\nz}$$"
   ]
  },
  {
   "cell_type": "markdown",
   "id": "8ad879c0",
   "metadata": {
    "slideshow": {
     "slide_type": "notes"
    }
   },
   "source": [
    "With uniform prior we obtain the so called"
   ]
  },
  {
   "cell_type": "markdown",
   "id": "bbd67602",
   "metadata": {
    "slideshow": {
     "slide_type": "slide",
     "slideshow": {
      "slide_type": "slide"
     }
    }
   },
   "source": [
    "#### Laplace Rule of succession"
   ]
  },
  {
   "cell_type": "markdown",
   "id": "3e04ad16",
   "metadata": {
    "slideshow": {
     "slide_type": "-"
    }
   },
   "source": [
    "The probability of succes after seing $\\no$ successes   and $\\nz$ failures  is"
   ]
  },
  {
   "cell_type": "markdown",
   "id": "108ee61e",
   "metadata": {
    "slideshow": {
     "slide_type": "-",
     "slideshow": {
      "slide_type": "fragment"
     }
    }
   },
   "source": [
    "$$P(succes) = \\frac{\\no+1}{\\no+\\nz +2}$$"
   ]
  },
  {
   "cell_type": "markdown",
   "id": "e3799144",
   "metadata": {
    "slideshow": {
     "slide_type": "notes"
    }
   },
   "source": [
    "This is also known as  _Laplace smoothing_. "
   ]
  },
  {
   "cell_type": "markdown",
   "id": "7438cab9",
   "metadata": {
    "slideshow": {
     "slide_type": "slide"
    },
    "tags": [
     "problem"
    ]
   },
   "source": [
    "__Problem__  Amazon reviews"
   ]
  },
  {
   "cell_type": "markdown",
   "id": "a8d81ced",
   "metadata": {
    "slideshow": {
     "slide_type": "-",
     "slideshow": {
      "slide_type": "-"
     }
    },
    "tags": [
     "problem"
    ]
   },
   "source": [
    "You can buy same item from two  sellers one with 90 positive  and 10 negative reviews and another with 6 positive  and no negative reviews.\n",
    "From which you should buy ? What assumption you had to make?"
   ]
  },
  {
   "cell_type": "markdown",
   "id": "b888df5c",
   "metadata": {
    "jupyter": {
     "source_hidden": true
    },
    "slideshow": {
     "slide_type": "skip"
    },
    "tags": [
     "answer"
    ]
   },
   "source": [
    "Let's assume that for each seller sale is  an independent Bernoulli trial with success denoting no problems for the buyer. The other assuption that we are going to make is that all buyers write the reviews.  If so then by the rule of succession probability of success for the first buyer on the next deal is"
   ]
  },
  {
   "cell_type": "code",
   "execution_count": 30,
   "id": "fd73ee55",
   "metadata": {
    "collapsed": true,
    "execution": {
     "iopub.execute_input": "2021-04-28T13:54:52.841848Z",
     "iopub.status.busy": "2021-04-28T13:54:52.841320Z",
     "iopub.status.idle": "2021-04-28T13:54:52.844458Z",
     "shell.execute_reply": "2021-04-28T13:54:52.844125Z"
    },
    "jupyter": {
     "outputs_hidden": true,
     "source_hidden": true
    },
    "slideshow": {
     "slide_type": "skip"
    },
    "tags": [
     "answer"
    ]
   },
   "outputs": [
    {
     "data": {
      "text/plain": [
       "0.8921568627450981"
      ]
     },
     "execution_count": 30,
     "metadata": {},
     "output_type": "execute_result"
    }
   ],
   "source": [
    "(90+1)/(100+2)"
   ]
  },
  {
   "cell_type": "markdown",
   "id": "c4149214",
   "metadata": {
    "jupyter": {
     "source_hidden": true
    },
    "slideshow": {
     "slide_type": "skip"
    },
    "tags": [
     "answer"
    ]
   },
   "source": [
    "and for the second"
   ]
  },
  {
   "cell_type": "code",
   "execution_count": 31,
   "id": "8a914e0c",
   "metadata": {
    "collapsed": true,
    "execution": {
     "iopub.execute_input": "2021-04-28T13:54:52.847832Z",
     "iopub.status.busy": "2021-04-28T13:54:52.847281Z",
     "iopub.status.idle": "2021-04-28T13:54:52.849558Z",
     "shell.execute_reply": "2021-04-28T13:54:52.849891Z"
    },
    "jupyter": {
     "outputs_hidden": true,
     "source_hidden": true
    },
    "slideshow": {
     "slide_type": "skip"
    },
    "tags": [
     "answer"
    ]
   },
   "outputs": [
    {
     "data": {
      "text/plain": [
       "0.875"
      ]
     },
     "execution_count": 31,
     "metadata": {},
     "output_type": "execute_result"
    }
   ],
   "source": [
    "(6+1)/(6+2)"
   ]
  },
  {
   "cell_type": "markdown",
   "id": "d07a1e54",
   "metadata": {
    "jupyter": {
     "source_hidden": true
    },
    "slideshow": {
     "slide_type": "skip"
    },
    "tags": [
     "answer"
    ]
   },
   "source": [
    "We should buy from the first. "
   ]
  },
  {
   "cell_type": "markdown",
   "id": "97c8b00a",
   "metadata": {
    "slideshow": {
     "slide_type": "slide"
    }
   },
   "source": [
    "## Categorical variables"
   ]
  },
  {
   "cell_type": "markdown",
   "id": "a830b62e",
   "metadata": {
    "slideshow": {
     "slide_type": "notes"
    }
   },
   "source": [
    "A natural generalisation of the Bernoulli distribution is the multinouilli or categorical distribution and the generilsation of the binomial distribution is the _multinomial_ distribution. "
   ]
  },
  {
   "cell_type": "markdown",
   "id": "999c36ad",
   "metadata": {
    "slideshow": {
     "slide_type": "notes"
    }
   },
   "source": [
    "Let's say we have $m$ categories with probability $p_k$ for each category. Then after $n$ trials the probability that we $n_k$ results in category $k$ is: "
   ]
  },
  {
   "cell_type": "markdown",
   "id": "76d25091",
   "metadata": {
    "slideshow": {
     "slide_type": "fragment"
    }
   },
   "source": [
    "$$P(n_1,\\ldots, n_{m}|p_1,\\ldots, p_{m}) = \\frac{N!}{n_1!\\cdots n_{m}!}p_1^{n_1}\\cdots p_{m}^{n_{m}}$$"
   ]
  },
  {
   "cell_type": "markdown",
   "id": "ae357ab5",
   "metadata": {
    "slideshow": {
     "slide_type": "slide"
    }
   },
   "source": [
    "### Example: Dice"
   ]
  },
  {
   "cell_type": "markdown",
   "id": "919b251a",
   "metadata": {
    "slideshow": {
     "slide_type": "-"
    }
   },
   "source": [
    "$$m=6,\\quad p_i=\\frac{1}{6} \\qquad P(n_1,\\ldots, n_{6}) = \\frac{N!}{n_1!\\cdots n_{m}!}\\frac{1}{6^N}$$"
   ]
  },
  {
   "cell_type": "markdown",
   "id": "4c04f190",
   "metadata": {
    "slideshow": {
     "slide_type": "slide"
    }
   },
   "source": [
    "### Dirichlet distribution"
   ]
  },
  {
   "cell_type": "markdown",
   "id": "b560690b",
   "metadata": {
    "slideshow": {
     "slide_type": "notes"
    }
   },
   "source": [
    "Conjugate prior  to this distribution is the Dirichlet distribution which is a generalisation of the Beta distribution. It has $m$ parameters $\\alpha_k$ and its probability mass function is"
   ]
  },
  {
   "cell_type": "markdown",
   "id": "d28fd74a",
   "metadata": {
    "slideshow": {
     "slide_type": "fragment"
    }
   },
   "source": [
    "$$P_{Dir}(p_1,\\ldots,p_{m}|\\alpha_1,\\ldots,\\alpha_{m}) = \\frac{\\Gamma\\left(\\sum\\limits_{i=1}^{m} \\alpha_i\\right)}{\\prod\\limits_{i=1}^{m}\\Gamma(\\alpha_i)}\n",
    "\\prod\\limits_{i=1}^{m}p_i^{\\alpha_i-1}$$"
   ]
  },
  {
   "cell_type": "markdown",
   "id": "1a226aee",
   "metadata": {
    "slideshow": {
     "slide_type": "slide"
    }
   },
   "source": [
    "#### Posterior"
   ]
  },
  {
   "cell_type": "markdown",
   "id": "f95b3b31",
   "metadata": {
    "slideshow": {
     "slide_type": "skip"
    }
   },
   "source": [
    "It is easy to check that the posterior on $p_k$ density is given by the  Dirichet distribution with paramerters $\\alpha_1+n_1,\\ldots, \\alpha_{m}+n_{m}$."
   ]
  },
  {
   "cell_type": "markdown",
   "id": "4015fb76",
   "metadata": {
    "slideshow": {
     "slide_type": "fragment"
    }
   },
   "source": [
    "$$P(p_1,\\ldots, p_{m}|n_1,\\ldots, n_{m})=P_{Dir}(p_1,\\ldots,p_{m}|\\alpha_1+n_1,\\ldots,\\alpha_{m}+n_m)$$"
   ]
  },
  {
   "cell_type": "markdown",
   "id": "e0e4cc5f",
   "metadata": {
    "slideshow": {
     "slide_type": "notes"
    }
   },
   "source": [
    "The maximal a posteriori estimate is:"
   ]
  },
  {
   "cell_type": "markdown",
   "id": "d9b5d4e6",
   "metadata": {
    "slideshow": {
     "slide_type": "fragment"
    }
   },
   "source": [
    "$$p_k = \\frac{n_k+\\alpha_k-1}{n + \\sum_i \\alpha_k-m}$$"
   ]
  },
  {
   "cell_type": "markdown",
   "id": "44bad31a",
   "metadata": {
    "slideshow": {
     "slide_type": "skip"
    }
   },
   "source": [
    "and Laplace smoothing takes the form:"
   ]
  },
  {
   "cell_type": "markdown",
   "id": "9a5be270",
   "metadata": {
    "slideshow": {
     "slide_type": "fragment"
    }
   },
   "source": [
    "$$p_k = \\frac{n_k+1}{\\sum_{k=1}^m n_k  + m}$$"
   ]
  },
  {
   "cell_type": "markdown",
   "id": "8b840990",
   "metadata": {
    "slideshow": {
     "slide_type": "slide"
    }
   },
   "source": [
    "You can learn more _.e.g._ from [\"Bayesian Methods for Hackers](https://github.com/CamDavidsonPilon/Probabilistic-Programming-and-Bayesian-Methods-for-Hackers). "
   ]
  },
  {
   "cell_type": "markdown",
   "id": "ae3a1947",
   "metadata": {
    "slideshow": {
     "slide_type": "slide"
    }
   },
   "source": [
    "## A/B test"
   ]
  },
  {
   "cell_type": "markdown",
   "id": "1aab2f2a",
   "metadata": {
    "slideshow": {
     "slide_type": "-"
    }
   },
   "source": [
    "This example was taken from Kaggle [Mobile games: A/B Testing](https://www.kaggle.com/yufengsui/mobile-games-ab-testing). It concerns an A/B test with a mobile game [Cookie Cats](https://tactilegames.com/cookie-cats/). The players were given two versions of the game differing by the level were the first gate that forced them to wait was placed. Measured was the retention on day one and  day seven as well as total number of game rounds played  during firts 14 days. "
   ]
  },
  {
   "cell_type": "code",
   "execution_count": 32,
   "id": "c80439b4",
   "metadata": {
    "execution": {
     "iopub.execute_input": "2021-04-28T13:54:52.852713Z",
     "iopub.status.busy": "2021-04-28T13:54:52.852212Z",
     "iopub.status.idle": "2021-04-28T13:54:53.137604Z",
     "shell.execute_reply": "2021-04-28T13:54:53.138101Z"
    },
    "slideshow": {
     "slide_type": "skip"
    }
   },
   "outputs": [],
   "source": [
    "import pandas as pd"
   ]
  },
  {
   "cell_type": "code",
   "execution_count": 33,
   "id": "dd654bbf",
   "metadata": {
    "execution": {
     "iopub.execute_input": "2021-04-28T13:54:53.141879Z",
     "iopub.status.busy": "2021-04-28T13:54:53.141189Z",
     "iopub.status.idle": "2021-04-28T13:54:53.180134Z",
     "shell.execute_reply": "2021-04-28T13:54:53.180519Z"
    },
    "slideshow": {
     "slide_type": "slide"
    }
   },
   "outputs": [],
   "source": [
    "ab_data=pd.read_csv(\"../../Data/AB/cookie_cats.csv\")"
   ]
  },
  {
   "cell_type": "code",
   "execution_count": 34,
   "id": "4074604b",
   "metadata": {
    "execution": {
     "iopub.execute_input": "2021-04-28T13:54:53.184541Z",
     "iopub.status.busy": "2021-04-28T13:54:53.183963Z",
     "iopub.status.idle": "2021-04-28T13:54:53.192942Z",
     "shell.execute_reply": "2021-04-28T13:54:53.193371Z"
    },
    "slideshow": {
     "slide_type": "fragment"
    }
   },
   "outputs": [
    {
     "data": {
      "text/html": [
       "<div>\n",
       "<style scoped>\n",
       "    .dataframe tbody tr th:only-of-type {\n",
       "        vertical-align: middle;\n",
       "    }\n",
       "\n",
       "    .dataframe tbody tr th {\n",
       "        vertical-align: top;\n",
       "    }\n",
       "\n",
       "    .dataframe thead th {\n",
       "        text-align: right;\n",
       "    }\n",
       "</style>\n",
       "<table border=\"1\" class=\"dataframe\">\n",
       "  <thead>\n",
       "    <tr style=\"text-align: right;\">\n",
       "      <th></th>\n",
       "      <th>userid</th>\n",
       "      <th>version</th>\n",
       "      <th>sum_gamerounds</th>\n",
       "      <th>retention_1</th>\n",
       "      <th>retention_7</th>\n",
       "    </tr>\n",
       "  </thead>\n",
       "  <tbody>\n",
       "    <tr>\n",
       "      <th>0</th>\n",
       "      <td>116</td>\n",
       "      <td>gate_30</td>\n",
       "      <td>3</td>\n",
       "      <td>False</td>\n",
       "      <td>False</td>\n",
       "    </tr>\n",
       "    <tr>\n",
       "      <th>1</th>\n",
       "      <td>337</td>\n",
       "      <td>gate_30</td>\n",
       "      <td>38</td>\n",
       "      <td>True</td>\n",
       "      <td>False</td>\n",
       "    </tr>\n",
       "    <tr>\n",
       "      <th>2</th>\n",
       "      <td>377</td>\n",
       "      <td>gate_40</td>\n",
       "      <td>165</td>\n",
       "      <td>True</td>\n",
       "      <td>False</td>\n",
       "    </tr>\n",
       "  </tbody>\n",
       "</table>\n",
       "</div>"
      ],
      "text/plain": [
       "   userid  version  sum_gamerounds  retention_1  retention_7\n",
       "0     116  gate_30               3        False        False\n",
       "1     337  gate_30              38         True        False\n",
       "2     377  gate_40             165         True        False"
      ]
     },
     "execution_count": 34,
     "metadata": {},
     "output_type": "execute_result"
    }
   ],
   "source": [
    "ab_data.head(3)"
   ]
  },
  {
   "cell_type": "code",
   "execution_count": 35,
   "id": "2821b255",
   "metadata": {
    "execution": {
     "iopub.execute_input": "2021-04-28T13:54:53.202150Z",
     "iopub.status.busy": "2021-04-28T13:54:53.201570Z",
     "iopub.status.idle": "2021-04-28T13:54:53.209802Z",
     "shell.execute_reply": "2021-04-28T13:54:53.210219Z"
    },
    "slideshow": {
     "slide_type": "slide"
    }
   },
   "outputs": [
    {
     "name": "stdout",
     "output_type": "stream",
     "text": [
      "<class 'pandas.core.frame.DataFrame'>\n",
      "RangeIndex: 90189 entries, 0 to 90188\n",
      "Data columns (total 5 columns):\n",
      " #   Column          Non-Null Count  Dtype \n",
      "---  ------          --------------  ----- \n",
      " 0   userid          90189 non-null  int64 \n",
      " 1   version         90189 non-null  object\n",
      " 2   sum_gamerounds  90189 non-null  int64 \n",
      " 3   retention_1     90189 non-null  bool  \n",
      " 4   retention_7     90189 non-null  bool  \n",
      "dtypes: bool(2), int64(2), object(1)\n",
      "memory usage: 2.2+ MB\n"
     ]
    }
   ],
   "source": [
    "ab_data.info()"
   ]
  },
  {
   "cell_type": "code",
   "execution_count": 36,
   "id": "d69affc2",
   "metadata": {
    "execution": {
     "iopub.execute_input": "2021-04-28T13:54:53.216172Z",
     "iopub.status.busy": "2021-04-28T13:54:53.215594Z",
     "iopub.status.idle": "2021-04-28T13:54:53.228419Z",
     "shell.execute_reply": "2021-04-28T13:54:53.228945Z"
    },
    "slideshow": {
     "slide_type": "-"
    }
   },
   "outputs": [
    {
     "data": {
      "text/html": [
       "<div>\n",
       "<style scoped>\n",
       "    .dataframe tbody tr th:only-of-type {\n",
       "        vertical-align: middle;\n",
       "    }\n",
       "\n",
       "    .dataframe tbody tr th {\n",
       "        vertical-align: top;\n",
       "    }\n",
       "\n",
       "    .dataframe thead th {\n",
       "        text-align: right;\n",
       "    }\n",
       "</style>\n",
       "<table border=\"1\" class=\"dataframe\">\n",
       "  <thead>\n",
       "    <tr style=\"text-align: right;\">\n",
       "      <th></th>\n",
       "      <th>userid</th>\n",
       "      <th>sum_gamerounds</th>\n",
       "    </tr>\n",
       "  </thead>\n",
       "  <tbody>\n",
       "    <tr>\n",
       "      <th>count</th>\n",
       "      <td>9.018900e+04</td>\n",
       "      <td>90189.000000</td>\n",
       "    </tr>\n",
       "    <tr>\n",
       "      <th>mean</th>\n",
       "      <td>4.998412e+06</td>\n",
       "      <td>51.872457</td>\n",
       "    </tr>\n",
       "    <tr>\n",
       "      <th>std</th>\n",
       "      <td>2.883286e+06</td>\n",
       "      <td>195.050858</td>\n",
       "    </tr>\n",
       "    <tr>\n",
       "      <th>min</th>\n",
       "      <td>1.160000e+02</td>\n",
       "      <td>0.000000</td>\n",
       "    </tr>\n",
       "    <tr>\n",
       "      <th>25%</th>\n",
       "      <td>2.512230e+06</td>\n",
       "      <td>5.000000</td>\n",
       "    </tr>\n",
       "    <tr>\n",
       "      <th>50%</th>\n",
       "      <td>4.995815e+06</td>\n",
       "      <td>16.000000</td>\n",
       "    </tr>\n",
       "    <tr>\n",
       "      <th>75%</th>\n",
       "      <td>7.496452e+06</td>\n",
       "      <td>51.000000</td>\n",
       "    </tr>\n",
       "    <tr>\n",
       "      <th>max</th>\n",
       "      <td>9.999861e+06</td>\n",
       "      <td>49854.000000</td>\n",
       "    </tr>\n",
       "  </tbody>\n",
       "</table>\n",
       "</div>"
      ],
      "text/plain": [
       "             userid  sum_gamerounds\n",
       "count  9.018900e+04    90189.000000\n",
       "mean   4.998412e+06       51.872457\n",
       "std    2.883286e+06      195.050858\n",
       "min    1.160000e+02        0.000000\n",
       "25%    2.512230e+06        5.000000\n",
       "50%    4.995815e+06       16.000000\n",
       "75%    7.496452e+06       51.000000\n",
       "max    9.999861e+06    49854.000000"
      ]
     },
     "execution_count": 36,
     "metadata": {},
     "output_type": "execute_result"
    }
   ],
   "source": [
    "ab_data.describe()"
   ]
  },
  {
   "cell_type": "markdown",
   "id": "e2c2200d",
   "metadata": {
    "slideshow": {
     "slide_type": "skip"
    }
   },
   "source": [
    "This descriptions shows a suspiciously large maximum number of  rounds played. Let's look more closely at the distribution"
   ]
  },
  {
   "cell_type": "code",
   "execution_count": 37,
   "id": "6c3207b9",
   "metadata": {
    "execution": {
     "iopub.execute_input": "2021-04-28T13:54:53.232241Z",
     "iopub.status.busy": "2021-04-28T13:54:53.231694Z",
     "iopub.status.idle": "2021-04-28T13:54:53.425928Z",
     "shell.execute_reply": "2021-04-28T13:54:53.426314Z"
    },
    "slideshow": {
     "slide_type": "slide"
    }
   },
   "outputs": [
    {
     "data": {
      "image/png": "[encoded data removed]",
      "text/plain": [
       "<Figure size 864x576 with 1 Axes>"
      ]
     },
     "metadata": {
      "needs_background": "light"
     },
     "output_type": "display_data"
    }
   ],
   "source": [
    "ab_data.sum_gamerounds.hist(bins=100);"
   ]
  },
  {
   "cell_type": "markdown",
   "id": "4330c86b",
   "metadata": {
    "slideshow": {
     "slide_type": "notes"
    }
   },
   "source": [
    "The histogram indicated that this is  a outlier, probably an error. A look at ten biggest values confirms that"
   ]
  },
  {
   "cell_type": "code",
   "execution_count": 38,
   "id": "3a01f731",
   "metadata": {
    "execution": {
     "iopub.execute_input": "2021-04-28T13:54:53.429180Z",
     "iopub.status.busy": "2021-04-28T13:54:53.428711Z",
     "iopub.status.idle": "2021-04-28T13:54:53.438032Z",
     "shell.execute_reply": "2021-04-28T13:54:53.438485Z"
    },
    "slideshow": {
     "slide_type": "slide"
    }
   },
   "outputs": [
    {
     "data": {
      "text/plain": [
       "57702    49854\n",
       "7912      2961\n",
       "29417     2640\n",
       "43671     2438\n",
       "48188     2294\n",
       "46344     2251\n",
       "87007     2156\n",
       "36933     2124\n",
       "88328     2063\n",
       "6536      2015\n",
       "Name: sum_gamerounds, dtype: int64"
      ]
     },
     "execution_count": 38,
     "metadata": {},
     "output_type": "execute_result"
    }
   ],
   "source": [
    "ab_data.sum_gamerounds.sort_values(ascending=False)[:10]"
   ]
  },
  {
   "cell_type": "markdown",
   "id": "9e676c51",
   "metadata": {
    "slideshow": {
     "slide_type": "skip"
    }
   },
   "source": [
    "So we will eliminate this row from the table"
   ]
  },
  {
   "cell_type": "code",
   "execution_count": 39,
   "id": "af78a651",
   "metadata": {
    "execution": {
     "iopub.execute_input": "2021-04-28T13:54:53.441968Z",
     "iopub.status.busy": "2021-04-28T13:54:53.441351Z",
     "iopub.status.idle": "2021-04-28T13:54:53.446187Z",
     "shell.execute_reply": "2021-04-28T13:54:53.446569Z"
    },
    "slideshow": {
     "slide_type": "fragment"
    }
   },
   "outputs": [],
   "source": [
    "imax = ab_data.sum_gamerounds.argmax()\n",
    "ab_data = ab_data.drop(imax, axis=0) "
   ]
  },
  {
   "cell_type": "code",
   "execution_count": 40,
   "id": "305fca4d",
   "metadata": {
    "execution": {
     "iopub.execute_input": "2021-04-28T13:54:53.463547Z",
     "iopub.status.busy": "2021-04-28T13:54:53.463000Z",
     "iopub.status.idle": "2021-04-28T13:54:53.692529Z",
     "shell.execute_reply": "2021-04-28T13:54:53.692858Z"
    },
    "slideshow": {
     "slide_type": "slide"
    }
   },
   "outputs": [
    {
     "data": {
      "image/png": "[encoded data removed]",
      "text/plain": [
       "<Figure size 864x576 with 1 Axes>"
      ]
     },
     "metadata": {
      "needs_background": "light"
     },
     "output_type": "display_data"
    }
   ],
   "source": [
    "ab_data.sum_gamerounds.hist(bins=100);"
   ]
  },
  {
   "cell_type": "markdown",
   "id": "99074858",
   "metadata": {
    "slideshow": {
     "slide_type": "notes"
    }
   },
   "source": [
    "After this preliminary cleaning of data we have to split it into two groups according to game version."
   ]
  },
  {
   "cell_type": "code",
   "execution_count": 41,
   "id": "ba3b9f8e",
   "metadata": {
    "execution": {
     "iopub.execute_input": "2021-04-28T13:54:53.696529Z",
     "iopub.status.busy": "2021-04-28T13:54:53.695826Z",
     "iopub.status.idle": "2021-04-28T13:54:53.697550Z",
     "shell.execute_reply": "2021-04-28T13:54:53.697865Z"
    },
    "slideshow": {
     "slide_type": "slide"
    }
   },
   "outputs": [],
   "source": [
    "by_version = ab_data.groupby('version')"
   ]
  },
  {
   "cell_type": "code",
   "execution_count": 42,
   "id": "c6736513",
   "metadata": {
    "execution": {
     "iopub.execute_input": "2021-04-28T13:54:53.703202Z",
     "iopub.status.busy": "2021-04-28T13:54:53.702457Z",
     "iopub.status.idle": "2021-04-28T13:54:53.711107Z",
     "shell.execute_reply": "2021-04-28T13:54:53.711513Z"
    },
    "slideshow": {
     "slide_type": "fragment"
    }
   },
   "outputs": [],
   "source": [
    "A = by_version.get_group('gate_30')\n",
    "B = by_version.get_group('gate_40')"
   ]
  },
  {
   "cell_type": "code",
   "execution_count": 43,
   "id": "284761ff",
   "metadata": {
    "execution": {
     "iopub.execute_input": "2021-04-28T13:54:53.715318Z",
     "iopub.status.busy": "2021-04-28T13:54:53.714769Z",
     "iopub.status.idle": "2021-04-28T13:54:53.716879Z",
     "shell.execute_reply": "2021-04-28T13:54:53.717274Z"
    },
    "slideshow": {
     "slide_type": "fragment"
    }
   },
   "outputs": [],
   "source": [
    "def get_stats(series):\n",
    "    n  = series.count()\n",
    "    n1 = series.sum()\n",
    "    return (n1, n-n1)\n",
    "\n",
    "def posterior(n1, n0, a=1,b=1):\n",
    "    return st.beta(a = n1+a, b = n0+b)"
   ]
  },
  {
   "cell_type": "markdown",
   "id": "e91faa03",
   "metadata": {
    "slideshow": {
     "slide_type": "notes"
    }
   },
   "source": [
    "We will calculate the posterior distribution of of retention rates assuming uniform prior. "
   ]
  },
  {
   "cell_type": "code",
   "execution_count": 44,
   "id": "b2b3a5c3",
   "metadata": {
    "execution": {
     "iopub.execute_input": "2021-04-28T13:54:53.722261Z",
     "iopub.status.busy": "2021-04-28T13:54:53.721627Z",
     "iopub.status.idle": "2021-04-28T13:54:53.723828Z",
     "shell.execute_reply": "2021-04-28T13:54:53.724289Z"
    },
    "slideshow": {
     "slide_type": "slide"
    }
   },
   "outputs": [
    {
     "data": {
      "text/plain": [
       "(20034, 24665)"
      ]
     },
     "execution_count": 44,
     "metadata": {},
     "output_type": "execute_result"
    }
   ],
   "source": [
    "r1_A = get_stats(A.retention_1)\n",
    "r1_A_post = posterior(*r1_A)\n",
    "r1_A"
   ]
  },
  {
   "cell_type": "code",
   "execution_count": 45,
   "id": "dca4d63a",
   "metadata": {
    "execution": {
     "iopub.execute_input": "2021-04-28T13:54:53.729831Z",
     "iopub.status.busy": "2021-04-28T13:54:53.729214Z",
     "iopub.status.idle": "2021-04-28T13:54:53.731564Z",
     "shell.execute_reply": "2021-04-28T13:54:53.731953Z"
    },
    "slideshow": {
     "slide_type": "-"
    }
   },
   "outputs": [
    {
     "data": {
      "text/plain": [
       "(20119, 25370)"
      ]
     },
     "execution_count": 45,
     "metadata": {},
     "output_type": "execute_result"
    }
   ],
   "source": [
    "r1_B = get_stats(B.retention_1)\n",
    "r1_B_post = posterior(*r1_B)\n",
    "r1_B"
   ]
  },
  {
   "cell_type": "markdown",
   "id": "a7fb96b1",
   "metadata": {
    "slideshow": {
     "slide_type": "notes"
    }
   },
   "source": [
    "We can plot those  distributions, first in the whole domain"
   ]
  },
  {
   "cell_type": "code",
   "execution_count": 46,
   "id": "5ef48b76",
   "metadata": {
    "execution": {
     "iopub.execute_input": "2021-04-28T13:54:53.768002Z",
     "iopub.status.busy": "2021-04-28T13:54:53.767542Z",
     "iopub.status.idle": "2021-04-28T13:54:53.833685Z",
     "shell.execute_reply": "2021-04-28T13:54:53.834013Z"
    },
    "slideshow": {
     "slide_type": "slide"
    }
   },
   "outputs": [
    {
     "data": {
      "image/png": "[encoded data removed]",
      "text/plain": [
       "<Figure size 864x576 with 1 Axes>"
      ]
     },
     "metadata": {
      "needs_background": "light"
     },
     "output_type": "display_data"
    }
   ],
   "source": [
    "ps=np.linspace(0,1,500)\n",
    "plt.plot(ps, r1_A_post.pdf(ps), label='gate_30');\n",
    "plt.plot(ps, r1_B_post.pdf(ps), label='gate_40');\n",
    "plt.legend();"
   ]
  },
  {
   "cell_type": "markdown",
   "id": "1f305505",
   "metadata": {
    "slideshow": {
     "slide_type": "skip"
    }
   },
   "source": [
    "and then  once we know where to look, in more details"
   ]
  },
  {
   "cell_type": "code",
   "execution_count": 47,
   "id": "e3f979c3",
   "metadata": {
    "execution": {
     "iopub.execute_input": "2021-04-28T13:54:53.868974Z",
     "iopub.status.busy": "2021-04-28T13:54:53.868478Z",
     "iopub.status.idle": "2021-04-28T13:54:53.938735Z",
     "shell.execute_reply": "2021-04-28T13:54:53.939065Z"
    },
    "slideshow": {
     "slide_type": "slide"
    }
   },
   "outputs": [
    {
     "data": {
      "image/png": "[encoded data removed]",
      "text/plain": [
       "<Figure size 864x576 with 1 Axes>"
      ]
     },
     "metadata": {
      "needs_background": "light"
     },
     "output_type": "display_data"
    }
   ],
   "source": [
    "ps=np.linspace(0.4,.5,500)\n",
    "plt.plot(ps, r1_A_post.pdf(ps),label  = \"gate_30\");\n",
    "plt.plot(ps, r1_B_post.pdf(ps), label = \"gate_40\");\n",
    "plt.legend();"
   ]
  },
  {
   "cell_type": "markdown",
   "id": "37b47592",
   "metadata": {
    "slideshow": {
     "slide_type": "notes"
    }
   },
   "source": [
    "We see that increasing the first gate level decreased the retention rate on average by"
   ]
  },
  {
   "cell_type": "code",
   "execution_count": 48,
   "id": "39b69c63",
   "metadata": {
    "execution": {
     "iopub.execute_input": "2021-04-28T13:54:53.943567Z",
     "iopub.status.busy": "2021-04-28T13:54:53.942688Z",
     "iopub.status.idle": "2021-04-28T13:54:53.945246Z",
     "shell.execute_reply": "2021-04-28T13:54:53.945567Z"
    },
    "slideshow": {
     "slide_type": "fragment"
    }
   },
   "outputs": [
    {
     "data": {
      "text/plain": [
       "-0.005914976776531522"
      ]
     },
     "execution_count": 48,
     "metadata": {},
     "output_type": "execute_result"
    }
   ],
   "source": [
    "r1_B_post.mean() - r1_A_post.mean()"
   ]
  },
  {
   "cell_type": "markdown",
   "id": "3fa531dd",
   "metadata": {
    "slideshow": {
     "slide_type": "skip"
    }
   },
   "source": [
    "which is a one percent effect "
   ]
  },
  {
   "cell_type": "code",
   "execution_count": 49,
   "id": "97162754",
   "metadata": {
    "execution": {
     "iopub.execute_input": "2021-04-28T13:54:53.949524Z",
     "iopub.status.busy": "2021-04-28T13:54:53.948965Z",
     "iopub.status.idle": "2021-04-28T13:54:53.951064Z",
     "shell.execute_reply": "2021-04-28T13:54:53.951379Z"
    },
    "slideshow": {
     "slide_type": "fragment"
    }
   },
   "outputs": [
    {
     "data": {
      "text/plain": [
       "-0.013197173790253834"
      ]
     },
     "execution_count": 49,
     "metadata": {},
     "output_type": "execute_result"
    }
   ],
   "source": [
    "(r1_B_post.mean() - r1_A_post.mean())/r1_A_post.mean()"
   ]
  },
  {
   "cell_type": "markdown",
   "id": "d881465d",
   "metadata": {
    "slideshow": {
     "slide_type": "notes"
    }
   },
   "source": [
    "I have no idea if effect of this size is relevant for business, but we can ask is it statistically relevant? Because we have the posterior distributions of $r_A$ and $r_B$, one way of answering that question is to sample from distributions of differences:"
   ]
  },
  {
   "cell_type": "code",
   "execution_count": 50,
   "id": "85751127",
   "metadata": {
    "execution": {
     "iopub.execute_input": "2021-04-28T13:54:53.954060Z",
     "iopub.status.busy": "2021-04-28T13:54:53.953526Z",
     "iopub.status.idle": "2021-04-28T13:54:53.969965Z",
     "shell.execute_reply": "2021-04-28T13:54:53.970314Z"
    },
    "slideshow": {
     "slide_type": "slide"
    }
   },
   "outputs": [],
   "source": [
    "r1_sample_A = r1_A_post.rvs(size=100000)\n",
    "r1_sample_B = r1_B_post.rvs(size=100000)\n",
    "r1_diff = r1_sample_B-r1_sample_A"
   ]
  },
  {
   "cell_type": "code",
   "execution_count": 51,
   "id": "036ea911",
   "metadata": {
    "execution": {
     "iopub.execute_input": "2021-04-28T13:54:53.984672Z",
     "iopub.status.busy": "2021-04-28T13:54:53.984213Z",
     "iopub.status.idle": "2021-04-28T13:54:54.073570Z",
     "shell.execute_reply": "2021-04-28T13:54:54.073894Z"
    },
    "slideshow": {
     "slide_type": "slide"
    }
   },
   "outputs": [
    {
     "data": {
      "image/png": "[encoded data removed]",
      "text/plain": [
       "<Figure size 864x576 with 1 Axes>"
      ]
     },
     "metadata": {
      "needs_background": "light"
     },
     "output_type": "display_data"
    }
   ],
   "source": [
    "plt.hist(r1_diff, bins=100, density=True, histtype='step');\n",
    "plt.axvline(r1_diff.mean())\n",
    "plt.axvline(0, c='grey');\n",
    "plt.xlabel('$\\Delta r_1$')\n",
    "plt.ylabel('P(\\Delta r_1)');"
   ]
  },
  {
   "cell_type": "markdown",
   "id": "3460285c",
   "metadata": {
    "slideshow": {
     "slide_type": "notes"
    }
   },
   "source": [
    "The above histogram strongly suggest that  observed difference is a real effect. We can  formulate this more formally by using  highest density regions (HDR). "
   ]
  },
  {
   "cell_type": "markdown",
   "id": "5dc711e9",
   "metadata": {
    "slideshow": {
     "slide_type": "slide"
    }
   },
   "source": [
    "### Highest density region (HDR)"
   ]
  },
  {
   "cell_type": "markdown",
   "id": "a5d7e2e0",
   "metadata": {},
   "source": [
    "$\\beta$ HDR is a region where at least $\\beta$ of probability is concentrated and has smallest possible volume in the sample space, hence highest density. More formal definition given below.  "
   ]
  },
  {
   "cell_type": "markdown",
   "id": "9abe7cec",
   "metadata": {
    "slideshow": {
     "slide_type": "skip"
    }
   },
   "source": [
    "Let $P_X(p)$ be de density function of  some random variable $X$ with values in $R_X$. Let' $R_X(p)$ be the subsets of $R_X$ such  that "
   ]
  },
  {
   "cell_type": "markdown",
   "id": "8d2b72ee",
   "metadata": {
    "slideshow": {
     "slide_type": "skip"
    }
   },
   "source": [
    "$$ R(p) = \\{x\\in R_X: P_X(x)\\ge p\\}$$"
   ]
  },
  {
   "cell_type": "markdown",
   "id": "c68028ee",
   "metadata": {
    "slideshow": {
     "slide_type": "skip"
    }
   },
   "source": [
    "The $\\beta$ HDR is equal to $R(p_\\beta)$ where $p_\\beta$ is the largest constant such that"
   ]
  },
  {
   "cell_type": "markdown",
   "id": "2f31e1d1",
   "metadata": {
    "slideshow": {
     "slide_type": "skip"
    }
   },
   "source": [
    "$$P\\left(X\\in R(p_\\beta)\\right)\\ge \\beta$$"
   ]
  },
  {
   "cell_type": "markdown",
   "id": "6a7f68d6",
   "metadata": {
    "slideshow": {
     "slide_type": "skip"
    }
   },
   "source": [
    "Given this definition functions below find and plot such region for given histogram."
   ]
  },
  {
   "cell_type": "code",
   "execution_count": 52,
   "id": "6c761220",
   "metadata": {
    "execution": {
     "iopub.execute_input": "2021-04-28T13:54:54.083653Z",
     "iopub.status.busy": "2021-04-28T13:54:54.083178Z",
     "iopub.status.idle": "2021-04-28T13:54:54.085862Z",
     "shell.execute_reply": "2021-04-28T13:54:54.085497Z"
    },
    "slideshow": {
     "slide_type": "skip"
    }
   },
   "outputs": [],
   "source": [
    "def find_edges(prob,f):\n",
    "    \n",
    "    pr = np.zeros(len(prob)+2)\n",
    "    pr[1:-1]=prob\n",
    "    in_r = pr>f\n",
    "    return np.logical_xor(in_r[1:] , in_r[:-1])\n",
    "    \n",
    "\n",
    "def hdr(prob, edges, beta, tol=0.00001):\n",
    "    widths = edges[1:]-edges[:-1]\n",
    "    \n",
    "    def area_under(f):\n",
    "        return np.sum(widths*prob*(prob>f))\n",
    "    \n",
    "    fb = prob.max()\n",
    "    mb = area_under(fb)\n",
    "    fa = 0\n",
    "    ma = area_under(fa)\n",
    " \n",
    "    \n",
    "    while (fb-fa) > tol:\n",
    "       \n",
    "        fc = (fb+fa)/2\n",
    "        mc = area_under(fc)\n",
    "       \n",
    "        if mc > beta:\n",
    "            fa = fc\n",
    "            ma = mc\n",
    "        else:\n",
    "            fb = fc\n",
    "            mb = mc\n",
    "     \n",
    "    fmax = (fb+fa)/2\n",
    "    \n",
    "    e = find_edges(prob, fmax)\n",
    "    return (edges[e], fmax,np.argwhere(e).flatten())\n",
    "\n",
    "def plot_hdr(prob, edges, ie, **kwargs):\n",
    "    eprobs = np.append(prob, 0.0)\n",
    "    for i in range(0,len(ie),2):\n",
    "        plt.fill_between(edges[ie[i]:ie[i+1]+1], eprobs[ie[i]:ie[i+1]+1], \n",
    "                     step = 'post', **kwargs);\n",
    "    "
   ]
  },
  {
   "cell_type": "code",
   "execution_count": 53,
   "id": "73423eee",
   "metadata": {
    "execution": {
     "iopub.execute_input": "2021-04-28T13:54:54.104751Z",
     "iopub.status.busy": "2021-04-28T13:54:54.104141Z",
     "iopub.status.idle": "2021-04-28T13:54:54.194914Z",
     "shell.execute_reply": "2021-04-28T13:54:54.195268Z"
    },
    "slideshow": {
     "slide_type": "slide"
    }
   },
   "outputs": [
    {
     "data": {
      "image/png": "[encoded data removed]",
      "text/plain": [
       "<Figure size 864x576 with 1 Axes>"
      ]
     },
     "metadata": {
      "needs_background": "light"
     },
     "output_type": "display_data"
    }
   ],
   "source": [
    "beta = 0.9\n",
    "prob, bin_edges,_ = plt.hist(r1_diff, bins=100, density=True, histtype='step')\n",
    "R_intervals, fmax,  i_R_intervals = hdr(prob, bin_edges, beta)\n",
    "plot_hdr(prob, bin_edges, i_R_intervals, alpha=0.2, color='blue', label = \"{:3.2f} HDR\".format(beta))\n",
    "plt.legend();"
   ]
  },
  {
   "cell_type": "markdown",
   "id": "2fd35ece",
   "metadata": {},
   "source": [
    "We see that zero difference lies outside the 0.9 HDR. "
   ]
  },
  {
   "cell_type": "markdown",
   "id": "3b374aa5",
   "metadata": {
    "slideshow": {
     "slide_type": "skip"
    }
   },
   "source": [
    "Belowe we repeat this analysis foe day seven retention."
   ]
  },
  {
   "cell_type": "code",
   "execution_count": 54,
   "id": "c7ce3b25",
   "metadata": {
    "execution": {
     "iopub.execute_input": "2021-04-28T13:54:54.200282Z",
     "iopub.status.busy": "2021-04-28T13:54:54.199674Z",
     "iopub.status.idle": "2021-04-28T13:54:54.201901Z",
     "shell.execute_reply": "2021-04-28T13:54:54.202278Z"
    },
    "slideshow": {
     "slide_type": "slide"
    }
   },
   "outputs": [
    {
     "data": {
      "text/plain": [
       "(8501, 36198)"
      ]
     },
     "execution_count": 54,
     "metadata": {},
     "output_type": "execute_result"
    }
   ],
   "source": [
    "r7_A = get_stats(A.retention_7)\n",
    "r7_A_post = posterior(*r7_A)\n",
    "r7_A"
   ]
  },
  {
   "cell_type": "code",
   "execution_count": 55,
   "id": "861055bd",
   "metadata": {
    "execution": {
     "iopub.execute_input": "2021-04-28T13:54:54.206274Z",
     "iopub.status.busy": "2021-04-28T13:54:54.205766Z",
     "iopub.status.idle": "2021-04-28T13:54:54.207936Z",
     "shell.execute_reply": "2021-04-28T13:54:54.208371Z"
    }
   },
   "outputs": [
    {
     "data": {
      "text/plain": [
       "(8279, 37210)"
      ]
     },
     "execution_count": 55,
     "metadata": {},
     "output_type": "execute_result"
    }
   ],
   "source": [
    "r7_B = get_stats(B.retention_7)\n",
    "r7_B_post = posterior(*r7_B)\n",
    "r7_B"
   ]
  },
  {
   "cell_type": "code",
   "execution_count": 56,
   "id": "6cbf03f6",
   "metadata": {
    "execution": {
     "iopub.execute_input": "2021-04-28T13:54:54.224211Z",
     "iopub.status.busy": "2021-04-28T13:54:54.223748Z",
     "iopub.status.idle": "2021-04-28T13:54:54.303434Z",
     "shell.execute_reply": "2021-04-28T13:54:54.303724Z"
    },
    "slideshow": {
     "slide_type": "slide"
    }
   },
   "outputs": [
    {
     "data": {
      "image/png": "[encoded data removed]",
      "text/plain": [
       "<Figure size 864x576 with 1 Axes>"
      ]
     },
     "metadata": {
      "needs_background": "light"
     },
     "output_type": "display_data"
    }
   ],
   "source": [
    "ps=np.linspace(0,1,500)\n",
    "plt.plot(ps, r7_A_post.pdf(ps), label='gate_30');\n",
    "plt.plot(ps, r7_B_post.pdf(ps), label='gate_40');\n",
    "plt.legend();"
   ]
  },
  {
   "cell_type": "code",
   "execution_count": 57,
   "id": "5344e1da",
   "metadata": {
    "execution": {
     "iopub.execute_input": "2021-04-28T13:54:54.336681Z",
     "iopub.status.busy": "2021-04-28T13:54:54.336223Z",
     "iopub.status.idle": "2021-04-28T13:54:54.405761Z",
     "shell.execute_reply": "2021-04-28T13:54:54.406084Z"
    },
    "slideshow": {
     "slide_type": "slide"
    }
   },
   "outputs": [
    {
     "data": {
      "image/png": "[encoded data removed]",
      "text/plain": [
       "<Figure size 864x576 with 1 Axes>"
      ]
     },
     "metadata": {
      "needs_background": "light"
     },
     "output_type": "display_data"
    }
   ],
   "source": [
    "ps=np.linspace(0.1,.3,500)\n",
    "plt.plot(ps, r7_A_post.pdf(ps),label  = \"gate_30\");\n",
    "plt.plot(ps, r7_B_post.pdf(ps), label = \"gate_40\");\n",
    "plt.legend();"
   ]
  },
  {
   "cell_type": "code",
   "execution_count": 58,
   "id": "268bf9dc",
   "metadata": {
    "execution": {
     "iopub.execute_input": "2021-04-28T13:54:54.409245Z",
     "iopub.status.busy": "2021-04-28T13:54:54.408797Z",
     "iopub.status.idle": "2021-04-28T13:54:54.425481Z",
     "shell.execute_reply": "2021-04-28T13:54:54.425832Z"
    },
    "slideshow": {
     "slide_type": "slide"
    }
   },
   "outputs": [],
   "source": [
    "r7_sample_A = r7_A_post.rvs(size=100000)\n",
    "r7_sample_B = r7_B_post.rvs(size=100000)\n",
    "r7_diff = r7_sample_B-r7_sample_A"
   ]
  },
  {
   "cell_type": "code",
   "execution_count": 59,
   "id": "06146273",
   "metadata": {
    "execution": {
     "iopub.execute_input": "2021-04-28T13:54:54.440850Z",
     "iopub.status.busy": "2021-04-28T13:54:54.440209Z",
     "iopub.status.idle": "2021-04-28T13:54:54.524479Z",
     "shell.execute_reply": "2021-04-28T13:54:54.524961Z"
    },
    "slideshow": {
     "slide_type": "slide"
    }
   },
   "outputs": [
    {
     "data": {
      "text/plain": [
       "Text(0, 0.5, 'P(\\\\Delta r_1)')"
      ]
     },
     "execution_count": 59,
     "metadata": {},
     "output_type": "execute_result"
    },
    {
     "data": {
      "image/png": "[encoded data removed]",
      "text/plain": [
       "<Figure size 864x576 with 1 Axes>"
      ]
     },
     "metadata": {
      "needs_background": "light"
     },
     "output_type": "display_data"
    }
   ],
   "source": [
    "plt.hist(r7_diff, bins=100, density=True, histtype='step');\n",
    "plt.axvline(r7_diff.mean())\n",
    "plt.axvline(0, c='grey');\n",
    "plt.xlabel('$\\Delta r_1$')\n",
    "plt.ylabel('P(\\Delta r_1)')"
   ]
  },
  {
   "cell_type": "code",
   "execution_count": 60,
   "id": "4161af39",
   "metadata": {
    "execution": {
     "iopub.execute_input": "2021-04-28T13:54:54.541004Z",
     "iopub.status.busy": "2021-04-28T13:54:54.540472Z",
     "iopub.status.idle": "2021-04-28T13:54:54.617584Z",
     "shell.execute_reply": "2021-04-28T13:54:54.617912Z"
    },
    "slideshow": {
     "slide_type": "slide"
    }
   },
   "outputs": [
    {
     "data": {
      "image/png": "[encoded data removed]",
      "text/plain": [
       "<Figure size 864x576 with 1 Axes>"
      ]
     },
     "metadata": {
      "needs_background": "light"
     },
     "output_type": "display_data"
    }
   ],
   "source": [
    "prob, bin_edges,_ = plt.hist(r7_diff, bins=100, density=True, histtype='step')\n",
    "R_intervals, fmax,  i_R_intervals = hdr(prob, bin_edges, 0.9)\n",
    "plot_hdr(prob, bin_edges, i_R_intervals, alpha =0.2 , color='blue')"
   ]
  },
  {
   "cell_type": "markdown",
   "id": "74902cf3",
   "metadata": {
    "slideshow": {
     "slide_type": "notes"
    }
   },
   "source": [
    "The Monte-Carlo technique is every powerfull and allows for more elaborate analysis. "
   ]
  },
  {
   "cell_type": "markdown",
   "id": "9e46e0d1",
   "metadata": {
    "slideshow": {
     "slide_type": "notes"
    },
    "tags": [
     "problem"
    ]
   },
   "source": [
    "__Problem__  Difference between the number of persons playing the game on day one."
   ]
  },
  {
   "cell_type": "markdown",
   "id": "8935bb85",
   "metadata": {
    "slideshow": {
     "slide_type": "notes"
    },
    "tags": [
     "problem"
    ]
   },
   "source": [
    "Assume that each day 10000 persons on average downloads and installs the game. The distribution of this number is Poisson distribution. Plot the distribution of the number of people that will play the game on day one. "
   ]
  },
  {
   "cell_type": "code",
   "execution_count": 61,
   "id": "d28562c0",
   "metadata": {
    "execution": {
     "iopub.execute_input": "2021-04-28T13:54:54.621061Z",
     "iopub.status.busy": "2021-04-28T13:54:54.620575Z",
     "iopub.status.idle": "2021-04-28T13:54:54.622599Z",
     "shell.execute_reply": "2021-04-28T13:54:54.623066Z"
    },
    "jupyter": {
     "source_hidden": true
    },
    "slideshow": {
     "slide_type": "notes"
    },
    "tags": [
     "answer"
    ]
   },
   "outputs": [],
   "source": [
    "n_samples = 100000"
   ]
  },
  {
   "cell_type": "markdown",
   "id": "5cd92035",
   "metadata": {
    "jupyter": {
     "source_hidden": true
    },
    "slideshow": {
     "slide_type": "notes"
    },
    "tags": [
     "answer"
    ]
   },
   "source": [
    "First we create the Poisson distribution object and use it to generate a sample of number of downloads per day. "
   ]
  },
  {
   "cell_type": "code",
   "execution_count": 62,
   "id": "61d0288b",
   "metadata": {
    "execution": {
     "iopub.execute_input": "2021-04-28T13:54:54.626306Z",
     "iopub.status.busy": "2021-04-28T13:54:54.625850Z",
     "iopub.status.idle": "2021-04-28T13:54:54.633171Z",
     "shell.execute_reply": "2021-04-28T13:54:54.633521Z"
    },
    "jupyter": {
     "source_hidden": true
    },
    "slideshow": {
     "slide_type": "notes"
    },
    "tags": [
     "answer"
    ]
   },
   "outputs": [],
   "source": [
    "n_average = 10000\n",
    "n_dist = st.poisson(mu = n_average)\n",
    "n_in_day = n_dist.rvs(size=n_samples)"
   ]
  },
  {
   "cell_type": "markdown",
   "id": "6d7c291d",
   "metadata": {
    "jupyter": {
     "source_hidden": true
    },
    "slideshow": {
     "slide_type": "notes"
    },
    "tags": [
     "answer"
    ]
   },
   "source": [
    "Then we simulate same number of retention rates samples"
   ]
  },
  {
   "cell_type": "code",
   "execution_count": 63,
   "id": "fdf47f8b",
   "metadata": {
    "execution": {
     "iopub.execute_input": "2021-04-28T13:54:54.636455Z",
     "iopub.status.busy": "2021-04-28T13:54:54.635969Z",
     "iopub.status.idle": "2021-04-28T13:54:54.654715Z",
     "shell.execute_reply": "2021-04-28T13:54:54.655059Z"
    },
    "jupyter": {
     "source_hidden": true
    },
    "slideshow": {
     "slide_type": "notes"
    },
    "tags": [
     "answer"
    ]
   },
   "outputs": [],
   "source": [
    "r1_As = r1_A_post.rvs(size=n_samples)\n",
    "r1_Bs = r1_B_post.rvs(size=n_samples)"
   ]
  },
  {
   "cell_type": "markdown",
   "id": "627b5c0b",
   "metadata": {
    "jupyter": {
     "source_hidden": true
    },
    "slideshow": {
     "slide_type": "notes"
    },
    "tags": [
     "answer"
    ]
   },
   "source": [
    "We combine  for each sample simulating the binomial distribution with given number of downloads and  given retention rate. "
   ]
  },
  {
   "cell_type": "code",
   "execution_count": 64,
   "id": "11bab504",
   "metadata": {
    "execution": {
     "iopub.execute_input": "2021-04-28T13:54:54.658209Z",
     "iopub.status.busy": "2021-04-28T13:54:54.657697Z",
     "iopub.status.idle": "2021-04-28T13:54:54.673428Z",
     "shell.execute_reply": "2021-04-28T13:54:54.673783Z"
    },
    "jupyter": {
     "source_hidden": true
    },
    "slideshow": {
     "slide_type": "notes"
    },
    "tags": [
     "answer"
    ]
   },
   "outputs": [],
   "source": [
    "n_ret1_A = st.binom.rvs(n=n_in_day, p=r1_As, size=n_samples)\n",
    "n_ret1_B = st.binom.rvs(n=n_in_day, p=r1_Bs, size=n_samples)"
   ]
  },
  {
   "cell_type": "markdown",
   "id": "91f581ca",
   "metadata": {
    "jupyter": {
     "source_hidden": true
    },
    "slideshow": {
     "slide_type": "notes"
    },
    "tags": [
     "answer"
    ]
   },
   "source": [
    "And finally we plot the histogram of differences"
   ]
  },
  {
   "cell_type": "code",
   "execution_count": 65,
   "id": "4bb03b86",
   "metadata": {
    "collapsed": true,
    "execution": {
     "iopub.execute_input": "2021-04-28T13:54:54.677069Z",
     "iopub.status.busy": "2021-04-28T13:54:54.676453Z",
     "iopub.status.idle": "2021-04-28T13:54:54.766840Z",
     "shell.execute_reply": "2021-04-28T13:54:54.767166Z"
    },
    "jupyter": {
     "outputs_hidden": true,
     "source_hidden": true
    },
    "slideshow": {
     "slide_type": "notes"
    },
    "tags": [
     "answer"
    ]
   },
   "outputs": [
    {
     "data": {
      "image/png": "[encoded data removed]",
      "text/plain": [
       "<Figure size 864x576 with 1 Axes>"
      ]
     },
     "metadata": {
      "needs_background": "light"
     },
     "output_type": "display_data"
    }
   ],
   "source": [
    "plt.hist(n_ret1_B-n_ret1_A, bins=np.arange(-500,300,10), density=True, histtype='step');"
   ]
  },
  {
   "cell_type": "code",
   "execution_count": null,
   "id": "5148f3df",
   "metadata": {},
   "outputs": [],
   "source": []
  }
 ],
 "metadata": {
  "jupytext": {
   "text_representation": {
    "extension": ".Rmd",
    "format_name": "rmarkdown",
    "format_version": "1.2",
    "jupytext_version": "1.11.1"
   }
  },
  "kernelspec": {
   "display_name": "Python 3",
   "language": "python",
   "name": "python3"
  },
  "language_info": {
   "codemirror_mode": {
    "name": "ipython",
    "version": 3
   },
   "file_extension": ".py",
   "mimetype": "text/x-python",
   "name": "python",
   "nbconvert_exporter": "python",
   "pygments_lexer": "ipython3",
   "version": "3.9.2"
  }
 },
 "nbformat": 4,
 "nbformat_minor": 5
}