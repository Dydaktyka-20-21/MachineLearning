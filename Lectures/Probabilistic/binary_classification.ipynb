{
 "cells": [
  {
   "cell_type": "code",
   "execution_count": 1,
   "id": "7deda750",
   "metadata": {
    "execution": {
     "iopub.execute_input": "2021-04-28T13:56:04.305139Z",
     "iopub.status.busy": "2021-04-28T13:56:04.304430Z",
     "iopub.status.idle": "2021-04-28T13:56:04.741441Z",
     "shell.execute_reply": "2021-04-28T13:56:04.741833Z"
    }
   },
   "outputs": [],
   "source": [
    "import matplotlib.pyplot as plt\n",
    "import numpy as np\n",
    "import scipy.stats as st"
   ]
  },
  {
   "cell_type": "code",
   "execution_count": 2,
   "id": "579b915e",
   "metadata": {
    "execution": {
     "iopub.execute_input": "2021-04-28T13:56:04.745992Z",
     "iopub.status.busy": "2021-04-28T13:56:04.745541Z",
     "iopub.status.idle": "2021-04-28T13:56:04.747246Z",
     "shell.execute_reply": "2021-04-28T13:56:04.747699Z"
    },
    "slideshow": {
     "slide_type": "-"
    }
   },
   "outputs": [],
   "source": [
    "#This ensures that the plots are displayes automatically without need to call plt.show().\n",
    "%matplotlib inline\n",
    "plt.rcParams[\"figure.figsize\"] = [12,8] #Setting the default figure size for  plotting."
   ]
  },
  {
   "cell_type": "markdown",
   "id": "433250c0",
   "metadata": {},
   "source": [
    "# Binary classification"
   ]
  },
  {
   "cell_type": "markdown",
   "id": "d6002752",
   "metadata": {
    "slideshow": {
     "slide_type": "slide"
    }
   },
   "source": [
    "## Estimating sex of a person based on it's height"
   ]
  },
  {
   "cell_type": "markdown",
   "id": "b1f5829f",
   "metadata": {},
   "source": [
    "Let's consider classfication of persons as women and men based on their height. \n",
    "To model this we will use  `stats` module from `scipy` which we have imported at the begining of the notebook."
   ]
  },
  {
   "cell_type": "code",
   "execution_count": 3,
   "id": "af5d48b0",
   "metadata": {
    "execution": {
     "iopub.execute_input": "2021-04-28T13:56:04.751962Z",
     "iopub.status.busy": "2021-04-28T13:56:04.751318Z",
     "iopub.status.idle": "2021-04-28T13:56:04.753730Z",
     "shell.execute_reply": "2021-04-28T13:56:04.753389Z"
    },
    "slideshow": {
     "slide_type": "slide"
    }
   },
   "outputs": [],
   "source": [
    "# The height is given in centimeters\n",
    "pd_h_cond_F = st.norm(166,6.1)\n",
    "pd_h_cond_M = st.norm(178,7)"
   ]
  },
  {
   "cell_type": "markdown",
   "id": "f627f436",
   "metadata": {},
   "source": [
    "The numbers were taken from the publication [Women in Poland](https://stat.gov.pl/cps/rde/xbcr/gus/Kobiety_w_Polsce.pdf) published by Polish Central Statistical Office (page 82)."
   ]
  },
  {
   "cell_type": "markdown",
   "id": "c75e92ab",
   "metadata": {},
   "source": [
    "Those are objects representing distributions and have methods for calculating probability distribution functions. Functions in Python are first class objects and we can assign them to variables"
   ]
  },
  {
   "cell_type": "code",
   "execution_count": 4,
   "id": "7d066b76",
   "metadata": {
    "execution": {
     "iopub.execute_input": "2021-04-28T13:56:04.756721Z",
     "iopub.status.busy": "2021-04-28T13:56:04.756235Z",
     "iopub.status.idle": "2021-04-28T13:56:04.758329Z",
     "shell.execute_reply": "2021-04-28T13:56:04.758649Z"
    },
    "slideshow": {
     "slide_type": "slide"
    }
   },
   "outputs": [],
   "source": [
    "pdf_h_cond_F = pd_h_cond_F.pdf\n",
    "pdf_h_cond_M = pd_h_cond_M.pdf"
   ]
  },
  {
   "cell_type": "code",
   "execution_count": 5,
   "id": "8b4b1740",
   "metadata": {
    "execution": {
     "iopub.execute_input": "2021-04-28T13:56:04.762061Z",
     "iopub.status.busy": "2021-04-28T13:56:04.761595Z",
     "iopub.status.idle": "2021-04-28T13:56:04.767806Z",
     "shell.execute_reply": "2021-04-28T13:56:04.768248Z"
    },
    "slideshow": {
     "slide_type": "fragment"
    }
   },
   "outputs": [],
   "source": [
    "n_samples = 100000\n",
    "h_F = pd_h_cond_F.rvs(size = n_samples//2) # rvs stands for random variates - random numbers drawn from the distribution\n",
    "h_M = pd_h_cond_M.rvs(size = n_samples//2)\n",
    "h_FM = np.concatenate((h_F, h_M))\n",
    "labels = np.concatenate((np.ones_like(h_F, dtype='int64'), np.zeros_like(h_M, dtype='int64')))"
   ]
  },
  {
   "cell_type": "markdown",
   "id": "df8496bf",
   "metadata": {},
   "source": [
    "For illustration purposes we will use a simple classifier that classifies  all persons lower then some threshhold as women.  The function below returns such a classifier for given threshold. "
   ]
  },
  {
   "cell_type": "code",
   "execution_count": 6,
   "id": "6794582f",
   "metadata": {
    "execution": {
     "iopub.execute_input": "2021-04-28T13:56:04.771308Z",
     "iopub.status.busy": "2021-04-28T13:56:04.770792Z",
     "iopub.status.idle": "2021-04-28T13:56:04.772483Z",
     "shell.execute_reply": "2021-04-28T13:56:04.772857Z"
    }
   },
   "outputs": [],
   "source": [
    "def classifier(th):\n",
    "    return lambda h: h<th"
   ]
  },
  {
   "cell_type": "markdown",
   "id": "ab51dfe9",
   "metadata": {},
   "source": [
    "## Errors"
   ]
  },
  {
   "cell_type": "markdown",
   "id": "029e26d7",
   "metadata": {},
   "source": [
    "Of course this is very crude classifier. There are tall women and small men and classifier will make errors. Please note that those error are inherent in the problem, height by itself just does not provide enough information. But notion of error  as well as the concept of the  optimal classifier  requires some explanations. This we will discuss in the next section. "
   ]
  },
  {
   "cell_type": "markdown",
   "id": "4c16298e",
   "metadata": {},
   "source": [
    "Our classifier is an example of binary classfier which can have only two outcomes: woman or man. It is customary the refer to those outcomes as positive and negative. "
   ]
  },
  {
   "cell_type": "markdown",
   "id": "ade7d3e2",
   "metadata": {
    "slideshow": {
     "slide_type": "slide",
     "slideshow": {
      "slide_type": "slide"
     }
    }
   },
   "source": [
    "## Confusion matrix"
   ]
  },
  {
   "cell_type": "markdown",
   "id": "055acbb9",
   "metadata": {},
   "source": [
    "The performance of the binary classfier can be represented by a matrix, called _confusion matrix_:"
   ]
  },
  {
   "cell_type": "markdown",
   "id": "ea5bb4ac",
   "metadata": {
    "slideshow": {
     "slide_type": "fragment",
     "slideshow": {
      "slide_type": "slide"
     }
    }
   },
   "source": [
    "<table style=\"font-size:1.5em;\">\n",
    "<tr> <th/><th>        </th> <th colspan=2>actual</th></tr>\n",
    "<tr> <th/><th> </th><th>P</th><th>N</th></tr>\n",
    "<tr> <th/><th>predicted</th><th>F</th><th>M</th></tr>\n",
    "<tr> <th>P</th><th> F </th> <td>TP</td> <td>FP</td></tr>\n",
    "<tr> <th>N</th><th> M </th> <td>FN</td> <td>TN</td></tr>\n",
    "<tr> <th colspan=2>total</th> <td> P</td> <td>N</td></tr>\n",
    "</table>"
   ]
  },
  {
   "cell_type": "markdown",
   "id": "1da60efc",
   "metadata": {},
   "source": [
    "The columns of the matrix correspond to real classes and  rows to the outcome of the classifier. On the diagonal we have good clasification: true positives and true negatives. In our example those are women classified as women and men classified as men. "
   ]
  },
  {
   "cell_type": "markdown",
   "id": "659de91a",
   "metadata": {},
   "source": [
    "The off diagonal terms represent misclasification: false positives - men classified as women and false negatives - women classified as men. Please note that those are different types of errors and may have totally different consequences ! _E.g._ In medical tests classifying healthy person as ill has radically different consequence than clasyfying an ill person as healthy. "
   ]
  },
  {
   "cell_type": "markdown",
   "id": "14fb4491",
   "metadata": {},
   "source": [
    "False positives are also refered to as **Type I** errors and false negatives as **Type II** errors."
   ]
  },
  {
   "cell_type": "markdown",
   "id": "e5fcd6d4",
   "metadata": {},
   "source": [
    "In the above table I have somewhat missused the notation. The letters P and N  stand not only for \"positive\" and \"negative\" but also for the number of positives and negatives. I hope that the meaning will be clear from the context. "
   ]
  },
  {
   "cell_type": "markdown",
   "id": "8a77d0ea",
   "metadata": {},
   "source": [
    "Those absolute numbers can be converted into rates:"
   ]
  },
  {
   "cell_type": "markdown",
   "id": "793491c8",
   "metadata": {
    "slideshow": {
     "slide_type": "slide"
    }
   },
   "source": [
    "### Rates\n",
    "$\n",
    "\\begin{array}{cccccc}\n",
    "TPR & = &\\frac{TP}{P},&\\quad FPR & = &\\frac{FP}{N} \\\\\n",
    "FNR & = &\\frac{FN}{P},&\\quad TNR & = &\\frac{TN}{N} \\\\\n",
    "  total  &   & 1             &\\quad     &   & 1 \n",
    "\\end{array}\n",
    "$"
   ]
  },
  {
   "cell_type": "markdown",
   "id": "348505b7",
   "metadata": {},
   "source": [
    "For example the true positives rate (TPR) is the fraction of women classified as women, and false positive rate  (FPR) is the fraction of men classified as women."
   ]
  },
  {
   "cell_type": "markdown",
   "id": "6f3a761a",
   "metadata": {},
   "source": [
    "Some other quantities used to measure the performance of the binary classifier include"
   ]
  },
  {
   "cell_type": "markdown",
   "id": "22a98c1f",
   "metadata": {},
   "source": [
    "__Accuracy__ is the fraction of correct classifications"
   ]
  },
  {
   "cell_type": "markdown",
   "id": "455fc083",
   "metadata": {},
   "source": [
    "$$\\frac{TP+TN}{P+N}$$"
   ]
  },
  {
   "cell_type": "markdown",
   "id": "53f823de",
   "metadata": {
    "slideshow": {
     "slide_type": "fragment",
     "slideshow": {
      "slide_type": "slide"
     }
    }
   },
   "source": [
    "__Recall__ is another name for true positive rate "
   ]
  },
  {
   "cell_type": "markdown",
   "id": "140464b8",
   "metadata": {},
   "source": [
    "__Precision__ is the fraction of true positive cases in all cases classified as positive"
   ]
  },
  {
   "cell_type": "markdown",
   "id": "ca6d2062",
   "metadata": {
    "slideshow": {
     "slide_type": "fragment"
    }
   },
   "source": [
    "$$\\frac{TP}{TP+FP}$$ "
   ]
  },
  {
   "cell_type": "markdown",
   "id": "91d53451",
   "metadata": {},
   "source": [
    "This can be viewed as the probability that given positive results that examplar is really a positive. "
   ]
  },
  {
   "cell_type": "markdown",
   "id": "be849574",
   "metadata": {},
   "source": [
    "$\\mathbf{F_1}$ score is the harmonic mean  of precision and recall (TPR) "
   ]
  },
  {
   "cell_type": "markdown",
   "id": "f121df90",
   "metadata": {},
   "source": [
    "$$2\\cdot\\frac{precision\\cdot recall}{precision + recall} = \\frac{2\\cdot TP}{TP+FP+P}$$"
   ]
  },
  {
   "cell_type": "markdown",
   "id": "f4333a21",
   "metadata": {},
   "source": [
    "__Problem__ Medical test"
   ]
  },
  {
   "cell_type": "markdown",
   "id": "9ebf0e71",
   "metadata": {},
   "source": [
    "Consider a rare disease (1 in 250 persons) and a test that has 0.8 true positive rate and 0.1 false positive rate. "
   ]
  },
  {
   "cell_type": "markdown",
   "id": "370c49ee",
   "metadata": {},
   "source": [
    "__a__) \n",
    "Calculate the accuracy and precision and F1 score of the test . "
   ]
  },
  {
   "cell_type": "markdown",
   "id": "c7d8d912",
   "metadata": {},
   "source": [
    "__Answer__"
   ]
  },
  {
   "cell_type": "markdown",
   "id": "967c08ee",
   "metadata": {
    "jupyter": {
     "source_hidden": true
    },
    "tags": [
     "answer"
    ]
   },
   "source": [
    "We can rewrite accuracy as \n",
    "$$\\frac{TP+TN}{P+N} = \\frac{TPR\\cdot P +TN\\cdot N}{P+N} = \\frac{TPR\\cdot P }{P+N}+  \\frac{TNR\\cdot N}{P+N} = TPR\\cdot P(P)+TNR \\cdot P(N)$$\n",
    "\n",
    "We know that \n",
    "\n",
    "$$TPR=0.8,\\quad P(P)=0.004,\\quad P(N)=0.996,\\quad TNR=(1-FPR)=0.9$$ "
   ]
  },
  {
   "cell_type": "code",
   "execution_count": 7,
   "id": "fb07767d",
   "metadata": {
    "execution": {
     "iopub.execute_input": "2021-04-28T13:56:04.776057Z",
     "iopub.status.busy": "2021-04-28T13:56:04.775468Z",
     "iopub.status.idle": "2021-04-28T13:56:04.777269Z",
     "shell.execute_reply": "2021-04-28T13:56:04.777652Z"
    },
    "jupyter": {
     "source_hidden": true
    },
    "tags": [
     "answer"
    ]
   },
   "outputs": [],
   "source": [
    "TPR = 0.8\n",
    "FPR = 0.1\n",
    "PP  = 0.004\n",
    "PN  = 1-PP\n",
    "TNR = (1-FPR) "
   ]
  },
  {
   "cell_type": "markdown",
   "id": "23ef6222",
   "metadata": {
    "jupyter": {
     "source_hidden": true
    },
    "tags": [
     "answer"
    ]
   },
   "source": [
    "Giving finaly "
   ]
  },
  {
   "cell_type": "code",
   "execution_count": 8,
   "id": "94f36781",
   "metadata": {
    "collapsed": true,
    "execution": {
     "iopub.execute_input": "2021-04-28T13:56:04.780625Z",
     "iopub.status.busy": "2021-04-28T13:56:04.780091Z",
     "iopub.status.idle": "2021-04-28T13:56:04.782254Z",
     "shell.execute_reply": "2021-04-28T13:56:04.782637Z"
    },
    "jupyter": {
     "outputs_hidden": true,
     "source_hidden": true
    },
    "tags": [
     "answer"
    ]
   },
   "outputs": [
    {
     "name": "stdout",
     "output_type": "stream",
     "text": [
      "Accuracy = 0.8996\n"
     ]
    }
   ],
   "source": [
    "accuracy =  TPR *PP +TNR *PN\n",
    "print(\"Accuracy = {:.4f}\".format(accuracy))"
   ]
  },
  {
   "cell_type": "markdown",
   "id": "3c830c05",
   "metadata": {
    "jupyter": {
     "source_hidden": true
    },
    "tags": [
     "answer"
    ]
   },
   "source": [
    "Precision can be rewritten as\n",
    "\n",
    "$$\\frac{TP}{TP+FP}=\\frac{TPR\\cdot P(P)}{TPR\\cdot P(P)+FPR\\cdot P(N)}$$ \n",
    "\n",
    "After inserting number we obtain.\n"
   ]
  },
  {
   "cell_type": "code",
   "execution_count": 9,
   "id": "1dca54b2",
   "metadata": {
    "collapsed": true,
    "execution": {
     "iopub.execute_input": "2021-04-28T13:56:04.785531Z",
     "iopub.status.busy": "2021-04-28T13:56:04.785004Z",
     "iopub.status.idle": "2021-04-28T13:56:04.786903Z",
     "shell.execute_reply": "2021-04-28T13:56:04.787269Z"
    },
    "jupyter": {
     "outputs_hidden": true,
     "source_hidden": true
    },
    "tags": [
     "answer"
    ]
   },
   "outputs": [
    {
     "name": "stdout",
     "output_type": "stream",
     "text": [
      "Precision = 0.0311\n"
     ]
    }
   ],
   "source": [
    "precision = TPR*PP/(TPR*PP +FPR*PN)\n",
    "print(\"Precision = {:.4f}\".format(precision))"
   ]
  },
  {
   "cell_type": "markdown",
   "id": "497ac4f1",
   "metadata": {
    "jupyter": {
     "source_hidden": true
    },
    "tags": [
     "answer"
    ]
   },
   "source": [
    "This is not a coincidence that we have obtained same value as in Base Rate Fallacy problem in the probability notebook. Precision is exactly the conditional probability of being a true positive given that the test outcome is positive. "
   ]
  },
  {
   "cell_type": "markdown",
   "id": "58b4c534",
   "metadata": {
    "jupyter": {
     "source_hidden": true
    },
    "tags": [
     "answer"
    ]
   },
   "source": [
    "$$F_1 = \\frac{2\\cdot TP}{TP+FP+P} =  \\frac{2\\cdot TPR\\cdot P}{TPR\\cdot P+FPR\\cdot N+ P}\n",
    "=   \\frac{2\\cdot TPR\\cdot P(P)}{TPR\\cdot P(P)+FPR\\cdot P(N)+P(P)}\n",
    "$$"
   ]
  },
  {
   "cell_type": "code",
   "execution_count": 10,
   "id": "648e30bc",
   "metadata": {
    "collapsed": true,
    "execution": {
     "iopub.execute_input": "2021-04-28T13:56:04.791757Z",
     "iopub.status.busy": "2021-04-28T13:56:04.791085Z",
     "iopub.status.idle": "2021-04-28T13:56:04.793422Z",
     "shell.execute_reply": "2021-04-28T13:56:04.793804Z"
    },
    "jupyter": {
     "outputs_hidden": true,
     "source_hidden": true
    },
    "tags": [
     "answer"
    ]
   },
   "outputs": [
    {
     "data": {
      "text/plain": [
       "0.0599250936329588"
      ]
     },
     "execution_count": 10,
     "metadata": {},
     "output_type": "execute_result"
    }
   ],
   "source": [
    "2*TPR*PP/(TPR*PP + FPR*PN+PP)"
   ]
  },
  {
   "cell_type": "markdown",
   "id": "2f7d2faf",
   "metadata": {},
   "source": [
    "__b__)\n",
    "A dishonest lab is selling a test for this disease that  always gives a  negative result  and boats of 99.6% accuracy.  Are they correct? Calculate the TPR, FPR and precision and F1 score  for this test. "
   ]
  },
  {
   "cell_type": "markdown",
   "id": "c4edf498",
   "metadata": {},
   "source": [
    "__Answer__"
   ]
  },
  {
   "cell_type": "markdown",
   "id": "a0855c39",
   "metadata": {
    "jupyter": {
     "source_hidden": true
    },
    "tags": [
     "answer"
    ]
   },
   "source": [
    "For this test we have \n",
    "$$TPR=0.0\\quad \\text{and }\\quad FPR=0.0$$"
   ]
  },
  {
   "cell_type": "code",
   "execution_count": 11,
   "id": "f77b46f2",
   "metadata": {
    "execution": {
     "iopub.execute_input": "2021-04-28T13:56:04.796274Z",
     "iopub.status.busy": "2021-04-28T13:56:04.795815Z",
     "iopub.status.idle": "2021-04-28T13:56:04.797544Z",
     "shell.execute_reply": "2021-04-28T13:56:04.797204Z"
    },
    "jupyter": {
     "source_hidden": true
    },
    "tags": [
     "answer"
    ]
   },
   "outputs": [],
   "source": [
    "TPR_b = 0.0\n",
    "FPR_b = 0.0\n",
    "TNR_b = 1-FPR_b"
   ]
  },
  {
   "cell_type": "markdown",
   "id": "b419ca01",
   "metadata": {},
   "source": [
    "For accuracy this gives:"
   ]
  },
  {
   "cell_type": "code",
   "execution_count": 12,
   "id": "4d0f7f11",
   "metadata": {
    "collapsed": true,
    "execution": {
     "iopub.execute_input": "2021-04-28T13:56:04.800222Z",
     "iopub.status.busy": "2021-04-28T13:56:04.799752Z",
     "iopub.status.idle": "2021-04-28T13:56:04.801645Z",
     "shell.execute_reply": "2021-04-28T13:56:04.802127Z"
    },
    "jupyter": {
     "outputs_hidden": true,
     "source_hidden": true
    },
    "tags": [
     "answer"
    ]
   },
   "outputs": [
    {
     "name": "stdout",
     "output_type": "stream",
     "text": [
      "Accuracy = 0.9960\n"
     ]
    }
   ],
   "source": [
    "accuracy = TPR_b*PP + TNR_b*PN\n",
    "print(\"Accuracy = {:.4f}\".format(accuracy))"
   ]
  },
  {
   "cell_type": "markdown",
   "id": "01e6ce25",
   "metadata": {
    "jupyter": {
     "source_hidden": true
    },
    "tags": [
     "answer"
    ]
   },
   "source": [
    "Precision "
   ]
  },
  {
   "cell_type": "markdown",
   "id": "39227ef7",
   "metadata": {
    "jupyter": {
     "source_hidden": true
    },
    "tags": [
     "answer"
    ]
   },
   "source": [
    "$$\\frac{0}{0+0}$$"
   ]
  },
  {
   "cell_type": "markdown",
   "id": "4981461b",
   "metadata": {
    "jupyter": {
     "source_hidden": true
    },
    "tags": [
     "answer"
    ]
   },
   "source": [
    "however is not well defined. By convention we can set it to zero in this case. "
   ]
  },
  {
   "cell_type": "markdown",
   "id": "6827efd3",
   "metadata": {
    "jupyter": {
     "source_hidden": true
    },
    "tags": [
     "answer"
    ]
   },
   "source": [
    "As for the $F_1$ it actually has a well defined value"
   ]
  },
  {
   "cell_type": "code",
   "execution_count": 13,
   "id": "29b25535",
   "metadata": {
    "collapsed": true,
    "execution": {
     "iopub.execute_input": "2021-04-28T13:56:04.804903Z",
     "iopub.status.busy": "2021-04-28T13:56:04.804408Z",
     "iopub.status.idle": "2021-04-28T13:56:04.806376Z",
     "shell.execute_reply": "2021-04-28T13:56:04.806696Z"
    },
    "jupyter": {
     "outputs_hidden": true,
     "source_hidden": true
    },
    "tags": [
     "answer"
    ]
   },
   "outputs": [
    {
     "name": "stdout",
     "output_type": "stream",
     "text": [
      "F score = 0.00\n"
     ]
    }
   ],
   "source": [
    "f1_b = 2*TPR_b*PP/(TPR_b*PP + FPR_b*PN+PP)\n",
    "print(\"F score = {:4.2f}\".format(f1_b))"
   ]
  },
  {
   "cell_type": "markdown",
   "id": "80af3161",
   "metadata": {},
   "source": [
    "The above examples are meant to warn you about using the accuracy as a metric in case of the dataset with unbalanced classes _i.e._ sets where one class is much less frequent then the rest. "
   ]
  },
  {
   "cell_type": "markdown",
   "id": "ef027471",
   "metadata": {
    "slideshow": {
     "slide_type": "slide"
    }
   },
   "source": [
    "## Calculating the errors of our \"sex from height\" classifier. "
   ]
  },
  {
   "cell_type": "markdown",
   "id": "9a0d7773",
   "metadata": {},
   "source": [
    "In this case  we could actually calculate the desired quantities analitically but in most cases this is not possible and can be approximated only by actual testing. "
   ]
  },
  {
   "cell_type": "markdown",
   "id": "4c35145a",
   "metadata": {},
   "source": [
    "As we do not have real data we will use the Monte-Carlo technique. We will start by simulating the heights of 100000 persons with equal number of women and men using the properties of the distribution objects from `scipy.stats`:"
   ]
  },
  {
   "cell_type": "code",
   "execution_count": 14,
   "id": "a166cc31",
   "metadata": {
    "execution": {
     "iopub.execute_input": "2021-04-28T13:56:04.810000Z",
     "iopub.status.busy": "2021-04-28T13:56:04.809334Z",
     "iopub.status.idle": "2021-04-28T13:56:04.815764Z",
     "shell.execute_reply": "2021-04-28T13:56:04.815401Z"
    },
    "slideshow": {
     "slide_type": "fragment"
    }
   },
   "outputs": [],
   "source": [
    "n_samples = 100000\n",
    "h_F = pd_h_cond_F.rvs(size = n_samples//2) # rvs stands for random variates - random numbers drawn from the distribution\n",
    "h_M = pd_h_cond_M.rvs(size = n_samples//2)\n",
    "h_FM = np.concatenate((h_F, h_M))\n",
    "labels = np.concatenate((np.ones_like(h_F, dtype='int64'), np.zeros_like(h_M, dtype='int64')))"
   ]
  },
  {
   "cell_type": "markdown",
   "id": "aeefd8cb",
   "metadata": {},
   "source": [
    "Once we have the heights we pass them trough our classifier."
   ]
  },
  {
   "cell_type": "code",
   "execution_count": 15,
   "id": "5b18ab7f",
   "metadata": {
    "execution": {
     "iopub.execute_input": "2021-04-28T13:56:04.818340Z",
     "iopub.status.busy": "2021-04-28T13:56:04.817886Z",
     "iopub.status.idle": "2021-04-28T13:56:04.819551Z",
     "shell.execute_reply": "2021-04-28T13:56:04.819873Z"
    }
   },
   "outputs": [],
   "source": [
    "is_woman = classifier(168)"
   ]
  },
  {
   "cell_type": "code",
   "execution_count": 16,
   "id": "937547ab",
   "metadata": {
    "execution": {
     "iopub.execute_input": "2021-04-28T13:56:04.822300Z",
     "iopub.status.busy": "2021-04-28T13:56:04.821791Z",
     "iopub.status.idle": "2021-04-28T13:56:04.823454Z",
     "shell.execute_reply": "2021-04-28T13:56:04.823788Z"
    },
    "slideshow": {
     "slide_type": "slide"
    }
   },
   "outputs": [],
   "source": [
    "clasification =  is_woman(h_FM)"
   ]
  },
  {
   "cell_type": "markdown",
   "id": "479a5aa7",
   "metadata": {},
   "source": [
    "#### Accuracy "
   ]
  },
  {
   "cell_type": "code",
   "execution_count": 17,
   "id": "e6c69edb",
   "metadata": {
    "execution": {
     "iopub.execute_input": "2021-04-28T13:56:04.826481Z",
     "iopub.status.busy": "2021-04-28T13:56:04.825961Z",
     "iopub.status.idle": "2021-04-28T13:56:04.827960Z",
     "shell.execute_reply": "2021-04-28T13:56:04.828285Z"
    }
   },
   "outputs": [
    {
     "name": "stdout",
     "output_type": "stream",
     "text": [
      "0.77708\n"
     ]
    }
   ],
   "source": [
    "accuracy = (clasification == labels).sum()/n_samples\n",
    "print(accuracy)"
   ]
  },
  {
   "cell_type": "markdown",
   "id": "283402f8",
   "metadata": {},
   "source": [
    "We have used here some automatic conversion done by python. The `classification` array is an array of bools:"
   ]
  },
  {
   "cell_type": "code",
   "execution_count": 18,
   "id": "54c964ff",
   "metadata": {
    "execution": {
     "iopub.execute_input": "2021-04-28T13:56:04.831206Z",
     "iopub.status.busy": "2021-04-28T13:56:04.830643Z",
     "iopub.status.idle": "2021-04-28T13:56:04.832853Z",
     "shell.execute_reply": "2021-04-28T13:56:04.833206Z"
    }
   },
   "outputs": [
    {
     "data": {
      "text/plain": [
       "dtype('bool')"
      ]
     },
     "execution_count": 18,
     "metadata": {},
     "output_type": "execute_result"
    }
   ],
   "source": [
    "clasification.dtype"
   ]
  },
  {
   "cell_type": "markdown",
   "id": "ab568db5",
   "metadata": {},
   "source": [
    "and labels are an array of  integers. However when comparing them `True` is treated as one and `False` as zero. Comparing two arrays gives an  array of bools. The sum again treats `True` as one and `False` as zero."
   ]
  },
  {
   "cell_type": "markdown",
   "id": "3c51e4b4",
   "metadata": {},
   "source": [
    "#### False positives rate"
   ]
  },
  {
   "cell_type": "markdown",
   "id": "3f18a347",
   "metadata": {},
   "source": [
    "Because women have label 1 and men 0 this counts men that have been classified as women"
   ]
  },
  {
   "cell_type": "code",
   "execution_count": 19,
   "id": "5d1a0953",
   "metadata": {
    "execution": {
     "iopub.execute_input": "2021-04-28T13:56:04.835787Z",
     "iopub.status.busy": "2021-04-28T13:56:04.835274Z",
     "iopub.status.idle": "2021-04-28T13:56:04.838476Z",
     "shell.execute_reply": "2021-04-28T13:56:04.838806Z"
    }
   },
   "outputs": [
    {
     "name": "stdout",
     "output_type": "stream",
     "text": [
      "0.07688\n"
     ]
    }
   ],
   "source": [
    "fpr = np.sum(clasification> labels)/50000\n",
    "print(fpr)"
   ]
  },
  {
   "cell_type": "markdown",
   "id": "5bed94d4",
   "metadata": {},
   "source": [
    "#### False negatives rate"
   ]
  },
  {
   "cell_type": "code",
   "execution_count": 20,
   "id": "55ddd3ec",
   "metadata": {
    "execution": {
     "iopub.execute_input": "2021-04-28T13:56:04.841465Z",
     "iopub.status.busy": "2021-04-28T13:56:04.840863Z",
     "iopub.status.idle": "2021-04-28T13:56:04.843340Z",
     "shell.execute_reply": "2021-04-28T13:56:04.843842Z"
    }
   },
   "outputs": [
    {
     "name": "stdout",
     "output_type": "stream",
     "text": [
      "0.36896\n"
     ]
    }
   ],
   "source": [
    "fnr = np.sum(clasification < labels)/50000\n",
    "print(fnr)"
   ]
  },
  {
   "cell_type": "markdown",
   "id": "1d9865b6",
   "metadata": {},
   "source": [
    "As you can see the FPR and FNR are not equal. This classifier will more often wrongly classify men as women then  women as men.   "
   ]
  },
  {
   "cell_type": "markdown",
   "id": "8a93c346",
   "metadata": {},
   "source": [
    "#### True positives rate"
   ]
  },
  {
   "cell_type": "code",
   "execution_count": 21,
   "id": "89534ecd",
   "metadata": {
    "execution": {
     "iopub.execute_input": "2021-04-28T13:56:04.846691Z",
     "iopub.status.busy": "2021-04-28T13:56:04.846071Z",
     "iopub.status.idle": "2021-04-28T13:56:04.848177Z",
     "shell.execute_reply": "2021-04-28T13:56:04.848570Z"
    }
   },
   "outputs": [
    {
     "name": "stdout",
     "output_type": "stream",
     "text": [
      "0.63104\n"
     ]
    }
   ],
   "source": [
    "tpr = 1-fnr\n",
    "print(tpr)"
   ]
  },
  {
   "cell_type": "markdown",
   "id": "e03a1760",
   "metadata": {},
   "source": [
    "#### True negatives rate"
   ]
  },
  {
   "cell_type": "code",
   "execution_count": 22,
   "id": "76aa5116",
   "metadata": {
    "execution": {
     "iopub.execute_input": "2021-04-28T13:56:04.850967Z",
     "iopub.status.busy": "2021-04-28T13:56:04.850515Z",
     "iopub.status.idle": "2021-04-28T13:56:04.852471Z",
     "shell.execute_reply": "2021-04-28T13:56:04.852171Z"
    }
   },
   "outputs": [
    {
     "name": "stdout",
     "output_type": "stream",
     "text": [
      "0.9231199999999999\n"
     ]
    }
   ],
   "source": [
    "tnr = 1-fpr\n",
    "print(tnr)"
   ]
  },
  {
   "cell_type": "markdown",
   "id": "987fd56c",
   "metadata": {},
   "source": [
    "__Problem__"
   ]
  },
  {
   "cell_type": "markdown",
   "id": "81a7b460",
   "metadata": {},
   "source": [
    "Calculate the precision and $F_1$ score for this classifier. "
   ]
  },
  {
   "cell_type": "markdown",
   "id": "1b157cf9",
   "metadata": {
    "slideshow": {
     "slide_type": "slide"
    }
   },
   "source": [
    "## ROC curve"
   ]
  },
  {
   "cell_type": "markdown",
   "id": "cccbfdc9",
   "metadata": {},
   "source": [
    "We have seen that the performace of a binary classifier can be characterised by two numbers often chosen as true positives rate (TPR) and false positives rate (FPR). Those numbers depend on the treshold used for deciding when to classify somebody as a woman. The choice on 1/2 seems logical and even obvious but as we will see it is optimal only in one case. Chosing a different  treshold will give us different   (TPR, FPR) pair which we can visualize as a point on a plot. Ploting the points for all tresholds gives us so called Receiver Operational Characteristic (ROC) curve. "
   ]
  },
  {
   "cell_type": "markdown",
   "id": "8877e0e8",
   "metadata": {},
   "source": [
    "Redoing the MC calculations for different tresholds to calculate TPR nad FPR would be time consuming and not so accurate. There is an efficient algorithms for doing that and we can use an implementation from `scikit-learn` library:"
   ]
  },
  {
   "cell_type": "code",
   "execution_count": 23,
   "id": "933e7b96",
   "metadata": {
    "execution": {
     "iopub.execute_input": "2021-04-28T13:56:04.854776Z",
     "iopub.status.busy": "2021-04-28T13:56:04.854323Z",
     "iopub.status.idle": "2021-04-28T13:56:04.963517Z",
     "shell.execute_reply": "2021-04-28T13:56:04.963905Z"
    },
    "slideshow": {
     "slide_type": "slide"
    }
   },
   "outputs": [],
   "source": [
    "from sklearn.metrics import roc_curve, roc_auc_score"
   ]
  },
  {
   "cell_type": "markdown",
   "id": "19b373f4",
   "metadata": {},
   "source": [
    "Function [roc_curve](https://scikit-learn.org/stable/modules/generated/sklearn.metrics.roc_curve.html) takes as its first argument the  true labels: zeros for negatives and ones for positives. The second argument is the probability of positive outcome calculated for each sample point in the same order as labels. "
   ]
  },
  {
   "cell_type": "code",
   "execution_count": 24,
   "id": "9dc93507",
   "metadata": {
    "execution": {
     "iopub.execute_input": "2021-04-28T13:56:04.966829Z",
     "iopub.status.busy": "2021-04-28T13:56:04.966360Z",
     "iopub.status.idle": "2021-04-28T13:56:04.984809Z",
     "shell.execute_reply": "2021-04-28T13:56:04.985150Z"
    }
   },
   "outputs": [],
   "source": [
    "fprs, tprs, thds = roc_curve(labels, -h_FM);\n",
    "thds = -thds"
   ]
  },
  {
   "cell_type": "markdown",
   "id": "45213d58",
   "metadata": {},
   "source": [
    "and  returns three arrays containg false positives rates, true positives rates and thresholds which we will use to plot the curve. "
   ]
  },
  {
   "cell_type": "code",
   "execution_count": 25,
   "id": "1b8ae042",
   "metadata": {
    "execution": {
     "iopub.execute_input": "2021-04-28T13:56:04.988728Z",
     "iopub.status.busy": "2021-04-28T13:56:04.988196Z",
     "iopub.status.idle": "2021-04-28T13:56:04.989798Z",
     "shell.execute_reply": "2021-04-28T13:56:04.990263Z"
    }
   },
   "outputs": [],
   "source": [
    "def roc_plot(figsize=[8,8]):\n",
    "    \"\"\"Returns figure and axes object for plotting ROC curve\n",
    "    setting aspect ration to one and labeling the axes.\n",
    "    \"\"\"\n",
    "    fig, ax = plt.subplots(figsize=figsize)\n",
    "    ax.set_aspect(1)\n",
    "    ax.set_xlabel('FPR');\n",
    "    ax.set_ylabel('TPR');\n",
    "    return fig,ax"
   ]
  },
  {
   "cell_type": "code",
   "execution_count": 26,
   "id": "5ca0b457",
   "metadata": {
    "execution": {
     "iopub.execute_input": "2021-04-28T13:56:05.010263Z",
     "iopub.status.busy": "2021-04-28T13:56:05.009810Z",
     "iopub.status.idle": "2021-04-28T13:56:05.160035Z",
     "shell.execute_reply": "2021-04-28T13:56:05.160358Z"
    },
    "slideshow": {
     "slide_type": "slide"
    }
   },
   "outputs": [
    {
     "data": {
      "image/png": "[encoded data removed]",
      "text/plain": [
       "<Figure size 576x576 with 1 Axes>"
      ]
     },
     "metadata": {
      "needs_background": "light"
     },
     "output_type": "display_data"
    }
   ],
   "source": [
    "fig, ax = roc_plot()\n",
    "\n",
    "roc = ax.plot(fprs,tprs, color='blue');\n",
    "ax.scatter([fpr],[tpr],s = 30, color='blue', zorder=5)\n",
    "\n",
    "ax.set_title(\"ROC curve\", fontsize=14);\n",
    "ax.plot([0,1],[0,1],'-', c='grey', linewidth = 1 )\n",
    "ax.plot([0,0,1],[0,1,1],'--', c = roc[0].get_color() , linewidth=0.5)\n",
    "ax.scatter([0],[0],s = 30, c = roc[0].get_color() )\n",
    "ax.scatter([1],[1],s = 30)\n",
    "ax.scatter([0],[1],s = 30, edgecolor='blue', facecolor='white', zorder=5)\n",
    "ax.scatter([0],[1],s = 30, edgecolor='blue', facecolor='white', zorder=5)\n",
    "ax.grid()\n",
    "\n",
    "ax.annotate(\"Perfect classifier\",(0.01,0.99),(0.05, 0.92), arrowprops = {'arrowstyle':'-> '}, fontsize=12);"
   ]
  },
  {
   "cell_type": "markdown",
   "id": "64071e0b",
   "metadata": {},
   "source": [
    "As we can see we must compromise, the  perfect classfier corresponds to point (0,1) and does not lie on our curve. We can increase TPR but only by increasing FPR. \n",
    "\n",
    "In extreme cases we may clasify everybody as men. Then FPR = 0 but also TPR = 0. Other extreme would be to classify everybody as women. Then we have TPR = 1 but also FPR = 1. So the ROC curve always start at (0,0) and ends at (1,1). "
   ]
  },
  {
   "cell_type": "markdown",
   "id": "e0011713",
   "metadata": {},
   "source": [
    "The diagonal black line represents random guessing. If you classify somebody randomly as a woman with probability $r$ then true positives rate is also $r$. But so is the false positives rate. This gives as a $(r,r)$ point on the plot. Changing $r$ we can get the whole diagonal. "
   ]
  },
  {
   "cell_type": "markdown",
   "id": "1e501271",
   "metadata": {
    "slideshow": {
     "slide_type": "slide"
    }
   },
   "source": [
    "## Optimal threshold"
   ]
  },
  {
   "cell_type": "markdown",
   "id": "bdc1798f",
   "metadata": {},
   "source": [
    "So how do we chose a point on ROC curve ? That depends on our goals, we need some criterion, so let's say we want to minimize the number of misclasifications (or maximize accuracy). "
   ]
  },
  {
   "cell_type": "markdown",
   "id": "8f7035bf",
   "metadata": {},
   "source": [
    "From the definitions: "
   ]
  },
  {
   "cell_type": "markdown",
   "id": "f30337c6",
   "metadata": {},
   "source": [
    "$$FP +FN = FPR\\cdot N + FNR\\cdot P = FPR\\cdot N+ (1-TPR)\\cdot P \\propto FPR\\cdot P(N) + (1-TPR)\\cdot P(P) $$ "
   ]
  },
  {
   "cell_type": "markdown",
   "id": "cb092abc",
   "metadata": {},
   "source": [
    "Please remember that positives are women and negatives are men:) The above formula translates into Python"
   ]
  },
  {
   "cell_type": "code",
   "execution_count": 27,
   "id": "2a2e6234",
   "metadata": {
    "execution": {
     "iopub.execute_input": "2021-04-28T13:56:05.163461Z",
     "iopub.status.busy": "2021-04-28T13:56:05.162830Z",
     "iopub.status.idle": "2021-04-28T13:56:05.165198Z",
     "shell.execute_reply": "2021-04-28T13:56:05.165518Z"
    }
   },
   "outputs": [],
   "source": [
    "errs = fprs*0.5+(1-tprs)*0.5"
   ]
  },
  {
   "cell_type": "code",
   "execution_count": 28,
   "id": "0253a5a9",
   "metadata": {
    "execution": {
     "iopub.execute_input": "2021-04-28T13:56:05.169489Z",
     "iopub.status.busy": "2021-04-28T13:56:05.168899Z",
     "iopub.status.idle": "2021-04-28T13:56:05.171214Z",
     "shell.execute_reply": "2021-04-28T13:56:05.171678Z"
    }
   },
   "outputs": [
    {
     "data": {
      "text/plain": [
       "array([0.5    , 0.49999, 0.49778, ..., 0.48773, 0.48772, 0.5    ])"
      ]
     },
     "execution_count": 28,
     "metadata": {},
     "output_type": "execute_result"
    }
   ],
   "source": [
    "errs"
   ]
  },
  {
   "cell_type": "markdown",
   "id": "80a52732",
   "metadata": {},
   "source": [
    "We look for the index containing the minimal value which can be used to access corresponding threshold value"
   ]
  },
  {
   "cell_type": "code",
   "execution_count": 29,
   "id": "1ba36434",
   "metadata": {
    "execution": {
     "iopub.execute_input": "2021-04-28T13:56:05.174532Z",
     "iopub.status.busy": "2021-04-28T13:56:05.173911Z",
     "iopub.status.idle": "2021-04-28T13:56:05.176035Z",
     "shell.execute_reply": "2021-04-28T13:56:05.176416Z"
    }
   },
   "outputs": [
    {
     "name": "stdout",
     "output_type": "stream",
     "text": [
      "13746 171.87159897877183\n"
     ]
    }
   ],
   "source": [
    "imin = np.argmin(errs)\n",
    "print(imin, thds[imin])"
   ]
  },
  {
   "cell_type": "markdown",
   "id": "591c3f13",
   "metadata": {},
   "source": [
    "So as expected the optimal treshold is equal to 1/2 (within our Monte-Carlo accuracy). "
   ]
  },
  {
   "cell_type": "code",
   "execution_count": 30,
   "id": "9e831317",
   "metadata": {
    "execution": {
     "iopub.execute_input": "2021-04-28T13:56:05.179711Z",
     "iopub.status.busy": "2021-04-28T13:56:05.179186Z",
     "iopub.status.idle": "2021-04-28T13:56:05.181327Z",
     "shell.execute_reply": "2021-04-28T13:56:05.181753Z"
    }
   },
   "outputs": [
    {
     "data": {
      "text/plain": [
       "array([136.4308524 , 137.4308524 , 150.08678908, ..., 191.77717   ,\n",
       "       191.78041589, 207.09865217])"
      ]
     },
     "execution_count": 30,
     "metadata": {},
     "output_type": "execute_result"
    }
   ],
   "source": [
    "thds"
   ]
  },
  {
   "cell_type": "code",
   "execution_count": 31,
   "id": "bdf12f28",
   "metadata": {
    "execution": {
     "iopub.execute_input": "2021-04-28T13:56:05.198678Z",
     "iopub.status.busy": "2021-04-28T13:56:05.198105Z",
     "iopub.status.idle": "2021-04-28T13:56:05.296448Z",
     "shell.execute_reply": "2021-04-28T13:56:05.296840Z"
    },
    "slideshow": {
     "slide_type": "slide"
    }
   },
   "outputs": [
    {
     "data": {
      "image/png": "[encoded data removed]",
      "text/plain": [
       "<Figure size 864x576 with 1 Axes>"
      ]
     },
     "metadata": {
      "needs_background": "light"
     },
     "output_type": "display_data"
    }
   ],
   "source": [
    "fig, ax = plt.subplots()\n",
    "ax.set_ylabel(\"Error rate\")\n",
    "ax.set_xlabel(\"Threshold\")\n",
    "ax.set_xlim(124,210)\n",
    "ax.plot(thds,errs, zorder=1)\n",
    "ax.grid()\n",
    "ax.scatter([thds[imin]], [errs[imin]], c='red', zorder=2, s=50);"
   ]
  },
  {
   "cell_type": "markdown",
   "id": "508f0845",
   "metadata": {
    "slideshow": {
     "slide_type": "slide"
    }
   },
   "source": [
    "### Error costs"
   ]
  },
  {
   "cell_type": "markdown",
   "id": "4d611b5b",
   "metadata": {},
   "source": [
    "More often we are interested not so much in accuracy but in total cost of the mistakes. And as already stated the costs of different types of error can be different. "
   ]
  },
  {
   "cell_type": "markdown",
   "id": "ccb83dca",
   "metadata": {},
   "source": [
    "Imagine for example such scenario: You classify a person and  if you decide it's a woman you invite her to candlelight dinner. If it's a man you invite him for a beer. You live in a rather conservative society where when a man is invited to a candlelight diner  he will knock you teeths off. If you invite a woman for a beer she will slap you. How should you choose a treshold in this case? "
   ]
  },
  {
   "cell_type": "markdown",
   "id": "28d602c5",
   "metadata": {},
   "source": [
    "To answer this question you have to  assign a cost to each type of errors. Let's assume that you consider the cost of your teeth as five times bigger then cost of being slapped in the face. Then the expected cost is: "
   ]
  },
  {
   "cell_type": "markdown",
   "id": "1284d595",
   "metadata": {
    "slideshow": {
     "slide_type": "fragment"
    }
   },
   "source": [
    "$$c_2\\cdot FPR\\cdot P(P)+ c_1\\cdot (1-TPR)\\cdot P(N)$$ "
   ]
  },
  {
   "cell_type": "markdown",
   "id": "5eaadb54",
   "metadata": {},
   "source": [
    "with "
   ]
  },
  {
   "cell_type": "markdown",
   "id": "a65ab52b",
   "metadata": {
    "slideshow": {
     "slide_type": "slide"
    }
   },
   "source": [
    "$$c_2 = 5\\quad c_1 = 1$$  "
   ]
  },
  {
   "cell_type": "markdown",
   "id": "fc333e67",
   "metadata": {},
   "source": [
    "We can redo the calculations with the new cost estimate"
   ]
  },
  {
   "cell_type": "code",
   "execution_count": 32,
   "id": "29bdaa1d",
   "metadata": {
    "execution": {
     "iopub.execute_input": "2021-04-28T13:56:05.299915Z",
     "iopub.status.busy": "2021-04-28T13:56:05.299041Z",
     "iopub.status.idle": "2021-04-28T13:56:05.302404Z",
     "shell.execute_reply": "2021-04-28T13:56:05.302992Z"
    }
   },
   "outputs": [],
   "source": [
    "errs_c = 5 * fprs+1*(1-tprs)"
   ]
  },
  {
   "cell_type": "code",
   "execution_count": 33,
   "id": "81b509e4",
   "metadata": {
    "execution": {
     "iopub.execute_input": "2021-04-28T13:56:05.306093Z",
     "iopub.status.busy": "2021-04-28T13:56:05.305433Z",
     "iopub.status.idle": "2021-04-28T13:56:05.307640Z",
     "shell.execute_reply": "2021-04-28T13:56:05.307955Z"
    }
   },
   "outputs": [
    {
     "name": "stdout",
     "output_type": "stream",
     "text": [
      "13746 166.0985840072002\n"
     ]
    }
   ],
   "source": [
    "imin_c = np.argmin(errs_c)\n",
    "print(imin, thds[imin_c])"
   ]
  },
  {
   "cell_type": "code",
   "execution_count": 34,
   "id": "9ef9f505",
   "metadata": {
    "execution": {
     "iopub.execute_input": "2021-04-28T13:56:05.324214Z",
     "iopub.status.busy": "2021-04-28T13:56:05.323743Z",
     "iopub.status.idle": "2021-04-28T13:56:05.407956Z",
     "shell.execute_reply": "2021-04-28T13:56:05.408504Z"
    },
    "slideshow": {
     "slide_type": "slide"
    }
   },
   "outputs": [
    {
     "data": {
      "image/png": "[encoded data removed]",
      "text/plain": [
       "<Figure size 864x576 with 1 Axes>"
      ]
     },
     "metadata": {
      "needs_background": "light"
     },
     "output_type": "display_data"
    }
   ],
   "source": [
    "fig, ax = plt.subplots()\n",
    "ax.set_ylabel(\"Cost\")\n",
    "ax.set_xlabel(\"Threshold\")\n",
    "ax.set_xlim(140,210)\n",
    "ax.plot(thds,errs_c, zorder=1)\n",
    "ax.scatter([thds[imin_c]], [errs_c[imin_c]], c='red', zorder=2, s=50);"
   ]
  },
  {
   "cell_type": "markdown",
   "id": "5f637756",
   "metadata": {},
   "source": [
    "Now the treshold is considerably higher. That's logical as mistaking men for women (false positive) is more costly, you want to be more sure that this is a woman before  asking this person out on   date. \n",
    "A look at the ROC curve shows that we have indeed decreased the false positives rate but at the expense of decreasing the true positive rate as well. "
   ]
  },
  {
   "cell_type": "code",
   "execution_count": 35,
   "id": "409b561f",
   "metadata": {
    "execution": {
     "iopub.execute_input": "2021-04-28T13:56:05.456765Z",
     "iopub.status.busy": "2021-04-28T13:56:05.456125Z",
     "iopub.status.idle": "2021-04-28T13:56:05.720553Z",
     "shell.execute_reply": "2021-04-28T13:56:05.720934Z"
    }
   },
   "outputs": [
    {
     "data": {
      "image/png": "[encoded data removed]",
      "text/plain": [
       "<Figure size 576x576 with 1 Axes>"
      ]
     },
     "metadata": {
      "needs_background": "light"
     },
     "output_type": "display_data"
    }
   ],
   "source": [
    "fig, ax = roc_plot()\n",
    "ax.plot(fprs, tprs, zorder=1)\n",
    "ax.scatter([fprs[imin]], [tprs[imin]], c='blue', zorder=2, label='$c_1 = c_2$' );\n",
    "ax.scatter([fprs[imin_c]], [tprs[imin_c]], c='red', zorder=2, label=\"$c_1=1\\;c_2=5$\");\n",
    "ax.legend();"
   ]
  },
  {
   "cell_type": "markdown",
   "id": "bfb47c72",
   "metadata": {},
   "source": [
    "Actually we did not need to search  the optimal treshold as above. There is a theorem that states that given the costs the optimal treshold is "
   ]
  },
  {
   "cell_type": "markdown",
   "id": "e4f7b6ff",
   "metadata": {
    "slideshow": {
     "slide_type": "fragment",
     "slideshow": {
      "slide_type": "slide"
     }
    }
   },
   "source": [
    "$$ \\frac{c_2}{c_1+c_2}$$"
   ]
  },
  {
   "cell_type": "markdown",
   "id": "ce67c3e6",
   "metadata": {},
   "source": [
    "which in this case is equal to"
   ]
  },
  {
   "cell_type": "code",
   "execution_count": 36,
   "id": "3fb8c980",
   "metadata": {
    "execution": {
     "iopub.execute_input": "2021-04-28T13:56:05.724315Z",
     "iopub.status.busy": "2021-04-28T13:56:05.723477Z",
     "iopub.status.idle": "2021-04-28T13:56:05.725714Z",
     "shell.execute_reply": "2021-04-28T13:56:05.726150Z"
    },
    "slideshow": {
     "slide_type": "fragment"
    }
   },
   "outputs": [
    {
     "data": {
      "text/plain": [
       "0.8333333333333334"
      ]
     },
     "execution_count": 36,
     "metadata": {},
     "output_type": "execute_result"
    }
   ],
   "source": [
    "5/6"
   ]
  },
  {
   "cell_type": "code",
   "execution_count": 37,
   "id": "1e656fc4",
   "metadata": {
    "execution": {
     "iopub.execute_input": "2021-04-28T13:56:05.742000Z",
     "iopub.status.busy": "2021-04-28T13:56:05.741513Z",
     "iopub.status.idle": "2021-04-28T13:56:05.833036Z",
     "shell.execute_reply": "2021-04-28T13:56:05.833480Z"
    },
    "slideshow": {
     "slide_type": "slide"
    }
   },
   "outputs": [
    {
     "data": {
      "image/png": "[encoded data removed]",
      "text/plain": [
       "<Figure size 864x576 with 1 Axes>"
      ]
     },
     "metadata": {
      "needs_background": "light"
     },
     "output_type": "display_data"
    }
   ],
   "source": [
    "fig, ax = plt.subplots()\n",
    "ax.set_xlim(150,210)\n",
    "ax.set_ylabel(\"Cost\")\n",
    "ax.set_xlabel(\"Threshold\")\n",
    "ax.plot(thds,errs_c, '-', zorder=1)\n",
    "ax.scatter([thds[imin_c]], [errs_c[imin_c]], c='red', zorder=2);\n",
    "ax.axvline(5/6, zorder=1);"
   ]
  },
  {
   "cell_type": "markdown",
   "id": "289d55e2",
   "metadata": {},
   "source": [
    "which is resonably close to our value. The agreement is not perfect because our calculations were based on finite size sample. "
   ]
  },
  {
   "cell_type": "markdown",
   "id": "32c6d377",
   "metadata": {
    "slideshow": {
     "slide_type": "slide"
    }
   },
   "source": [
    "### AUC score"
   ]
  },
  {
   "cell_type": "markdown",
   "id": "ff2ef79a",
   "metadata": {},
   "source": [
    "As we have learned a probabilistic classifier actually represents a whole familly of classifiers that is parametrized by the classification threshold and can be visualised by the ROC curve. It would be convenient to be able to summarise the performance of this familly with a single number. This can be achieved with _area under the curve_  (AUC) score. As the name implies this is the area under the ROC curve. We can use `roc_auc_score` function from scikit-learn to calculate it. This function takes same arguments as `roc_curve`"
   ]
  },
  {
   "cell_type": "code",
   "execution_count": 38,
   "id": "fdb7e67d",
   "metadata": {
    "execution": {
     "iopub.execute_input": "2021-04-28T13:56:05.836698Z",
     "iopub.status.busy": "2021-04-28T13:56:05.836154Z",
     "iopub.status.idle": "2021-04-28T13:56:05.863381Z",
     "shell.execute_reply": "2021-04-28T13:56:05.863753Z"
    },
    "slideshow": {
     "slide_type": "-"
    }
   },
   "outputs": [],
   "source": [
    "auc = roc_auc_score(labels, -h_FM)"
   ]
  },
  {
   "cell_type": "code",
   "execution_count": 39,
   "id": "2053cbec",
   "metadata": {
    "execution": {
     "iopub.execute_input": "2021-04-28T13:56:05.884211Z",
     "iopub.status.busy": "2021-04-28T13:56:05.883733Z",
     "iopub.status.idle": "2021-04-28T13:56:05.983303Z",
     "shell.execute_reply": "2021-04-28T13:56:05.983652Z"
    },
    "slideshow": {
     "slide_type": "slide"
    }
   },
   "outputs": [
    {
     "data": {
      "image/png": "[encoded data removed]",
      "text/plain": [
       "<Figure size 576x576 with 1 Axes>"
      ]
     },
     "metadata": {
      "needs_background": "light"
     },
     "output_type": "display_data"
    }
   ],
   "source": [
    "fig, ax = roc_plot()\n",
    "roc = ax.plot(fprs,tprs);\n",
    "ax.fill_between(fprs,tprs,alpha=0.5);\n",
    "\n",
    "ax.set_title(\"ROC curve\", fontsize=14);\n",
    "ax.plot([0,1],[0,1],'-', c='grey', linewidth = 1 )\n",
    "ax.plot([0,0,1],[0,1,1],'--', c = roc[0].get_color() , linewidth=0.5)\n",
    "#ax.scatter([0],[0],s = 30, c = roc[0].get_color() )\n",
    "ax.scatter([1],[1],s = 30)\n",
    "ax.scatter([0],[1],s = 30, edgecolor='blue', facecolor='white', zorder=5)\n",
    "\n",
    "ax.text(0.7, 0.3, \"AUC = %3.2f\"%(auc,), fontsize=16 );"
   ]
  },
  {
   "cell_type": "markdown",
   "id": "6c01306d",
   "metadata": {},
   "source": [
    "Properties of the ROC curve imply that for the perfect classifier $AUC=1$ and for random guessing $AUC=0.5$. You can learn more about ROC curves and AUC _e.g._ in [here](https://www.researchgate.net/publication/284001844_Some_mathematical_properties_of_the_ROC_curve_and_their_applications). "
   ]
  }
 ],
 "metadata": {
  "jupytext": {
   "text_representation": {
    "extension": ".Rmd",
    "format_name": "rmarkdown",
    "format_version": "1.2",
    "jupytext_version": "1.11.1"
   }
  },
  "kernelspec": {
   "display_name": "Python 3",
   "language": "python",
   "name": "python3"
  },
  "language_info": {
   "codemirror_mode": {
    "name": "ipython",
    "version": 3
   },
   "file_extension": ".py",
   "mimetype": "text/x-python",
   "name": "python",
   "nbconvert_exporter": "python",
   "pygments_lexer": "ipython3",
   "version": "3.9.2"
  }
 },
 "nbformat": 4,
 "nbformat_minor": 5
}