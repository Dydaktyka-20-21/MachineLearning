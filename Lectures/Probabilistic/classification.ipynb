{
 "cells": [
  {
   "cell_type": "code",
   "execution_count": 1,
   "id": "1db3e025",
   "metadata": {
    "execution": {
     "iopub.execute_input": "2021-04-28T13:55:10.563745Z",
     "iopub.status.busy": "2021-04-28T13:55:10.563036Z",
     "iopub.status.idle": "2021-04-28T13:55:11.056258Z",
     "shell.execute_reply": "2021-04-28T13:55:11.056618Z"
    },
    "slideshow": {
     "slide_type": "skip"
    },
    "tags": []
   },
   "outputs": [],
   "source": [
    "import matplotlib.pyplot as plt\n",
    "import numpy as np\n",
    "import scipy.stats as st"
   ]
  },
  {
   "cell_type": "code",
   "execution_count": 2,
   "id": "ec127bc2",
   "metadata": {
    "execution": {
     "iopub.execute_input": "2021-04-28T13:55:11.061875Z",
     "iopub.status.busy": "2021-04-28T13:55:11.061367Z",
     "iopub.status.idle": "2021-04-28T13:55:11.063020Z",
     "shell.execute_reply": "2021-04-28T13:55:11.063452Z"
    },
    "slideshow": {
     "slide_type": "skip"
    },
    "tags": []
   },
   "outputs": [],
   "source": [
    "#This ensures that the plots are displayes automatically without need to call plt.show().\n",
    "%matplotlib inline\n",
    "fig_height = 10\n",
    "fig_width =15\n",
    "plt.rcParams[\"figure.figsize\"] = [fig_width, fig_height] #Setting the default figure size for  plotting."
   ]
  },
  {
   "cell_type": "markdown",
   "id": "0a33c020",
   "metadata": {
    "slideshow": {
     "slide_type": "slide"
    }
   },
   "source": [
    "# Probability based methods"
   ]
  },
  {
   "cell_type": "markdown",
   "id": "8e33ab43",
   "metadata": {
    "slideshow": {
     "slide_type": "notes"
    },
    "tags": []
   },
   "source": [
    "Actually most of the machine learning methods are \"probability based\". For example consider the  classification problem. We have an _examplar_ with some features $d$ and we want to decide to which class $c$ it belong. One way of solving this problem is to calculate the conditional probability "
   ]
  },
  {
   "cell_type": "markdown",
   "id": "0c4019ac",
   "metadata": {
    "slideshow": {
     "slide_type": "fragment"
    },
    "tags": []
   },
   "source": [
    "$$P(C = c|D = d)$$"
   ]
  },
  {
   "cell_type": "markdown",
   "id": "6f7d1e46",
   "metadata": {
    "slideshow": {
     "slide_type": "notes"
    },
    "tags": []
   },
   "source": [
    "that given the features  $d$ the class is $c$. "
   ]
  },
  {
   "cell_type": "markdown",
   "id": "a09e5343",
   "metadata": {
    "slideshow": {
     "slide_type": "notes"
    },
    "tags": []
   },
   "source": [
    "It is more useful to talk  about the probability then  a deterministic  classifier function such that $f(d)=c$. In most real life scenarios such function just does not exists. E.g. when approving a loan we have no way of knowing for certain that particular person will repay or not his loan regardless of the information we have on him. We can only  to some degree estimate the probability of that event. If have a reliable estimate of this conditional probability we can use it to make decision(clasification) but  e.g. choose the amount of risk we are willing to take. "
   ]
  },
  {
   "cell_type": "markdown",
   "id": "2d10175b",
   "metadata": {
    "slideshow": {
     "slide_type": "slide"
    },
    "tags": []
   },
   "source": [
    "## Generative methods"
   ]
  },
  {
   "cell_type": "markdown",
   "id": "2f48c65c",
   "metadata": {
    "slideshow": {
     "slide_type": "notes"
    },
    "tags": []
   },
   "source": [
    "The whole crux of  machine learning is to reliably estimate this conditional probability. Methods that try  to estimate $P(C = c|D = d)$ directly from the data are called _discriminative_. \n",
    "In this  lecture I will concentrate on the _generative_ methods. Generative methods try to estimate (learn) the joint probability distribution"
   ]
  },
  {
   "cell_type": "markdown",
   "id": "728fc942",
   "metadata": {
    "slideshow": {
     "slide_type": "fragment"
    },
    "tags": []
   },
   "source": [
    "$$P(C=c,D=d)$$"
   ]
  },
  {
   "cell_type": "markdown",
   "id": "45a1e7cf",
   "metadata": {
    "slideshow": {
     "slide_type": "notes"
    },
    "tags": []
   },
   "source": [
    "Once we have it we can calculate the conditional probability directly from the definition"
   ]
  },
  {
   "cell_type": "markdown",
   "id": "a4f709f2",
   "metadata": {
    "slideshow": {
     "slide_type": "fragment"
    },
    "tags": []
   },
   "source": [
    "$$P(C=c|D=d)=\\frac{P(C=c,D=d)}{P(D=d)}$$"
   ]
  },
  {
   "cell_type": "markdown",
   "id": "454ba7a0",
   "metadata": {
    "slideshow": {
     "slide_type": "slide"
    }
   },
   "source": [
    "## Bayes theorem"
   ]
  },
  {
   "cell_type": "markdown",
   "id": "0f0baef5",
   "metadata": {
    "slideshow": {
     "slide_type": "notes"
    },
    "tags": []
   },
   "source": [
    "In practice it is often easier to use the Bayes theorem"
   ]
  },
  {
   "cell_type": "markdown",
   "id": "843752aa",
   "metadata": {
    "slideshow": {
     "slide_type": "fragment"
    }
   },
   "source": [
    "$$\\boxed{P(C=c|D=d) = \\frac{P(D=d|C)P(C=c)}{P(D=d)}= \\frac{P(D=d|C=c)P(C=c)}{\\sum_c P(D=d|C=c)P(C=c)}}$$ "
   ]
  },
  {
   "cell_type": "markdown",
   "id": "5fac98cf",
   "metadata": {
    "slideshow": {
     "slide_type": "notes"
    },
    "tags": []
   },
   "source": [
    "In other words we are factoring the joint probability in two parts"
   ]
  },
  {
   "cell_type": "markdown",
   "id": "3e89cbe6",
   "metadata": {
    "slideshow": {
     "slide_type": "fragment"
    },
    "tags": []
   },
   "source": [
    "$$P(C=c, D=d)= P(D=d|C=c)\\cdot P(C=c)$$"
   ]
  },
  {
   "cell_type": "markdown",
   "id": "f6666559",
   "metadata": {
    "slideshow": {
     "slide_type": "fragment"
    },
    "tags": []
   },
   "source": [
    "__Sampling distribution__"
   ]
  },
  {
   "cell_type": "markdown",
   "id": "74d4ff05",
   "metadata": {
    "slideshow": {
     "slide_type": "notes"
    },
    "tags": []
   },
   "source": [
    "The first factor  when viewed as the function of $d$ is called the _sampling distributions_ as it describes the distribution of samples in class $c$. Knowledge of $P(D=d|C=c)$ is the knowledge of how to generate the data. We can say we have a model of our data generation process. "
   ]
  },
  {
   "cell_type": "markdown",
   "id": "97add53d",
   "metadata": {
    "slideshow": {
     "slide_type": "fragment"
    },
    "tags": []
   },
   "source": [
    "__Prior__"
   ]
  },
  {
   "cell_type": "markdown",
   "id": "d3ad494e",
   "metadata": {
    "slideshow": {
     "slide_type": "notes"
    },
    "tags": []
   },
   "source": [
    "$P(C=c)$ is an  _a priori_ (prior) probability y of $C=c$ before we gather any data.  That's the knowledge we had about random variable $C$ beforehand. That  usually reflects the frequency of occurence of classes in the data. For example it may be a fraction of people that repay their loans. "
   ]
  },
  {
   "cell_type": "markdown",
   "id": "e550b15a",
   "metadata": {
    "slideshow": {
     "slide_type": "slide"
    }
   },
   "source": [
    "## Bayes classifier"
   ]
  },
  {
   "cell_type": "markdown",
   "id": "c94ca8bc",
   "metadata": {
    "slideshow": {
     "slide_type": "notes"
    },
    "tags": []
   },
   "source": [
    "Given this probability we can construct a classifier _e.g._ by chosing the class with highest probability"
   ]
  },
  {
   "cell_type": "markdown",
   "id": "391616f1",
   "metadata": {
    "slideshow": {
     "slide_type": "fragment"
    }
   },
   "source": [
    "$$\\newcommand{\\argmax}{\\operatorname{argmax}}$$\n",
    "$$c = \\argmax_c P(C=c|D=d)  =  \\argmax_{c} \\frac{P(D=d|C=c)P(C=c)}{P(D=d)}=\\argmax_{C} P(D=d|C=c)P(C=c)$$"
   ]
  },
  {
   "cell_type": "markdown",
   "id": "93eda191",
   "metadata": {
    "slideshow": {
     "slide_type": "notes"
    },
    "tags": []
   },
   "source": [
    "Please note that for that kind of classifier  we do not need to calculate the denominator. However in the next section we will see that having a proper probability distribution allows us to construct a whole familly of classifiers. We are not restricted to choosing the one above."
   ]
  },
  {
   "cell_type": "markdown",
   "id": "bd60e36d",
   "metadata": {
    "slideshow": {
     "slide_type": "slide"
    }
   },
   "source": [
    "## Example: Estimating sex of a person based on it's height"
   ]
  },
  {
   "cell_type": "markdown",
   "id": "8053ae06",
   "metadata": {
    "slideshow": {
     "slide_type": "notes"
    },
    "tags": []
   },
   "source": [
    "Let's consider classfication of persons as women and men based on their height. "
   ]
  },
  {
   "cell_type": "markdown",
   "id": "c3369f14",
   "metadata": {
    "slideshow": {
     "slide_type": "notes"
    },
    "tags": []
   },
   "source": [
    "In this case $D$ is the height of a person and we will denote it by $H$,  $C$ is the sex of a person and we will denote it by $S$. "
   ]
  },
  {
   "cell_type": "markdown",
   "id": "835cc338",
   "metadata": {
    "slideshow": {
     "slide_type": "notes"
    },
    "tags": [
     "text"
    ]
   },
   "source": [
    "We will assume that for each sex the height distribution is Gaussian (we will check this assumption later)"
   ]
  },
  {
   "cell_type": "markdown",
   "id": "50e8e581",
   "metadata": {
    "slideshow": {
     "slide_type": "fragment"
    },
    "tags": []
   },
   "source": [
    "$$P(H=h|S=s) \\sim  \\mathcal{N}(\\mu_s,\\sigma_s)$$"
   ]
  },
  {
   "cell_type": "markdown",
   "id": "6d5e6013",
   "metadata": {
    "slideshow": {
     "slide_type": "notes"
    },
    "tags": []
   },
   "source": [
    "I will use $\\sim$ symbol to denote that the probability on left-hand side is equal to probability density function (pmf) or probability mass function (pmf) of the distribution on the right-hand side. "
   ]
  },
  {
   "cell_type": "markdown",
   "id": "e9128299",
   "metadata": {
    "slideshow": {
     "slide_type": "notes"
    },
    "tags": []
   },
   "source": [
    "To model this we will use  `stats` module from `scipy` which we have imported at the begining of the notebook."
   ]
  },
  {
   "cell_type": "code",
   "execution_count": 3,
   "id": "03d65876",
   "metadata": {
    "execution": {
     "iopub.execute_input": "2021-04-28T13:55:11.067902Z",
     "iopub.status.busy": "2021-04-28T13:55:11.067327Z",
     "iopub.status.idle": "2021-04-28T13:55:11.069088Z",
     "shell.execute_reply": "2021-04-28T13:55:11.069476Z"
    },
    "slideshow": {
     "slide_type": "fragment"
    },
    "tags": []
   },
   "outputs": [],
   "source": [
    "pd_h_cond_F = st.norm(166,6.1)\n",
    "pd_h_cond_M = st.norm(178,7)"
   ]
  },
  {
   "cell_type": "markdown",
   "id": "e3cdc78a",
   "metadata": {
    "slideshow": {
     "slide_type": "notes"
    },
    "tags": []
   },
   "source": [
    "The numbers were taken from the publication [Women in Poland](https://stat.gov.pl/cps/rde/xbcr/gus/Kobiety_w_Polsce.pdf) published by Polish Central Statistical Office (page 82)."
   ]
  },
  {
   "cell_type": "markdown",
   "id": "fbc04e20",
   "metadata": {
    "slideshow": {
     "slide_type": "notes"
    },
    "tags": []
   },
   "source": [
    "Those are objects representing distributions and have methods for calculating probability distribution functions. Functions in Python are first class objects and we can assign them to variables"
   ]
  },
  {
   "cell_type": "code",
   "execution_count": 4,
   "id": "015298bc",
   "metadata": {
    "execution": {
     "iopub.execute_input": "2021-04-28T13:55:11.072363Z",
     "iopub.status.busy": "2021-04-28T13:55:11.071822Z",
     "iopub.status.idle": "2021-04-28T13:55:11.073519Z",
     "shell.execute_reply": "2021-04-28T13:55:11.074017Z"
    },
    "slideshow": {
     "slide_type": "fragment"
    },
    "tags": []
   },
   "outputs": [],
   "source": [
    "pdf_h_cond_F = pd_h_cond_F.pdf\n",
    "pdf_h_cond_M = pd_h_cond_M.pdf"
   ]
  },
  {
   "cell_type": "markdown",
   "id": "8d700453",
   "metadata": {
    "slideshow": {
     "slide_type": "notes"
    }
   },
   "source": [
    "We also need _a priori_ probability $P(S=s)$ that a person is a woman or a man. We will assume an equal a priori distribution of sexes"
   ]
  },
  {
   "cell_type": "code",
   "execution_count": 5,
   "id": "9ac08e2e",
   "metadata": {
    "execution": {
     "iopub.execute_input": "2021-04-28T13:55:11.076796Z",
     "iopub.status.busy": "2021-04-28T13:55:11.076277Z",
     "iopub.status.idle": "2021-04-28T13:55:11.077951Z",
     "shell.execute_reply": "2021-04-28T13:55:11.078325Z"
    },
    "slideshow": {
     "slide_type": "fragment"
    },
    "tags": []
   },
   "outputs": [],
   "source": [
    "p_F = 0.5\n",
    "p_M = 0.5"
   ]
  },
  {
   "cell_type": "markdown",
   "id": "4ee7d396",
   "metadata": {
    "slideshow": {
     "slide_type": "notes"
    },
    "tags": []
   },
   "source": [
    "Please keep in mind that this has to be adjusted for the particular use case. E.g. it will not be true for students or employes of our faculty. "
   ]
  },
  {
   "cell_type": "markdown",
   "id": "57315b0f",
   "metadata": {
    "slideshow": {
     "slide_type": "notes"
    },
    "tags": []
   },
   "source": [
    "The probability that a person is woman given its height"
   ]
  },
  {
   "cell_type": "markdown",
   "id": "0a183c26",
   "metadata": {
    "slideshow": {
     "slide_type": "slide"
    },
    "tags": []
   },
   "source": [
    "$$P(f|h)\\equiv P(S=f|H=h)$$"
   ]
  },
  {
   "cell_type": "markdown",
   "id": "cc743a39",
   "metadata": {
    "slideshow": {
     "slide_type": "notes"
    },
    "tags": []
   },
   "source": [
    "is easilly calculated from Bayes theorem"
   ]
  },
  {
   "cell_type": "markdown",
   "id": "77fa36cf",
   "metadata": {
    "slideshow": {
     "slide_type": "fragment"
    },
    "tags": []
   },
   "source": [
    "$$P(f|h)= \\frac{P(H=h|S=f)P(S=f)}{P(H=h|S=f)P(S=f)+P(H=h|S=m)P(S=m)}$$"
   ]
  },
  {
   "cell_type": "markdown",
   "id": "ad5d5cd4",
   "metadata": {
    "slideshow": {
     "slide_type": "notes"
    },
    "tags": []
   },
   "source": [
    "Which can be translated into the python function"
   ]
  },
  {
   "cell_type": "code",
   "execution_count": 6,
   "id": "a33eae60",
   "metadata": {
    "execution": {
     "iopub.execute_input": "2021-04-28T13:55:11.081425Z",
     "iopub.status.busy": "2021-04-28T13:55:11.080873Z",
     "iopub.status.idle": "2021-04-28T13:55:11.082599Z",
     "shell.execute_reply": "2021-04-28T13:55:11.083032Z"
    },
    "slideshow": {
     "slide_type": "slide"
    },
    "tags": []
   },
   "outputs": [],
   "source": [
    "def pdf_F_cond(h):\n",
    "    return pdf_h_cond_F(h)*p_F/(pdf_h_cond_F(h)*p_F+pdf_h_cond_M(h)*p_M)"
   ]
  },
  {
   "cell_type": "markdown",
   "id": "3eb9d0d0",
   "metadata": {
    "slideshow": {
     "slide_type": "skip"
    }
   },
   "source": [
    "Let's see how this  distribution looks like:"
   ]
  },
  {
   "cell_type": "code",
   "execution_count": 7,
   "id": "abbf2d13",
   "metadata": {
    "execution": {
     "iopub.execute_input": "2021-04-28T13:55:11.121472Z",
     "iopub.status.busy": "2021-04-28T13:55:11.120944Z",
     "iopub.status.idle": "2021-04-28T13:55:11.193040Z",
     "shell.execute_reply": "2021-04-28T13:55:11.193414Z"
    },
    "slideshow": {
     "slide_type": "slide"
    },
    "tags": []
   },
   "outputs": [
    {
     "data": {
      "image/png": "[encoded data removed]",
      "text/plain": [
       "<Figure size 1080x720 with 1 Axes>"
      ]
     },
     "metadata": {
      "needs_background": "light"
     },
     "output_type": "display_data"
    }
   ],
   "source": [
    "hs = np.linspace(120,215,400)\n",
    "plt.plot(hs,pdf_F_cond(hs));\n",
    "plt.axhline(0.5, linewidth=1, c='green');"
   ]
  },
  {
   "cell_type": "markdown",
   "id": "fb31aa6f",
   "metadata": {
    "slideshow": {
     "slide_type": "notes"
    },
    "tags": []
   },
   "source": [
    "As we have only two classes chosing the class with bigger probability means that we \n",
    "classify a person as woman when this probability is greater then $1/2$. We will show later that this is in some sense optimal threshold.  Solving for that, we obtain that the height threshold is "
   ]
  },
  {
   "cell_type": "code",
   "execution_count": 8,
   "id": "edbf152e",
   "metadata": {
    "execution": {
     "iopub.execute_input": "2021-04-28T13:55:11.204746Z",
     "iopub.status.busy": "2021-04-28T13:55:11.204192Z",
     "iopub.status.idle": "2021-04-28T13:55:11.206110Z",
     "shell.execute_reply": "2021-04-28T13:55:11.206484Z"
    },
    "slideshow": {
     "slide_type": "slide"
    },
    "tags": []
   },
   "outputs": [
    {
     "name": "stdout",
     "output_type": "stream",
     "text": [
      "172.1cm :)\n"
     ]
    }
   ],
   "source": [
    "from scipy.optimize import fsolve\n",
    "threshold = fsolve(lambda h: pdf_F_cond(h)-0.5, 160)\n",
    "print(f\"{threshold.item():.1f}cm :)\")"
   ]
  },
  {
   "cell_type": "markdown",
   "id": "e6f3dfe0",
   "metadata": {
    "slideshow": {
     "slide_type": "notes"
    }
   },
   "source": [
    "In other words if our assumptions hold a person lower then 172cm has a greater chance of being a woman then a man."
   ]
  },
  {
   "cell_type": "markdown",
   "id": "933ecf5d",
   "metadata": {
    "slideshow": {
     "slide_type": "notes"
    },
    "tags": []
   },
   "source": [
    "### Problem"
   ]
  },
  {
   "cell_type": "markdown",
   "id": "ec821d96",
   "metadata": {
    "slideshow": {
     "slide_type": "notes"
    },
    "tags": []
   },
   "source": [
    "How does this probability change when the _a priori_ probabilities are not equal?  Assume that $P(S=f)=1/4$  and $P(S=m)=3/4$ which is probably closer to reality among computer science students. Plot the new $P(f|h)$ together with the old one. What is the  height treshold now? "
   ]
  },
  {
   "cell_type": "markdown",
   "id": "da8d1444",
   "metadata": {
    "slideshow": {
     "slide_type": "skip"
    },
    "tags": []
   },
   "source": [
    "#### Answer"
   ]
  },
  {
   "cell_type": "markdown",
   "id": "08061378",
   "metadata": {
    "jupyter": {
     "source_hidden": true
    },
    "slideshow": {
     "slide_type": "skip"
    },
    "tags": [
     "answer"
    ]
   },
   "source": [
    "This is not necessary but I will  define a function that creates a desired probability distribution:"
   ]
  },
  {
   "cell_type": "code",
   "execution_count": 9,
   "id": "e31cb12e",
   "metadata": {
    "execution": {
     "iopub.execute_input": "2021-04-28T13:55:11.209899Z",
     "iopub.status.busy": "2021-04-28T13:55:11.209402Z",
     "iopub.status.idle": "2021-04-28T13:55:11.211117Z",
     "shell.execute_reply": "2021-04-28T13:55:11.211508Z"
    },
    "jupyter": {
     "source_hidden": true
    },
    "slideshow": {
     "slide_type": "slide"
    },
    "tags": [
     "answer"
    ]
   },
   "outputs": [],
   "source": [
    "def make_pdf_F_cond_h(p_F):\n",
    "    p_M = 1-p_F\n",
    "    def pdf(h):\n",
    "         return pdf_h_cond_F(h)*p_F/(pdf_h_cond_F(h)*p_F+pdf_h_cond_M(h)*p_M)\n",
    "    \n",
    "    return pdf"
   ]
  },
  {
   "cell_type": "markdown",
   "id": "f2d4db07",
   "metadata": {
    "jupyter": {
     "source_hidden": true
    },
    "slideshow": {
     "slide_type": "notes"
    },
    "tags": [
     "answer"
    ]
   },
   "source": [
    "This function returns another function so it is an example of [_higher order function_](https://en.wikipedia.org/wiki/Higher-order_function). The returned function is actually a [_closure_](https://simple.wikipedia.org/wiki/Closure_(computer_science)) as it remembers (closes over) the value of ```p_F```. "
   ]
  },
  {
   "cell_type": "code",
   "execution_count": 10,
   "id": "b54664e1",
   "metadata": {
    "execution": {
     "iopub.execute_input": "2021-04-28T13:55:11.214164Z",
     "iopub.status.busy": "2021-04-28T13:55:11.213715Z",
     "iopub.status.idle": "2021-04-28T13:55:11.215789Z",
     "shell.execute_reply": "2021-04-28T13:55:11.216117Z"
    },
    "jupyter": {
     "source_hidden": true
    },
    "slideshow": {
     "slide_type": "slide"
    },
    "tags": [
     "answer"
    ]
   },
   "outputs": [],
   "source": [
    "pdf_F_cond_fac = make_pdf_F_cond_h(0.25)"
   ]
  },
  {
   "cell_type": "code",
   "execution_count": 11,
   "id": "4f686faf",
   "metadata": {
    "collapsed": true,
    "execution": {
     "iopub.execute_input": "2021-04-28T13:55:11.233873Z",
     "iopub.status.busy": "2021-04-28T13:55:11.219962Z",
     "iopub.status.idle": "2021-04-28T13:55:11.329368Z",
     "shell.execute_reply": "2021-04-28T13:55:11.329781Z"
    },
    "jupyter": {
     "outputs_hidden": true,
     "source_hidden": true
    },
    "tags": [
     "answer"
    ]
   },
   "outputs": [
    {
     "data": {
      "image/png": "[encoded data removed]",
      "text/plain": [
       "<Figure size 1080x720 with 1 Axes>"
      ]
     },
     "metadata": {
      "needs_background": "light"
     },
     "output_type": "display_data"
    }
   ],
   "source": [
    "hs = np.linspace(120,215,400)\n",
    "plt.plot(hs,pdf_F_cond(hs), label='P(F)=1/2');\n",
    "plt.plot(hs,pdf_F_cond_fac(hs), label='P(F)=1/4');\n",
    "plt.axhline(0.5, linewidth=1, c='green');\n",
    "plt.legend();"
   ]
  },
  {
   "cell_type": "code",
   "execution_count": 12,
   "id": "9c5d191c",
   "metadata": {
    "collapsed": true,
    "execution": {
     "iopub.execute_input": "2021-04-28T13:55:11.338097Z",
     "iopub.status.busy": "2021-04-28T13:55:11.337636Z",
     "iopub.status.idle": "2021-04-28T13:55:11.339413Z",
     "shell.execute_reply": "2021-04-28T13:55:11.339829Z"
    },
    "jupyter": {
     "outputs_hidden": true,
     "source_hidden": true
    },
    "tags": [
     "answer"
    ]
   },
   "outputs": [
    {
     "name": "stdout",
     "output_type": "stream",
     "text": [
      "168.0cm\n"
     ]
    }
   ],
   "source": [
    "from scipy.optimize import fsolve\n",
    "threshold_fac = fsolve(lambda h: pdf_F_cond_fac(h)-0.5, 160)\n",
    "print(f\"{threshold_fac.item():5.1f}cm\")"
   ]
  },
  {
   "cell_type": "markdown",
   "id": "12385a03",
   "metadata": {
    "jupyter": {
     "source_hidden": true
    },
    "slideshow": {
     "slide_type": "notes"
    },
    "tags": [
     "answer"
    ]
   },
   "source": [
    "As the women are now more rare  the treshold is now considerably lower. In extreme case if $P(S=f)=0$, think _e.g._ about all-boy's schools, then whathever  the height of the person, it has to be a man and treshold would be zero. "
   ]
  },
  {
   "cell_type": "markdown",
   "id": "9a7fdfb1",
   "metadata": {
    "slideshow": {
     "slide_type": "slide"
    },
    "tags": []
   },
   "source": [
    "# Errors"
   ]
  },
  {
   "cell_type": "markdown",
   "id": "ef726eff",
   "metadata": {
    "slideshow": {
     "slide_type": "notes"
    },
    "tags": []
   },
   "source": [
    "Of course this is very crude classifier. There are tall women and small men and classifier will make errors. Please note that those error are inherent in the problem, height by itself just does not provide enough information. But notion of error  as well as the concept of the  optimal classifier  requires some explanations. This we will discuss in the next section. "
   ]
  },
  {
   "cell_type": "markdown",
   "id": "c2b811b5",
   "metadata": {
    "slideshow": {
     "slide_type": "skip"
    },
    "tags": []
   },
   "source": [
    "## Binary classification"
   ]
  },
  {
   "cell_type": "markdown",
   "id": "7a4d74d3",
   "metadata": {
    "slideshow": {
     "slide_type": "notes"
    },
    "tags": []
   },
   "source": [
    "Our classifier is an example of binary classfier which can have only two outcomes: woman or man. It is customary the refer to those outcomes as positive and negative. "
   ]
  },
  {
   "cell_type": "markdown",
   "id": "a92e5b5a",
   "metadata": {
    "slideshow": {
     "slide_type": "slide",
     "slideshow": {
      "slide_type": "slide"
     }
    }
   },
   "source": [
    "## Confusion matrix"
   ]
  },
  {
   "cell_type": "markdown",
   "id": "c69cc307",
   "metadata": {
    "slideshow": {
     "slide_type": "notes"
    },
    "tags": []
   },
   "source": [
    "The performance of the binary classfier can be represented by a matrix, called _confusion matrix_:"
   ]
  },
  {
   "cell_type": "markdown",
   "id": "1507dfd0",
   "metadata": {
    "slideshow": {
     "slide_type": "fragment",
     "slideshow": {
      "slide_type": "slide"
     }
    }
   },
   "source": [
    "<table style=\"font-size:1.5em;\">\n",
    "<tr> <th/><th>        </th> <th colspan=2>actual</th></tr>\n",
    "<tr> <th/><th> </th><th>P</th><th>N</th></tr>\n",
    "<tr> <th/><th>predicted</th><th>F</th><th>M</th></tr>\n",
    "<tr> <th>P</th><th> F </th> <td>TP</td> <td>FP</td></tr>\n",
    "<tr> <th>N</th><th> M </th> <td>FN</td> <td>TN</td></tr>\n",
    "<tr> <th colspan=2>total</th> <td> P</td> <td>N</td></tr>\n",
    "</table>"
   ]
  },
  {
   "cell_type": "markdown",
   "id": "cef63af4",
   "metadata": {
    "slideshow": {
     "slide_type": "notes"
    },
    "tags": []
   },
   "source": [
    "The columns of the matrix correspond to real classes and  rows to the outcome of the classifier. On the diagonal we have good clasification: true positives and true negatives. In our example those are women classified as women and men classified as men. "
   ]
  },
  {
   "cell_type": "markdown",
   "id": "339ce6ab",
   "metadata": {
    "slideshow": {
     "slide_type": "notes"
    },
    "tags": []
   },
   "source": [
    "The off diagonal terms represent misclasification: false positives - men classified as women and false negatives - women classified as men. Please note that those are different types of errors and may have totally different consequences ! _E.g._ In medical tests classifying healthy person as ill has radically different consequence than clasyfying an ill person as healthy. "
   ]
  },
  {
   "cell_type": "markdown",
   "id": "9dc7fe19",
   "metadata": {
    "slideshow": {
     "slide_type": "notes"
    },
    "tags": []
   },
   "source": [
    "False positives are also refered to as **Type I** errors and false negatives as **Type II** errors."
   ]
  },
  {
   "cell_type": "markdown",
   "id": "277615f2",
   "metadata": {
    "slideshow": {
     "slide_type": "notes"
    },
    "tags": []
   },
   "source": [
    "In the above table I have somewhat missused the notation. The letters P and N  stand not only for \"positive\" and \"negative\" but also for the number of positives and negatives. I hope that the meaning will be clear from the context. "
   ]
  },
  {
   "cell_type": "markdown",
   "id": "98d0d14c",
   "metadata": {
    "slideshow": {
     "slide_type": "notes"
    },
    "tags": []
   },
   "source": [
    "Those absolute numbers can be converted into rates:"
   ]
  },
  {
   "cell_type": "markdown",
   "id": "531ebd95",
   "metadata": {
    "slideshow": {
     "slide_type": "slide"
    }
   },
   "source": [
    "### Rates\n",
    "$\n",
    "\\begin{array}{cccccc}\n",
    "TPR & = &\\frac{TP}{P},&\\quad FPR & = &\\frac{FP}{N} \\\\\n",
    "FNR & = &\\frac{FN}{P},&\\quad TNR & = &\\frac{TN}{N} \\\\\n",
    "  total  &   & 1             &\\quad     &   & 1 \n",
    "\\end{array}\n",
    "$"
   ]
  },
  {
   "cell_type": "markdown",
   "id": "cebece9c",
   "metadata": {
    "slideshow": {
     "slide_type": "notes"
    },
    "tags": []
   },
   "source": [
    "For example the true positives rate (TPR) is the fraction of women classified as women, and false positive rate  (FPR) is the fraction of men classified as women."
   ]
  },
  {
   "cell_type": "markdown",
   "id": "41bd0855",
   "metadata": {
    "slideshow": {
     "slide_type": "notes"
    },
    "tags": []
   },
   "source": [
    "Some other quantities used to measure the performance of the binary classifier include"
   ]
  },
  {
   "cell_type": "markdown",
   "id": "53467516",
   "metadata": {
    "slideshow": {
     "slide_type": "slide"
    },
    "tags": []
   },
   "source": [
    "__Accuracy__ is the fraction of correct classifications"
   ]
  },
  {
   "cell_type": "markdown",
   "id": "bea6be0f",
   "metadata": {},
   "source": [
    "$$\\frac{TP+TN}{P+N}$$"
   ]
  },
  {
   "cell_type": "markdown",
   "id": "d52ea9e6",
   "metadata": {
    "slideshow": {
     "slide_type": "fragment",
     "slideshow": {
      "slide_type": "slide"
     }
    }
   },
   "source": [
    "__Recall__ is another name for true positive rate "
   ]
  },
  {
   "cell_type": "markdown",
   "id": "0ef9febd",
   "metadata": {
    "slideshow": {
     "slide_type": "slide"
    },
    "tags": []
   },
   "source": [
    "__Precision__ is the fraction of true positive cases in all cases classified as positive"
   ]
  },
  {
   "cell_type": "markdown",
   "id": "22903707",
   "metadata": {
    "tags": []
   },
   "source": [
    "$$\\frac{TP}{TP+FP}$$ "
   ]
  },
  {
   "cell_type": "markdown",
   "id": "ac9592a8",
   "metadata": {
    "slideshow": {
     "slide_type": "notes"
    },
    "tags": []
   },
   "source": [
    "This can be viewed as the probability that given positive results that examplar is really a positive. "
   ]
  },
  {
   "cell_type": "markdown",
   "id": "92b773ae",
   "metadata": {
    "slideshow": {
     "slide_type": "slide"
    },
    "tags": []
   },
   "source": [
    "$\\mathbf{F_1}$ score is the harmonic mean  of precision and recall (TPR) "
   ]
  },
  {
   "cell_type": "markdown",
   "id": "a0b2e037",
   "metadata": {},
   "source": [
    "$$2\\cdot\\frac{precision\\cdot recall}{precision + recall} = \\frac{2\\cdot TP}{TP+FP+P}$$"
   ]
  },
  {
   "cell_type": "markdown",
   "id": "db5031fd",
   "metadata": {
    "slideshow": {
     "slide_type": "slide"
    },
    "tags": []
   },
   "source": [
    "__Problem__ Medical test"
   ]
  },
  {
   "cell_type": "markdown",
   "id": "d5cdad71",
   "metadata": {
    "tags": []
   },
   "source": [
    "Consider a rare disease (1 in 250 persons) and a test that has 0.8 true positive rate and 0.1 false positive rate. "
   ]
  },
  {
   "cell_type": "markdown",
   "id": "22b65a98",
   "metadata": {
    "tags": []
   },
   "source": [
    "__a__) \n",
    "Calculate the accuracy and precision and F1 score of the test . "
   ]
  },
  {
   "cell_type": "markdown",
   "id": "9a305991",
   "metadata": {
    "slideshow": {
     "slide_type": "skip"
    },
    "tags": []
   },
   "source": [
    "__Answer__"
   ]
  },
  {
   "cell_type": "markdown",
   "id": "aeda678c",
   "metadata": {
    "jupyter": {
     "source_hidden": true
    },
    "slideshow": {
     "slide_type": "skip"
    },
    "tags": [
     "answer"
    ]
   },
   "source": [
    "We can rewrite accuracy as \n",
    "$$\\frac{TP+TN}{P+N} = \\frac{TPR\\cdot P +TN\\cdot N}{P+N} = \\frac{TPR\\cdot P }{P+N}+  \\frac{TN\\cdot N}{P+N} = TPR\\cdot P(P)+TNR \\cdot P(N)$$\n",
    "\n",
    "We know that \n",
    "\n",
    "$$TPR=0.8,\\quad P(P)=0.004,\\quad P(N)=0.996,\\quad TNR=(1-FPR)=0.9$$ "
   ]
  },
  {
   "cell_type": "code",
   "execution_count": 13,
   "id": "573faf57",
   "metadata": {
    "execution": {
     "iopub.execute_input": "2021-04-28T13:55:11.342879Z",
     "iopub.status.busy": "2021-04-28T13:55:11.342424Z",
     "iopub.status.idle": "2021-04-28T13:55:11.344269Z",
     "shell.execute_reply": "2021-04-28T13:55:11.344621Z"
    },
    "jupyter": {
     "source_hidden": true
    },
    "slideshow": {
     "slide_type": "skip"
    },
    "tags": [
     "answer"
    ]
   },
   "outputs": [],
   "source": [
    "TPR = 0.8\n",
    "FPR =0.1\n",
    "PP = 0.004\n",
    "PN = 1-PP\n",
    "TNR = (1-FPR) "
   ]
  },
  {
   "cell_type": "markdown",
   "id": "f52161ef",
   "metadata": {
    "jupyter": {
     "source_hidden": true
    },
    "slideshow": {
     "slide_type": "skip"
    },
    "tags": [
     "answer"
    ]
   },
   "source": [
    "Giving finaly "
   ]
  },
  {
   "cell_type": "code",
   "execution_count": 14,
   "id": "39d0cd77",
   "metadata": {
    "collapsed": true,
    "execution": {
     "iopub.execute_input": "2021-04-28T13:55:11.347769Z",
     "iopub.status.busy": "2021-04-28T13:55:11.347246Z",
     "iopub.status.idle": "2021-04-28T13:55:11.349551Z",
     "shell.execute_reply": "2021-04-28T13:55:11.349916Z"
    },
    "jupyter": {
     "outputs_hidden": true,
     "source_hidden": true
    },
    "slideshow": {
     "slide_type": "skip"
    },
    "tags": [
     "answer"
    ]
   },
   "outputs": [
    {
     "name": "stdout",
     "output_type": "stream",
     "text": [
      "Accuracy = 0.8996\n"
     ]
    }
   ],
   "source": [
    "accuracy =  TPR *PP +TNR *PN\n",
    "print(\"Accuracy = {:.4f}\".format(accuracy))"
   ]
  },
  {
   "cell_type": "markdown",
   "id": "74ef35df",
   "metadata": {
    "jupyter": {
     "source_hidden": true
    },
    "slideshow": {
     "slide_type": "skip"
    },
    "tags": [
     "answer"
    ]
   },
   "source": [
    "Precision can be rewritten as\n",
    "\n",
    "$$\\frac{TP}{TP+FP}=\\frac{TPR\\cdot P(P)}{TPR\\cdot P(P)+FPR\\cdot P(N)}$$ \n",
    "\n",
    "After inserting number we obtain.\n"
   ]
  },
  {
   "cell_type": "code",
   "execution_count": 15,
   "id": "646784fa",
   "metadata": {
    "collapsed": true,
    "execution": {
     "iopub.execute_input": "2021-04-28T13:55:11.352899Z",
     "iopub.status.busy": "2021-04-28T13:55:11.352387Z",
     "iopub.status.idle": "2021-04-28T13:55:11.354421Z",
     "shell.execute_reply": "2021-04-28T13:55:11.354737Z"
    },
    "jupyter": {
     "outputs_hidden": true,
     "source_hidden": true
    },
    "slideshow": {
     "slide_type": "skip"
    },
    "tags": [
     "answer"
    ]
   },
   "outputs": [
    {
     "name": "stdout",
     "output_type": "stream",
     "text": [
      "Precision = 0.0311\n"
     ]
    }
   ],
   "source": [
    "precision = TPR*PP/(TPR*PP +FPR*PN)\n",
    "print(\"Precision = {:.4f}\".format(precision))"
   ]
  },
  {
   "cell_type": "markdown",
   "id": "dcb8b297",
   "metadata": {
    "jupyter": {
     "source_hidden": true
    },
    "slideshow": {
     "slide_type": "skip"
    },
    "tags": [
     "answer"
    ]
   },
   "source": [
    "This is not a coincidence that we have obtained same value as in Base Rate Fallacy problem in the probability notebook. Precision is exactly the conditional probability of being a true positive given that the test outcome is positive. "
   ]
  },
  {
   "cell_type": "markdown",
   "id": "96c8ef64",
   "metadata": {
    "jupyter": {
     "source_hidden": true
    },
    "slideshow": {
     "slide_type": "skip"
    },
    "tags": [
     "answer"
    ]
   },
   "source": [
    "$$F1 = \\frac{2\\cdot TP}{TP+FP+P} =  \\frac{2\\cdot TPR\\cdot P}{TPR\\cdot P+FPR\\cdot N+ P}\n",
    "=   \\frac{2\\cdot TPR\\cdot P(P)}{TPR\\cdot P(P)+FPR\\cdot P(N)+P(P)}\n",
    "$$"
   ]
  },
  {
   "cell_type": "code",
   "execution_count": 16,
   "id": "44d07ea9",
   "metadata": {
    "collapsed": true,
    "execution": {
     "iopub.execute_input": "2021-04-28T13:55:11.358116Z",
     "iopub.status.busy": "2021-04-28T13:55:11.357493Z",
     "iopub.status.idle": "2021-04-28T13:55:11.360265Z",
     "shell.execute_reply": "2021-04-28T13:55:11.360583Z"
    },
    "jupyter": {
     "outputs_hidden": true,
     "source_hidden": true
    },
    "slideshow": {
     "slide_type": "skip"
    },
    "tags": [
     "answer"
    ]
   },
   "outputs": [
    {
     "data": {
      "text/plain": [
       "0.0599250936329588"
      ]
     },
     "execution_count": 16,
     "metadata": {},
     "output_type": "execute_result"
    }
   ],
   "source": [
    "2*TPR*PP/(TPR*PP + FPR*PN+PP)"
   ]
  },
  {
   "cell_type": "markdown",
   "id": "06886e99",
   "metadata": {},
   "source": [
    "__b__)\n",
    "A dishonest lab is selling a test for this disease that  always tests negative and boats of 99.6% accuracy.  Are they correct? Calculate the TPR, FPR and precision and F1 score  for this test. "
   ]
  },
  {
   "cell_type": "markdown",
   "id": "508d4a40",
   "metadata": {
    "slideshow": {
     "slide_type": "skip"
    }
   },
   "source": [
    "__Answer__"
   ]
  },
  {
   "cell_type": "markdown",
   "id": "4e170b34",
   "metadata": {
    "jupyter": {
     "source_hidden": true
    },
    "slideshow": {
     "slide_type": "skip"
    },
    "tags": [
     "answer"
    ]
   },
   "source": [
    "For this test we have "
   ]
  },
  {
   "cell_type": "markdown",
   "id": "b62cf3e2",
   "metadata": {
    "jupyter": {
     "source_hidden": true
    },
    "slideshow": {
     "slide_type": "slide"
    },
    "tags": [
     "answer"
    ]
   },
   "source": [
    "$$TPR=0.0\\quad \\text{and }\\quad FPR=0.0$$"
   ]
  },
  {
   "cell_type": "code",
   "execution_count": 17,
   "id": "339afe80",
   "metadata": {
    "collapsed": true,
    "execution": {
     "iopub.execute_input": "2021-04-28T13:55:11.363320Z",
     "iopub.status.busy": "2021-04-28T13:55:11.362867Z",
     "iopub.status.idle": "2021-04-28T13:55:11.365086Z",
     "shell.execute_reply": "2021-04-28T13:55:11.365410Z"
    },
    "jupyter": {
     "outputs_hidden": true,
     "source_hidden": true
    },
    "slideshow": {
     "slide_type": "fragment"
    },
    "tags": [
     "answer"
    ]
   },
   "outputs": [
    {
     "name": "stdout",
     "output_type": "stream",
     "text": [
      "1.0\n"
     ]
    }
   ],
   "source": [
    "TPR_b = 0.0\n",
    "FPR_b = 0.0\n",
    "TNR_b = 1-FPR_b\n",
    "print(TNR_b)"
   ]
  },
  {
   "cell_type": "markdown",
   "id": "a1b9064e",
   "metadata": {
    "slideshow": {
     "slide_type": "skip"
    },
    "tags": []
   },
   "source": [
    "For accuracy this gives:"
   ]
  },
  {
   "cell_type": "code",
   "execution_count": 18,
   "id": "9c35b15d",
   "metadata": {
    "collapsed": true,
    "execution": {
     "iopub.execute_input": "2021-04-28T13:55:11.368583Z",
     "iopub.status.busy": "2021-04-28T13:55:11.367951Z",
     "iopub.status.idle": "2021-04-28T13:55:11.369967Z",
     "shell.execute_reply": "2021-04-28T13:55:11.370351Z"
    },
    "jupyter": {
     "outputs_hidden": true,
     "source_hidden": true
    },
    "slideshow": {
     "slide_type": "fragment"
    },
    "tags": [
     "answer"
    ]
   },
   "outputs": [
    {
     "name": "stdout",
     "output_type": "stream",
     "text": [
      "Accuracy = 0.9960\n"
     ]
    }
   ],
   "source": [
    "accuracy = TPR_b*PP + TNR_b*PN\n",
    "print(\"Accuracy = {:.4f}\".format(accuracy))"
   ]
  },
  {
   "cell_type": "markdown",
   "id": "4c17638e",
   "metadata": {
    "jupyter": {
     "source_hidden": true
    },
    "slideshow": {
     "slide_type": "fragment"
    },
    "tags": [
     "answer"
    ]
   },
   "source": [
    "Precision "
   ]
  },
  {
   "cell_type": "markdown",
   "id": "4096dd90",
   "metadata": {
    "jupyter": {
     "source_hidden": true
    },
    "slideshow": {
     "slide_type": "fragment"
    },
    "tags": [
     "answer"
    ]
   },
   "source": [
    "$$\\frac{0}{0+0}$$"
   ]
  },
  {
   "cell_type": "markdown",
   "id": "668d5a8e",
   "metadata": {
    "jupyter": {
     "source_hidden": true
    },
    "slideshow": {
     "slide_type": "notes"
    },
    "tags": [
     "answer"
    ]
   },
   "source": [
    "however is not well defined. By convention we can set it to zero in this case. "
   ]
  },
  {
   "cell_type": "markdown",
   "id": "9b3d149e",
   "metadata": {
    "jupyter": {
     "source_hidden": true
    },
    "slideshow": {
     "slide_type": "notes"
    },
    "tags": [
     "answer"
    ]
   },
   "source": [
    "As for the $F_1$ it actually has a well defined value"
   ]
  },
  {
   "cell_type": "code",
   "execution_count": 19,
   "id": "fae4d141",
   "metadata": {
    "collapsed": true,
    "execution": {
     "iopub.execute_input": "2021-04-28T13:55:11.373265Z",
     "iopub.status.busy": "2021-04-28T13:55:11.372766Z",
     "iopub.status.idle": "2021-04-28T13:55:11.375251Z",
     "shell.execute_reply": "2021-04-28T13:55:11.375634Z"
    },
    "jupyter": {
     "outputs_hidden": true,
     "source_hidden": true
    },
    "slideshow": {
     "slide_type": "fragment"
    },
    "tags": [
     "answer"
    ]
   },
   "outputs": [
    {
     "name": "stdout",
     "output_type": "stream",
     "text": [
      "F score = 0.00\n"
     ]
    }
   ],
   "source": [
    "f1_b = 2*TPR_b*PP/(TPR_b*PP + FPR_b*PN+PP)\n",
    "print(\"F score = {:4.2f}\".format(f1_b))"
   ]
  },
  {
   "cell_type": "markdown",
   "id": "ce2cc5be",
   "metadata": {
    "slideshow": {
     "slide_type": "notes"
    }
   },
   "source": [
    "The above examples are meant to warn you about using the accuracy as a metric in case of the dataset with unbalanced classes _i.e._ sets where one class is much less frequent then the rest. "
   ]
  },
  {
   "cell_type": "markdown",
   "id": "0a45517d",
   "metadata": {
    "slideshow": {
     "slide_type": "slide"
    }
   },
   "source": [
    "## Calculating the errors of our \"sex from height\" classifier. "
   ]
  },
  {
   "cell_type": "markdown",
   "id": "37be449f-1d35-488e-85c9-e3053c90c4ae",
   "metadata": {
    "slideshow": {
     "slide_type": "notes"
    },
    "tags": []
   },
   "source": [
    "In this case  we could actually calculate the desired quantities analitically but in most cases this is not possible and can be approximated only by actual testing. \n",
    "As we do not have real data we will use the Monte-Carlo technique. We will start by simulating the heights of 100000 persons with equal number of women and men using the properties of the distribution objects from `scipy.stats`:"
   ]
  },
  {
   "cell_type": "code",
   "execution_count": 20,
   "id": "cd541ba4",
   "metadata": {
    "execution": {
     "iopub.execute_input": "2021-04-28T13:55:11.378909Z",
     "iopub.status.busy": "2021-04-28T13:55:11.378450Z",
     "iopub.status.idle": "2021-04-28T13:55:11.384099Z",
     "shell.execute_reply": "2021-04-28T13:55:11.384561Z"
    },
    "slideshow": {
     "slide_type": "fragment"
    }
   },
   "outputs": [],
   "source": [
    "n_samples = 100000\n",
    "h_F = pd_h_cond_F.rvs(size = n_samples//2) # rvs stands for random variates - random numbers drawn from the distribution\n",
    "h_M = pd_h_cond_M.rvs(size = n_samples//2)\n",
    "h_FM = np.concatenate((h_F, h_M))\n",
    "labels = np.concatenate((np.ones_like(h_F, dtype='int64'), np.zeros_like(h_M, dtype='int64')))"
   ]
  },
  {
   "cell_type": "markdown",
   "id": "488bc60f",
   "metadata": {
    "slideshow": {
     "slide_type": "skip"
    },
    "tags": []
   },
   "source": [
    "Once we have the heights we pass them trough our classifier."
   ]
  },
  {
   "cell_type": "code",
   "execution_count": 21,
   "id": "077b75ab",
   "metadata": {
    "execution": {
     "iopub.execute_input": "2021-04-28T13:55:11.387610Z",
     "iopub.status.busy": "2021-04-28T13:55:11.387161Z",
     "iopub.status.idle": "2021-04-28T13:55:11.406584Z",
     "shell.execute_reply": "2021-04-28T13:55:11.406913Z"
    },
    "slideshow": {
     "slide_type": "fragment"
    },
    "tags": []
   },
   "outputs": [],
   "source": [
    "clasification = ( pdf_F_cond(h_FM)>=0.5 )"
   ]
  },
  {
   "cell_type": "markdown",
   "id": "d75211b9",
   "metadata": {
    "slideshow": {
     "slide_type": "slide"
    },
    "tags": []
   },
   "source": [
    "#### Accuracy "
   ]
  },
  {
   "cell_type": "code",
   "execution_count": 22,
   "id": "06f80493",
   "metadata": {
    "execution": {
     "iopub.execute_input": "2021-04-28T13:55:11.410419Z",
     "iopub.status.busy": "2021-04-28T13:55:11.409757Z",
     "iopub.status.idle": "2021-04-28T13:55:11.412703Z",
     "shell.execute_reply": "2021-04-28T13:55:11.413032Z"
    },
    "tags": []
   },
   "outputs": [
    {
     "name": "stdout",
     "output_type": "stream",
     "text": [
      "0.82084\n"
     ]
    }
   ],
   "source": [
    "accuracy = (clasification == labels).sum()/n_samples\n",
    "print(accuracy)"
   ]
  },
  {
   "cell_type": "markdown",
   "id": "77ccc95a",
   "metadata": {
    "slideshow": {
     "slide_type": "skip"
    },
    "tags": []
   },
   "source": [
    "We have used here some automatic conversion done by python. The `classification` array is an array of bools:"
   ]
  },
  {
   "cell_type": "code",
   "execution_count": 23,
   "id": "288e3445",
   "metadata": {
    "execution": {
     "iopub.execute_input": "2021-04-28T13:55:11.416538Z",
     "iopub.status.busy": "2021-04-28T13:55:11.415802Z",
     "iopub.status.idle": "2021-04-28T13:55:11.419027Z",
     "shell.execute_reply": "2021-04-28T13:55:11.419355Z"
    },
    "slideshow": {
     "slide_type": "skip"
    },
    "tags": []
   },
   "outputs": [
    {
     "data": {
      "text/plain": [
       "dtype('bool')"
      ]
     },
     "execution_count": 23,
     "metadata": {},
     "output_type": "execute_result"
    }
   ],
   "source": [
    "clasification.dtype"
   ]
  },
  {
   "cell_type": "markdown",
   "id": "748b9477",
   "metadata": {
    "slideshow": {
     "slide_type": "skip"
    },
    "tags": []
   },
   "source": [
    "and labels are an array of  integers. However when comparing them `True` is treated as one and `False` as zero. Comparing two arrays gives an  array of bools. The sum again treats `True` as one and `False` as zero."
   ]
  },
  {
   "cell_type": "markdown",
   "id": "fe219dca",
   "metadata": {
    "slideshow": {
     "slide_type": "slide"
    },
    "tags": []
   },
   "source": [
    "#### False positives rate"
   ]
  },
  {
   "cell_type": "markdown",
   "id": "4fd82cfb",
   "metadata": {
    "slideshow": {
     "slide_type": "skip"
    },
    "tags": []
   },
   "source": [
    "Because women have label 1 and men 0 this counts men that have been classified as women"
   ]
  },
  {
   "cell_type": "code",
   "execution_count": 24,
   "id": "9a8c7c23",
   "metadata": {
    "execution": {
     "iopub.execute_input": "2021-04-28T13:55:11.422655Z",
     "iopub.status.busy": "2021-04-28T13:55:11.421939Z",
     "iopub.status.idle": "2021-04-28T13:55:11.425490Z",
     "shell.execute_reply": "2021-04-28T13:55:11.425155Z"
    }
   },
   "outputs": [
    {
     "name": "stdout",
     "output_type": "stream",
     "text": [
      "0.2005\n"
     ]
    }
   ],
   "source": [
    "fpr = np.sum(clasification> labels)/50000\n",
    "print(fpr)"
   ]
  },
  {
   "cell_type": "markdown",
   "id": "12cd1cdd",
   "metadata": {},
   "source": [
    "#### False negatives rate"
   ]
  },
  {
   "cell_type": "code",
   "execution_count": 25,
   "id": "d5daefd0",
   "metadata": {
    "execution": {
     "iopub.execute_input": "2021-04-28T13:55:11.428918Z",
     "iopub.status.busy": "2021-04-28T13:55:11.428128Z",
     "iopub.status.idle": "2021-04-28T13:55:11.431523Z",
     "shell.execute_reply": "2021-04-28T13:55:11.431998Z"
    },
    "tags": []
   },
   "outputs": [
    {
     "name": "stdout",
     "output_type": "stream",
     "text": [
      "0.15782\n"
     ]
    }
   ],
   "source": [
    "fnr = np.sum(clasification < labels)/50000\n",
    "print(fnr)"
   ]
  },
  {
   "cell_type": "markdown",
   "id": "7732d6dc",
   "metadata": {
    "slideshow": {
     "slide_type": "notes"
    },
    "tags": []
   },
   "source": [
    "As you can see the FPR and FNR are not equal. This classifier will more often wrongly classify men as women then  women as men.   "
   ]
  },
  {
   "cell_type": "markdown",
   "id": "e177d1cb",
   "metadata": {},
   "source": [
    "#### True positives rate"
   ]
  },
  {
   "cell_type": "code",
   "execution_count": 26,
   "id": "c21b7a80",
   "metadata": {
    "execution": {
     "iopub.execute_input": "2021-04-28T13:55:11.435269Z",
     "iopub.status.busy": "2021-04-28T13:55:11.434777Z",
     "iopub.status.idle": "2021-04-28T13:55:11.437073Z",
     "shell.execute_reply": "2021-04-28T13:55:11.437393Z"
    }
   },
   "outputs": [
    {
     "name": "stdout",
     "output_type": "stream",
     "text": [
      "0.84218\n"
     ]
    }
   ],
   "source": [
    "tpr = 1-fnr\n",
    "print(tpr)"
   ]
  },
  {
   "cell_type": "markdown",
   "id": "fe0764d8",
   "metadata": {},
   "source": [
    "#### True negatives rate"
   ]
  },
  {
   "cell_type": "code",
   "execution_count": 27,
   "id": "881af495",
   "metadata": {
    "execution": {
     "iopub.execute_input": "2021-04-28T13:55:11.440054Z",
     "iopub.status.busy": "2021-04-28T13:55:11.439518Z",
     "iopub.status.idle": "2021-04-28T13:55:11.441360Z",
     "shell.execute_reply": "2021-04-28T13:55:11.441919Z"
    }
   },
   "outputs": [
    {
     "name": "stdout",
     "output_type": "stream",
     "text": [
      "0.7995\n"
     ]
    }
   ],
   "source": [
    "tnr = 1-fpr\n",
    "print(tnr)"
   ]
  },
  {
   "cell_type": "markdown",
   "id": "fe5c51c0",
   "metadata": {
    "slideshow": {
     "slide_type": "skip"
    },
    "tags": []
   },
   "source": [
    "__Problem__"
   ]
  },
  {
   "cell_type": "markdown",
   "id": "7324e035",
   "metadata": {
    "slideshow": {
     "slide_type": "skip"
    },
    "tags": []
   },
   "source": [
    "Calculate the precision and $F_1$ score for this classifier. "
   ]
  },
  {
   "cell_type": "markdown",
   "id": "670c37d3",
   "metadata": {
    "slideshow": {
     "slide_type": "slide"
    }
   },
   "source": [
    "## ROC curve"
   ]
  },
  {
   "cell_type": "markdown",
   "id": "d33234b0",
   "metadata": {
    "slideshow": {
     "slide_type": "notes"
    },
    "tags": []
   },
   "source": [
    "We have seen that the performace of a binary classifier can be characterised by two numbers often chosen as true positives rate (TPR) and false positives rate (FPR). Those numbers depend on the treshold used for deciding when to classify somebody as a woman. The choice on 1/2 seems logical and even obvious but as we will see it is optimal only in one case. Chosing a different  treshold will give us different   (TPR, FPR) pair which we can visualize as a point on a plot. Ploting the points for all tresholds gives us so called Receiver Operational Characteristic (ROC) curve. "
   ]
  },
  {
   "cell_type": "markdown",
   "id": "13b58934",
   "metadata": {
    "slideshow": {
     "slide_type": "notes"
    },
    "tags": []
   },
   "source": [
    "Redoing the MC calculations for different tresholds to calculate TPR nad FPR would be time consuming and not so accurate. There is an efficient algorithms for doing that and we can use an implementation from `scikit-learn` library:"
   ]
  },
  {
   "cell_type": "code",
   "execution_count": 28,
   "id": "f66c60e9",
   "metadata": {
    "execution": {
     "iopub.execute_input": "2021-04-28T13:55:11.444634Z",
     "iopub.status.busy": "2021-04-28T13:55:11.444177Z",
     "iopub.status.idle": "2021-04-28T13:55:11.699931Z",
     "shell.execute_reply": "2021-04-28T13:55:11.700345Z"
    },
    "slideshow": {
     "slide_type": "slide"
    }
   },
   "outputs": [],
   "source": [
    "from sklearn.metrics import roc_curve, roc_auc_score"
   ]
  },
  {
   "cell_type": "markdown",
   "id": "768bac15",
   "metadata": {
    "slideshow": {
     "slide_type": "notes"
    },
    "tags": []
   },
   "source": [
    "Function [roc_curve](https://scikit-learn.org/stable/modules/generated/sklearn.metrics.roc_curve.html) takes as its first argument the  true labels: zeros for negatives and ones for positives. The second argument is the probability of positive outcome calculated for each sample point in the same order as labels. "
   ]
  },
  {
   "cell_type": "code",
   "execution_count": 29,
   "id": "918fb8b4",
   "metadata": {
    "execution": {
     "iopub.execute_input": "2021-04-28T13:55:11.703513Z",
     "iopub.status.busy": "2021-04-28T13:55:11.702994Z",
     "iopub.status.idle": "2021-04-28T13:55:11.734153Z",
     "shell.execute_reply": "2021-04-28T13:55:11.734525Z"
    },
    "slideshow": {
     "slide_type": "fragment"
    },
    "tags": []
   },
   "outputs": [],
   "source": [
    "fprs, tprs, thds = roc_curve(labels, pdf_F_cond(h_FM));"
   ]
  },
  {
   "cell_type": "code",
   "execution_count": 30,
   "id": "daab9ee1",
   "metadata": {
    "execution": {
     "iopub.execute_input": "2021-04-28T13:55:11.738284Z",
     "iopub.status.busy": "2021-04-28T13:55:11.737663Z",
     "iopub.status.idle": "2021-04-28T13:55:11.739205Z",
     "shell.execute_reply": "2021-04-28T13:55:11.739564Z"
    },
    "slideshow": {
     "slide_type": "skip"
    },
    "tags": []
   },
   "outputs": [],
   "source": [
    "def roc_plot(figsize=[fig_height,fig_height]):\n",
    "    \"\"\"Returns figure and axes object for plotting ROC curve\n",
    "    setting aspect ration to one and labeling the axes.\n",
    "    \"\"\"\n",
    "    fig, ax = plt.subplots(figsize=figsize)\n",
    "    ax.set_aspect(1)\n",
    "    ax.set_xlabel('FPR');\n",
    "    ax.set_ylabel('TPR');\n",
    "    return fig,ax"
   ]
  },
  {
   "cell_type": "markdown",
   "id": "703f4ff3",
   "metadata": {
    "slideshow": {
     "slide_type": "notes"
    }
   },
   "source": [
    "and  returns three arrays containg false positives rates, true positives rates and thresholds which we will use to plot the curve. "
   ]
  },
  {
   "cell_type": "code",
   "execution_count": 31,
   "id": "ae4ccabf",
   "metadata": {
    "execution": {
     "iopub.execute_input": "2021-04-28T13:55:11.761428Z",
     "iopub.status.busy": "2021-04-28T13:55:11.760740Z",
     "iopub.status.idle": "2021-04-28T13:55:11.906781Z",
     "shell.execute_reply": "2021-04-28T13:55:11.907175Z"
    },
    "slideshow": {
     "slide_type": "slide"
    }
   },
   "outputs": [
    {
     "data": {
      "image/png": "[encoded data removed]",
      "text/plain": [
       "<Figure size 720x720 with 1 Axes>"
      ]
     },
     "metadata": {
      "needs_background": "light"
     },
     "output_type": "display_data"
    }
   ],
   "source": [
    "fig, ax = roc_plot()\n",
    "\n",
    "roc = ax.plot(fprs,tprs, color='blue');\n",
    "ax.scatter([fpr],[tpr],s = 30, color='blue', zorder=5)\n",
    "\n",
    "ax.set_title(\"ROC curve\", fontsize=14);\n",
    "ax.plot([0,1],[0,1],'-', c='grey', linewidth = 1 )\n",
    "ax.plot([0,0,1],[0,1,1],'--', c = roc[0].get_color() , linewidth=0.5)\n",
    "ax.scatter([0],[0],s = 30, c = roc[0].get_color() )\n",
    "ax.scatter([1],[1],s = 30)\n",
    "ax.scatter([0],[1],s = 30, edgecolor='blue', facecolor='white', zorder=5)\n",
    "ax.scatter([0],[1],s = 30, edgecolor='blue', facecolor='white', zorder=5)\n",
    "ax.grid()\n",
    "\n",
    "ax.annotate(\"Perfect classifier\",(0.01,0.99),(0.05, 0.92), arrowprops = {'arrowstyle':'-> '}, fontsize=12);"
   ]
  },
  {
   "cell_type": "markdown",
   "id": "82ea69c3-14a0-4891-b139-8f34199fe099",
   "metadata": {
    "slideshow": {
     "slide_type": "notes"
    },
    "tags": []
   },
   "source": [
    "As we can see we must compromise, the  perfect classfier corresponds to point (0,1) and does not lie on our curve. We can increase TPR but only by increasing FPR. \n",
    "\n",
    "In extreme cases we may clasify everybody as men. Then FPR = 0 but also TPR = 0. Other extreme would be to classify everybody as women. Then we have TPR = 1 but also FPR = 1. So the ROC curve always start at (0,0) and ends at (1,1). \n",
    "\n",
    "The diagonal black line represents random guessing. If you classify somebody randomly as a woman with probability $r$ then true positives rate is also $r$. But so is the false positives rate. This gives as a $(r,r)$ point on the plot. Changing $r$ we can get the whole diagonal. "
   ]
  },
  {
   "cell_type": "markdown",
   "id": "202f1db7",
   "metadata": {
    "slideshow": {
     "slide_type": "slide"
    }
   },
   "source": [
    "## Optimal threshold"
   ]
  },
  {
   "cell_type": "markdown",
   "id": "e01bb2c2",
   "metadata": {
    "slideshow": {
     "slide_type": "notes"
    },
    "tags": []
   },
   "source": [
    "So how do we chose a point on ROC curve ? That depends on our goals, we need some criterion, so let's say we want to minimize the number of misclasifications (or maximize accuracy). "
   ]
  },
  {
   "cell_type": "markdown",
   "id": "2bcd0211",
   "metadata": {
    "slideshow": {
     "slide_type": "skip"
    },
    "tags": []
   },
   "source": [
    "From the definitions: "
   ]
  },
  {
   "cell_type": "markdown",
   "id": "e735edb5",
   "metadata": {
    "slideshow": {
     "slide_type": "fragment"
    }
   },
   "source": [
    "$$FP +FN = FPR\\cdot N + FNR\\cdot P = FPR\\cdot N+ (1-TPR)\\cdot P \\propto FPR\\cdot P(N) + (1-TPR)\\cdot P(P) $$ "
   ]
  },
  {
   "cell_type": "markdown",
   "id": "0646a545",
   "metadata": {
    "slideshow": {
     "slide_type": "skip"
    },
    "tags": []
   },
   "source": [
    "Please remember that positives are women and negatives are men:) The above formula translates into Python"
   ]
  },
  {
   "cell_type": "code",
   "execution_count": 32,
   "id": "d59bfd97",
   "metadata": {
    "execution": {
     "iopub.execute_input": "2021-04-28T13:55:11.910188Z",
     "iopub.status.busy": "2021-04-28T13:55:11.909737Z",
     "iopub.status.idle": "2021-04-28T13:55:11.911769Z",
     "shell.execute_reply": "2021-04-28T13:55:11.912118Z"
    },
    "slideshow": {
     "slide_type": "fragment"
    }
   },
   "outputs": [],
   "source": [
    "errs = fprs*0.5+(1-tprs)*0.5"
   ]
  },
  {
   "cell_type": "markdown",
   "id": "71ff7a58",
   "metadata": {
    "slideshow": {
     "slide_type": "notes"
    },
    "tags": []
   },
   "source": [
    "We look for the index containing the minimal value which can be used to access corresponding threshold value"
   ]
  },
  {
   "cell_type": "code",
   "execution_count": 33,
   "id": "e4a158c7",
   "metadata": {
    "execution": {
     "iopub.execute_input": "2021-04-28T13:55:11.914963Z",
     "iopub.status.busy": "2021-04-28T13:55:11.914483Z",
     "iopub.status.idle": "2021-04-28T13:55:11.916508Z",
     "shell.execute_reply": "2021-04-28T13:55:11.916843Z"
    },
    "slideshow": {
     "slide_type": "fragment"
    },
    "tags": []
   },
   "outputs": [
    {
     "name": "stdout",
     "output_type": "stream",
     "text": [
      "13682 0.517016222693121\n"
     ]
    }
   ],
   "source": [
    "imin = np.argmin(errs)\n",
    "print(imin, thds[imin])"
   ]
  },
  {
   "cell_type": "markdown",
   "id": "122e2202",
   "metadata": {
    "slideshow": {
     "slide_type": "skip"
    }
   },
   "source": [
    "So as expected the optimal treshold is equal to 1/2 (within our Monte-Carlo accuracy). "
   ]
  },
  {
   "cell_type": "code",
   "execution_count": 34,
   "id": "ebd75644",
   "metadata": {
    "execution": {
     "iopub.execute_input": "2021-04-28T13:55:11.969211Z",
     "iopub.status.busy": "2021-04-28T13:55:11.968542Z",
     "iopub.status.idle": "2021-04-28T13:55:12.078798Z",
     "shell.execute_reply": "2021-04-28T13:55:12.078369Z"
    },
    "slideshow": {
     "slide_type": "slide"
    }
   },
   "outputs": [
    {
     "data": {
      "image/png": "[encoded data removed]",
      "text/plain": [
       "<Figure size 1080x720 with 1 Axes>"
      ]
     },
     "metadata": {
      "needs_background": "light"
     },
     "output_type": "display_data"
    }
   ],
   "source": [
    "fig, ax = plt.subplots()\n",
    "ax.set_ylabel(\"Error rate\")\n",
    "ax.set_xlabel(\"Threshold\")\n",
    "ax.set_xlim(0,1)\n",
    "ax.plot(thds,errs, zorder=1)\n",
    "ax.grid()\n",
    "ax.scatter([thds[imin]], [errs[imin]], c='red', zorder=2);"
   ]
  },
  {
   "cell_type": "markdown",
   "id": "0fb2eb3e",
   "metadata": {
    "slideshow": {
     "slide_type": "slide"
    }
   },
   "source": [
    "### Error costs"
   ]
  },
  {
   "cell_type": "markdown",
   "id": "74b31f78-9a4a-40a2-aee2-28cc688cefbf",
   "metadata": {
    "slideshow": {
     "slide_type": "notes"
    },
    "tags": []
   },
   "source": [
    "More often we are interested not so much in accuracy but in total cost of the mistakes. And as already stated the costs of different types of error can be different. \n",
    "\n",
    "Imagine for example such scenario: You classify a person and  if you decide it's a woman you invite her to candlelight dinner. If it's a man you invite him for a beer. You live in a rather conservative society where when a man is invited to a candlelight diner  he will knock you teeths off. If you invite a woman for a beer she will slap you. How should you choose a treshold in this case? \n",
    "\n",
    "To answer this question you have to  assign a cost to each type of errors. Let's assume that you consider the cost of your teeth as five times bigger then cost of being slapped in the face. Then the expected cost is: "
   ]
  },
  {
   "cell_type": "markdown",
   "id": "993d415a",
   "metadata": {
    "slideshow": {
     "slide_type": "fragment"
    }
   },
   "source": [
    "$$c_2\\cdot FPR\\cdot P(P)+ c_1\\cdot (1-TPR)\\cdot P(N)$$ "
   ]
  },
  {
   "cell_type": "markdown",
   "id": "8fbe438c",
   "metadata": {
    "slideshow": {
     "slide_type": "skip"
    },
    "tags": []
   },
   "source": [
    "with "
   ]
  },
  {
   "cell_type": "markdown",
   "id": "e32ed8ad",
   "metadata": {
    "slideshow": {
     "slide_type": "fragment"
    },
    "tags": []
   },
   "source": [
    "$$c_2 = 5\\quad c_1 = 1$$  "
   ]
  },
  {
   "cell_type": "markdown",
   "id": "3f0c20be",
   "metadata": {
    "slideshow": {
     "slide_type": "skip"
    },
    "tags": []
   },
   "source": [
    "We can redo the calculations with the new cost estimate"
   ]
  },
  {
   "cell_type": "code",
   "execution_count": 35,
   "id": "7bd208ea",
   "metadata": {
    "execution": {
     "iopub.execute_input": "2021-04-28T13:55:12.081890Z",
     "iopub.status.busy": "2021-04-28T13:55:12.081382Z",
     "iopub.status.idle": "2021-04-28T13:55:12.083468Z",
     "shell.execute_reply": "2021-04-28T13:55:12.083783Z"
    },
    "slideshow": {
     "slide_type": "fragment"
    },
    "tags": []
   },
   "outputs": [],
   "source": [
    "errs_c = 5 * fprs+1*(1-tprs)"
   ]
  },
  {
   "cell_type": "code",
   "execution_count": 36,
   "id": "4518506f",
   "metadata": {
    "execution": {
     "iopub.execute_input": "2021-04-28T13:55:12.086517Z",
     "iopub.status.busy": "2021-04-28T13:55:12.086060Z",
     "iopub.status.idle": "2021-04-28T13:55:12.087789Z",
     "shell.execute_reply": "2021-04-28T13:55:12.088165Z"
    },
    "slideshow": {
     "slide_type": "fragment"
    },
    "tags": []
   },
   "outputs": [
    {
     "name": "stdout",
     "output_type": "stream",
     "text": [
      "13682 0.8322703185885568\n"
     ]
    }
   ],
   "source": [
    "imin_c = np.argmin(errs_c)\n",
    "print(imin, thds[imin_c])"
   ]
  },
  {
   "cell_type": "code",
   "execution_count": 37,
   "id": "0d722284",
   "metadata": {
    "execution": {
     "iopub.execute_input": "2021-04-28T13:55:12.104237Z",
     "iopub.status.busy": "2021-04-28T13:55:12.103680Z",
     "iopub.status.idle": "2021-04-28T13:55:12.186755Z",
     "shell.execute_reply": "2021-04-28T13:55:12.187095Z"
    },
    "slideshow": {
     "slide_type": "slide"
    }
   },
   "outputs": [
    {
     "data": {
      "image/png": "[encoded data removed]",
      "text/plain": [
       "<Figure size 1080x720 with 1 Axes>"
      ]
     },
     "metadata": {
      "needs_background": "light"
     },
     "output_type": "display_data"
    }
   ],
   "source": [
    "fig, ax = plt.subplots()\n",
    "ax.set_ylabel(\"Cost\")\n",
    "ax.set_xlabel(\"Threshold\")\n",
    "ax.set_xlim(0,1)\n",
    "ax.plot(thds,errs_c, zorder=1)\n",
    "ax.scatter([thds[imin_c]], [errs_c[imin_c]], c='red', zorder=2);"
   ]
  },
  {
   "cell_type": "markdown",
   "id": "4c42c5ba",
   "metadata": {
    "slideshow": {
     "slide_type": "notes"
    },
    "tags": []
   },
   "source": [
    "Now the treshold is considerably higher. That's logical as mistaking men for women (false positive) is more costly, you want to be more sure that this is a woman before  asking this person out on   date. \n",
    "A look at the ROC curve shows that we have indeed decreased the false positives rate but at the expense of decreasing the true positive rate as well. "
   ]
  },
  {
   "cell_type": "code",
   "execution_count": 38,
   "id": "7fec1d38",
   "metadata": {
    "execution": {
     "iopub.execute_input": "2021-04-28T13:55:12.203068Z",
     "iopub.status.busy": "2021-04-28T13:55:12.202601Z",
     "iopub.status.idle": "2021-04-28T13:55:12.468797Z",
     "shell.execute_reply": "2021-04-28T13:55:12.469122Z"
    },
    "slideshow": {
     "slide_type": "slide"
    },
    "tags": []
   },
   "outputs": [
    {
     "data": {
      "image/png": "[encoded data removed]",
      "text/plain": [
       "<Figure size 720x720 with 1 Axes>"
      ]
     },
     "metadata": {
      "needs_background": "light"
     },
     "output_type": "display_data"
    }
   ],
   "source": [
    "fig, ax = roc_plot()\n",
    "ax.plot(fprs, tprs, zorder=1)\n",
    "ax.scatter([fprs[imin]], [tprs[imin]], c='blue', zorder=2, label='$c_1 = c_2$' );\n",
    "ax.scatter([fprs[imin_c]], [tprs[imin_c]], c='red', zorder=2, label=\"$c_1=1\\;c_2=5$\");\n",
    "ax.legend();"
   ]
  },
  {
   "cell_type": "markdown",
   "id": "4dcedc59",
   "metadata": {
    "slideshow": {
     "slide_type": "notes"
    },
    "tags": []
   },
   "source": [
    "Actually we did not need to search  the optimal treshold as above. There is a theorem that states that given the costs the optimal treshold is "
   ]
  },
  {
   "cell_type": "markdown",
   "id": "864e11a7",
   "metadata": {
    "slideshow": {
     "slide_type": "slide"
    }
   },
   "source": [
    "### Optimal threshold"
   ]
  },
  {
   "cell_type": "markdown",
   "id": "398678f9",
   "metadata": {
    "slideshow": {
     "slide_type": "-",
     "slideshow": {
      "slide_type": "slide"
     }
    },
    "tags": []
   },
   "source": [
    "$$ \\frac{c_2}{c_1+c_2}$$"
   ]
  },
  {
   "cell_type": "markdown",
   "id": "72470889",
   "metadata": {
    "slideshow": {
     "slide_type": "skip"
    }
   },
   "source": [
    "which in this case is equal to"
   ]
  },
  {
   "cell_type": "code",
   "execution_count": 39,
   "id": "6172da34",
   "metadata": {
    "execution": {
     "iopub.execute_input": "2021-04-28T13:55:12.472130Z",
     "iopub.status.busy": "2021-04-28T13:55:12.471584Z",
     "iopub.status.idle": "2021-04-28T13:55:12.473628Z",
     "shell.execute_reply": "2021-04-28T13:55:12.473944Z"
    },
    "slideshow": {
     "slide_type": "fragment"
    }
   },
   "outputs": [
    {
     "data": {
      "text/plain": [
       "0.8333333333333334"
      ]
     },
     "execution_count": 39,
     "metadata": {},
     "output_type": "execute_result"
    }
   ],
   "source": [
    "5/6"
   ]
  },
  {
   "cell_type": "code",
   "execution_count": 40,
   "id": "41b51d76",
   "metadata": {
    "execution": {
     "iopub.execute_input": "2021-04-28T13:55:12.489015Z",
     "iopub.status.busy": "2021-04-28T13:55:12.488561Z",
     "iopub.status.idle": "2021-04-28T13:55:12.582764Z",
     "shell.execute_reply": "2021-04-28T13:55:12.582420Z"
    },
    "slideshow": {
     "slide_type": "slide"
    }
   },
   "outputs": [
    {
     "data": {
      "image/png": "[encoded data removed]",
      "text/plain": [
       "<Figure size 1080x720 with 1 Axes>"
      ]
     },
     "metadata": {
      "needs_background": "light"
     },
     "output_type": "display_data"
    }
   ],
   "source": [
    "fig, ax = plt.subplots()\n",
    "ax.set_xlim(0.,1)\n",
    "ax.set_ylabel(\"Cost\")\n",
    "ax.set_xlabel(\"Threshold\")\n",
    "ax.plot(thds,errs_c, '-', zorder=1)\n",
    "ax.scatter([thds[imin_c]], [errs_c[imin_c]], c='red', zorder=2);\n",
    "ax.axvline(5/6, zorder=1);"
   ]
  },
  {
   "cell_type": "markdown",
   "id": "9ba44636",
   "metadata": {
    "slideshow": {
     "slide_type": "notes"
    },
    "tags": []
   },
   "source": [
    "which is resonably close to our value. The agreement is not perfect because our calculations were based on finite size sample. "
   ]
  },
  {
   "cell_type": "markdown",
   "id": "103f4ca7",
   "metadata": {
    "slideshow": {
     "slide_type": "slide"
    }
   },
   "source": [
    "### AUC score"
   ]
  },
  {
   "cell_type": "markdown",
   "id": "e22707ef",
   "metadata": {
    "slideshow": {
     "slide_type": "notes"
    },
    "tags": []
   },
   "source": [
    "As we have learned a probabilistic classifier actually represents a whole familly of classifiers that is parametrized by the classification threshold and can be visualised by the ROC curve. It would be convenient to be able to summarise the performance of this familly with a single number. This can be achieved with _area under the curve_  (AUC) score. As the name implies this is the area under the ROC curve. We can use `roc_auc_score` function from scikit-learn to calculate it. This function takes same arguments as `roc_curve`"
   ]
  },
  {
   "cell_type": "code",
   "execution_count": 41,
   "id": "f3c8326c",
   "metadata": {
    "execution": {
     "iopub.execute_input": "2021-04-28T13:55:12.585594Z",
     "iopub.status.busy": "2021-04-28T13:55:12.585141Z",
     "iopub.status.idle": "2021-04-28T13:55:12.626406Z",
     "shell.execute_reply": "2021-04-28T13:55:12.626740Z"
    },
    "slideshow": {
     "slide_type": "slide"
    },
    "tags": []
   },
   "outputs": [],
   "source": [
    "auc = roc_auc_score(labels, pdf_F_cond(h_FM))"
   ]
  },
  {
   "cell_type": "code",
   "execution_count": 42,
   "id": "a377b2e4",
   "metadata": {
    "execution": {
     "iopub.execute_input": "2021-04-28T13:55:12.644499Z",
     "iopub.status.busy": "2021-04-28T13:55:12.642379Z",
     "iopub.status.idle": "2021-04-28T13:55:12.750068Z",
     "shell.execute_reply": "2021-04-28T13:55:12.749752Z"
    },
    "slideshow": {
     "slide_type": "slide"
    },
    "tags": []
   },
   "outputs": [
    {
     "data": {
      "image/png": "[encoded data removed]",
      "text/plain": [
       "<Figure size 720x720 with 1 Axes>"
      ]
     },
     "metadata": {
      "needs_background": "light"
     },
     "output_type": "display_data"
    }
   ],
   "source": [
    "fig, ax = roc_plot()\n",
    "roc = ax.plot(fprs,tprs);\n",
    "ax.fill_between(fprs,tprs,alpha=0.5);\n",
    "\n",
    "ax.set_title(\"ROC curve\", fontsize=14);\n",
    "ax.plot([0,1],[0,1],'-', c='grey', linewidth = 1 )\n",
    "ax.plot([0,0,1],[0,1,1],'--', c = roc[0].get_color() , linewidth=0.5)\n",
    "#ax.scatter([0],[0],s = 30, c = roc[0].get_color() )\n",
    "ax.scatter([1],[1],s = 30)\n",
    "ax.scatter([0],[1],s = 30, edgecolor='blue', facecolor='white', zorder=5)\n",
    "\n",
    "ax.text(0.7, 0.3, \"AUC = %3.2f\"%(auc,), fontsize=16 );"
   ]
  },
  {
   "cell_type": "markdown",
   "id": "47bba211",
   "metadata": {
    "slideshow": {
     "slide_type": "notes"
    },
    "tags": []
   },
   "source": [
    "Properties of the ROC curve imply that for the perfect classifier $AUC=1$ and for random guessing $AUC=0.5$. You can learn more about ROC curves and AUC _e.g._ in [here](https://www.researchgate.net/publication/284001844_Some_mathematical_properties_of_the_ROC_curve_and_their_applications). "
   ]
  },
  {
   "cell_type": "markdown",
   "id": "3178cd47",
   "metadata": {
    "slideshow": {
     "slide_type": "slide"
    },
    "tags": []
   },
   "source": [
    "## But where is \"Learning\" ??"
   ]
  },
  {
   "cell_type": "markdown",
   "id": "a45d4f88-6e1f-459d-8501-d62b0cce5ecd",
   "metadata": {
    "slideshow": {
     "slide_type": "notes"
    },
    "tags": []
   },
   "source": [
    "By now you may be wondering what all this got to do with learning? We have a classifier but when did it \"learn\" to classify ? \n",
    "\n",
    "I hope that by now you do realize that the properties of the classifier are enocoded in the distributions"
   ]
  },
  {
   "cell_type": "markdown",
   "id": "b100ff6f",
   "metadata": {
    "slideshow": {
     "slide_type": "fragment"
    },
    "tags": []
   },
   "source": [
    "$$P(D=d|C=c)\\quad\\text{and}\\quad P(C=c)$$"
   ]
  },
  {
   "cell_type": "markdown",
   "id": "fd2f6409",
   "metadata": {
    "slideshow": {
     "slide_type": "notes"
    },
    "tags": []
   },
   "source": [
    "so learning amounts to estimating  this distribution from the data. "
   ]
  },
  {
   "cell_type": "markdown",
   "id": "76908ef1",
   "metadata": {
    "slideshow": {
     "slide_type": "notes"
    },
    "tags": []
   },
   "source": [
    "In our case we just took the numbers provided by the Central Statistical Office and assumed (!) that the underlying distribution was normal. Actually this is not true. What I did was to take the data for persons in the age group 20-29 years. Actually the mean and the stadard deviation depends on the age group  droping _e.g._ to 174cm for men in age group 50-59 years. That means that the overall distribution in  the male population cannot be normal. It could be however a good (or good enough approximation). This is impossible to check without the actual data.  Unfotunately I do not have the access to the original data on which those measurments were based. "
   ]
  },
  {
   "cell_type": "markdown",
   "id": "23bda19e",
   "metadata": {
    "slideshow": {
     "slide_type": "notes"
    },
    "tags": []
   },
   "source": [
    "The only data I could find was [kaggle dataset](https://www.kaggle.com/mustafaali96/weight-height). This data set does not contain any description but use of inches and pounds suggests an american or english origin. The data consists of 10000 points each specifying sex, height and weight of one person. I will use this dataset  to estimate the parameters of the $P(H=h|S=s)$ distributions. This will be the subject of teh next classification_naive_bayes  notebook.  "
   ]
  }
 ],
 "metadata": {
  "celltoolbar": "Slideshow",
  "jupytext": {
   "cell_metadata_json": true
  },
  "kernelspec": {
   "display_name": "Python 3",
   "language": "python",
   "name": "python3"
  },
  "language_info": {
   "codemirror_mode": {
    "name": "ipython",
    "version": 3
   },
   "file_extension": ".py",
   "mimetype": "text/x-python",
   "name": "python",
   "nbconvert_exporter": "python",
   "pygments_lexer": "ipython3",
   "version": "3.9.2"
  }
 },
 "nbformat": 4,
 "nbformat_minor": 5
}