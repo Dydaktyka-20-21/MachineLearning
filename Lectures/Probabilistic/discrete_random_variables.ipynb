{
 "cells": [
  {
   "cell_type": "code",
   "execution_count": 1,
   "id": "23016ca0",
   "metadata": {
    "execution": {
     "iopub.execute_input": "2021-04-27T17:15:42.844340Z",
     "iopub.status.busy": "2021-04-27T17:15:42.843728Z",
     "iopub.status.idle": "2021-04-27T17:15:43.064963Z",
     "shell.execute_reply": "2021-04-27T17:15:43.065266Z"
    }
   },
   "outputs": [],
   "source": [
    "import numpy as np\n",
    "import matplotlib.pyplot as plt"
   ]
  },
  {
   "cell_type": "markdown",
   "id": "11a61c7d",
   "metadata": {},
   "source": [
    "## Discrete random variables"
   ]
  },
  {
   "cell_type": "markdown",
   "id": "00487533",
   "metadata": {},
   "source": [
    "The notion of an unpredictable process is too general and in the following we will restrict ourself to outcome sets that are subsets of $\\mathbb{R}^M$. We will call such a process a _random variable_. "
   ]
  },
  {
   "cell_type": "markdown",
   "id": "2e461c64",
   "metadata": {},
   "source": [
    "If the outcome set is countable, in particular if it is finite, then we call such random variable _discrete_. As shown above  to characterise such a variable it is enough to assign  the probability to each of the elements of the outcome set. This is called _probability mass function_ (pmf). "
   ]
  },
  {
   "cell_type": "markdown",
   "id": "5bfc1cf9",
   "metadata": {},
   "source": [
    "We will denote the probability of random variable $X$  taking a value $x$ by"
   ]
  },
  {
   "cell_type": "markdown",
   "id": "c1a251cf",
   "metadata": {},
   "source": [
    "$$P(X=x)\\equiv P_X(\\{x\\})$$ "
   ]
  },
  {
   "cell_type": "markdown",
   "id": "ba1891e3",
   "metadata": {},
   "source": [
    "However we will often abreviate it further to"
   ]
  },
  {
   "cell_type": "markdown",
   "id": "606221f8",
   "metadata": {},
   "source": [
    "$$ P_X(x) \\equiv P_X(\\{x\\})$$"
   ]
  },
  {
   "cell_type": "markdown",
   "id": "c361808c",
   "metadata": {},
   "source": [
    "I will omit the subscript $X$ when it's clear from the context  which random variable I have in mind. "
   ]
  },
  {
   "cell_type": "markdown",
   "id": "f78cc5d8",
   "metadata": {},
   "source": [
    "### Join probability distribution"
   ]
  },
  {
   "cell_type": "markdown",
   "id": "49e03bb2",
   "metadata": {},
   "source": [
    "When we have two random variables $X$ and $Y$ with outcome sets $S_X$  and $S_Y$ we can treat them  together as one random variable with outcome set  $S_{X\\times  Y}=S_{X}\\times S_Y$ and joint probability mass function"
   ]
  },
  {
   "cell_type": "markdown",
   "id": "15abf505",
   "metadata": {},
   "source": [
    "$$P_{X\\times Y}(x,y) \\equiv P_{X\\times Y}(X=x, Y=y)$$"
   ]
  },
  {
   "cell_type": "markdown",
   "id": "f031e1fc",
   "metadata": {},
   "source": [
    "If we are interested in only one of the variables we can calculate its probability mass function as _marginal_ pmf"
   ]
  },
  {
   "cell_type": "markdown",
   "id": "d877bc55",
   "metadata": {},
   "source": [
    "$$P_X(x)= \\sum_y P_{X\\times Y}(x, y)\\qquad P_Y(Y=y)= \\sum_x P_{X\\times Y}(x,y)$$"
   ]
  },
  {
   "cell_type": "markdown",
   "id": "8811b184",
   "metadata": {},
   "source": [
    "### Idependent random variables"
   ]
  },
  {
   "cell_type": "markdown",
   "id": "66ab9c06",
   "metadata": {},
   "source": [
    "The concept of independence applies also to random variables. We say that two random variables $X$ and $Y$ are independent iff (if and only if)"
   ]
  },
  {
   "cell_type": "markdown",
   "id": "74f91cb5",
   "metadata": {},
   "source": [
    "$$P(X=x|  Y=y)= P(X=x)\\quad\\text{for all }x,y$$"
   ]
  },
  {
   "cell_type": "markdown",
   "id": "0d67228d",
   "metadata": {},
   "source": [
    "or equivalently"
   ]
  },
  {
   "cell_type": "markdown",
   "id": "996ccc14",
   "metadata": {},
   "source": [
    "$$P_{X\\times Y}(x, y)= P_X(x)\\cdot P_Y(y) \\quad\\text{for all }x,y$$"
   ]
  },
  {
   "cell_type": "markdown",
   "id": "9a72f5e6",
   "metadata": {},
   "source": [
    "For example when $X$ and $Y$ represents a first and second toss of a coin they are independent random variables. "
   ]
  },
  {
   "cell_type": "markdown",
   "id": "5fc17f03",
   "metadata": {},
   "source": [
    "### Expectation value"
   ]
  },
  {
   "cell_type": "markdown",
   "id": "762b9915",
   "metadata": {},
   "source": [
    "Expectation value of a function with respect to a random variable $X$ is defined as"
   ]
  },
  {
   "cell_type": "markdown",
   "id": "afca661b",
   "metadata": {},
   "source": [
    "$$E_X[f(X)] \\equiv \\sum_i f(x_i)P(X=x_i),\\quad x_i\\in S_X$$ "
   ]
  },
  {
   "cell_type": "markdown",
   "id": "753cf959",
   "metadata": {},
   "source": [
    "In particular the expectation value of the random variable _i.e._ its _mean_ or _average_ is "
   ]
  },
  {
   "cell_type": "markdown",
   "id": "4aa8e262",
   "metadata": {},
   "source": [
    "$$E_X[X] \\equiv \\sum_i x_i P(X=x_i)$$ "
   ]
  },
  {
   "cell_type": "markdown",
   "id": "7a73a7c0",
   "metadata": {},
   "source": [
    "and the variance"
   ]
  },
  {
   "cell_type": "markdown",
   "id": "40f50b73",
   "metadata": {},
   "source": [
    "$$\\operatorname{var}(X)=\\sigma^2 = E[(X-E[X])^2]$$"
   ]
  },
  {
   "cell_type": "markdown",
   "id": "13212aa7",
   "metadata": {},
   "source": [
    "The square root of variance $\\sigma$  is called _standard deviation_. "
   ]
  },
  {
   "cell_type": "markdown",
   "id": "40fe0072",
   "metadata": {},
   "source": [
    "#### Problem: linearity of expectation value"
   ]
  },
  {
   "cell_type": "markdown",
   "id": "2a17a458",
   "metadata": {},
   "source": [
    "Show that"
   ]
  },
  {
   "cell_type": "markdown",
   "id": "594b00dd",
   "metadata": {},
   "source": [
    "$$E_{X\\times Y}[a X + b  Y]= a E_X[X] + b E_Y[Y]\\quad\\text{where }a,b\\text{ are constants}$$"
   ]
  },
  {
   "cell_type": "markdown",
   "id": "32d210c2",
   "metadata": {
    "tags": [
     "answer"
    ]
   },
   "source": [
    "$$E_{X\\times Y}[a X + b  Y]=\\sum_{x,y}\\left(a x + b y\\right) P(X=x, Y=y) = a \\sum_{x,y} x  P(X=x, Y=y)+b \\sum_{x,y}  y P(X=x, Y=y) $$"
   ]
  },
  {
   "cell_type": "markdown",
   "id": "13b06c21",
   "metadata": {
    "tags": [
     "answer"
    ]
   },
   "source": [
    "$$a \\sum_{x,y} x  P(X=x, Y=y) = a\\sum_x  x \\sum_y P(X=x, Y=y)= a\\sum_x x P(X=x) = a E[X]$$"
   ]
  },
  {
   "cell_type": "markdown",
   "id": "99e28439",
   "metadata": {
    "tags": [
     "answer"
    ]
   },
   "source": [
    "and same for other term."
   ]
  },
  {
   "cell_type": "markdown",
   "id": "f87423b2",
   "metadata": {
    "tags": [
     "problem"
    ]
   },
   "source": [
    "__Problem:__ Variance"
   ]
  },
  {
   "cell_type": "markdown",
   "id": "2873408c",
   "metadata": {
    "tags": [
     "problem"
    ]
   },
   "source": [
    "Show that "
   ]
  },
  {
   "cell_type": "markdown",
   "id": "6a4b65bf",
   "metadata": {
    "tags": [
     "problem"
    ]
   },
   "source": [
    "$$\\operatorname{var}(X) = E[X^2]-E[X]^2$$"
   ]
  },
  {
   "cell_type": "markdown",
   "id": "71752e15",
   "metadata": {},
   "source": [
    "__Answer__"
   ]
  },
  {
   "cell_type": "markdown",
   "id": "2042282e",
   "metadata": {
    "tags": [
     "answer"
    ]
   },
   "source": [
    "$$\\operatorname{var}(X) = E[(X-E[X])^2] = E\\left[X^2-2 E[X]+E[X]^2\\right]$$"
   ]
  },
  {
   "cell_type": "markdown",
   "id": "49a43cb3",
   "metadata": {
    "tags": [
     "answer"
    ]
   },
   "source": [
    "$E[X]$ is a constant so using the linearity of expectation value we obtain"
   ]
  },
  {
   "cell_type": "markdown",
   "id": "1334bc40",
   "metadata": {
    "tags": [
     "answer"
    ]
   },
   "source": [
    "$$E\\left[X^2-2 E[X]+E[X]^2\\right]=E[X62]+2E[X]E[X]-E[X]^2$$"
   ]
  },
  {
   "cell_type": "markdown",
   "id": "01fc9e30",
   "metadata": {},
   "source": [
    "### Covariance and correlation"
   ]
  },
  {
   "cell_type": "markdown",
   "id": "6fa7b066",
   "metadata": {},
   "source": [
    "The expectation value of a product of two random variables is given by "
   ]
  },
  {
   "cell_type": "markdown",
   "id": "f5f29f7f",
   "metadata": {},
   "source": [
    "$$E_{X\\times Y}[X\\cdot Y]=\\sum_{x,y} x\\cdot y\\, P(X=x , Y=y)$$"
   ]
  },
  {
   "cell_type": "markdown",
   "id": "e6fd035b",
   "metadata": {},
   "source": [
    "If the two random variables are independent then"
   ]
  },
  {
   "cell_type": "markdown",
   "id": "f56db8a9",
   "metadata": {},
   "source": [
    "$$E_{X\\times Y}[X\\cdot Y]=\\sum_{x,y} x y P(X=x , Y=y)\n",
    "=\\sum_{x,y} x y P(X=x)P(Y=y)=\n",
    "\\left(\\sum_{x} x P(X=x)\\right)\n",
    "\\left(\\sum_{y} y P(Y=y)\\right)\n",
    "$$"
   ]
  },
  {
   "cell_type": "markdown",
   "id": "01c6324e",
   "metadata": {},
   "source": [
    "leading to the familiar result that the expectation value of independent random variables factorises"
   ]
  },
  {
   "cell_type": "markdown",
   "id": "be427606",
   "metadata": {},
   "source": [
    "$$E_{X\\times Y}[X\\cdot Y]=E_X[X] E_Y[Y]$$"
   ]
  },
  {
   "cell_type": "markdown",
   "id": "46e7109c",
   "metadata": {},
   "source": [
    "The quantity "
   ]
  },
  {
   "cell_type": "markdown",
   "id": "77ce7911",
   "metadata": {},
   "source": [
    "$$\\operatorname{cov}(X,Y)=E_{X\\times Y}[X\\cdot Y]-E_X[X] E_Y[Y]=E[(X-E[X])(Y-E[Y])]$$"
   ]
  },
  {
   "cell_type": "markdown",
   "id": "19599c7a",
   "metadata": {},
   "source": [
    "is called a _covariance_ and when variables $X$ and $Y$ are independent then it is equal to zero. Please take note however that zero covariance does not imply indpendence."
   ]
  },
  {
   "cell_type": "markdown",
   "id": "9ec843e9",
   "metadata": {},
   "source": [
    "Magnitude of the covariance depeds on the magnitude of random variables e.g. scaling one variable by $a$ will also scale the covariance by $a$. That is why often a normalised version called _correlation_ coeficient is used:"
   ]
  },
  {
   "cell_type": "markdown",
   "id": "21839335",
   "metadata": {},
   "source": [
    "$$\\operatorname{corr}(X,Y)=\\frac{E\\left[(X-E[X])(Y-E[Y])\\right]}{\\sqrt{E\\left[(X-E[X])^2\\right]E\\left[(Y-E[Y])^2\\right]}}$$"
   ]
  },
  {
   "cell_type": "markdown",
   "id": "70ba3133",
   "metadata": {
    "tags": [
     "problem"
    ]
   },
   "source": [
    "__Problem__: Linear dependence"
   ]
  },
  {
   "cell_type": "markdown",
   "id": "656bc3a8",
   "metadata": {
    "tags": [
     "problem"
    ]
   },
   "source": [
    "Please check that when variables $X$ and $Y$ are linearly dependent _i.e._  $Y =a \\cdot X + b$ correlation between them is 1 or -1. "
   ]
  },
  {
   "cell_type": "markdown",
   "id": "9e9f1f30",
   "metadata": {},
   "source": [
    "Let's illustrate this with some Python code"
   ]
  },
  {
   "cell_type": "code",
   "execution_count": 2,
   "id": "5d69f771",
   "metadata": {
    "execution": {
     "iopub.execute_input": "2021-04-27T17:15:43.068907Z",
     "iopub.status.busy": "2021-04-27T17:15:43.068448Z",
     "iopub.status.idle": "2021-04-27T17:15:43.070821Z",
     "shell.execute_reply": "2021-04-27T17:15:43.071191Z"
    }
   },
   "outputs": [],
   "source": [
    "xs = np.random.uniform(size=10000)\n",
    "ys = np.random.uniform(size=10000)"
   ]
  },
  {
   "cell_type": "code",
   "execution_count": 3,
   "id": "0312c99a",
   "metadata": {
    "execution": {
     "iopub.execute_input": "2021-04-27T17:15:43.075796Z",
     "iopub.status.busy": "2021-04-27T17:15:43.073837Z",
     "iopub.status.idle": "2021-04-27T17:15:43.079137Z",
     "shell.execute_reply": "2021-04-27T17:15:43.079760Z"
    }
   },
   "outputs": [
    {
     "data": {
      "text/plain": [
       "-0.0007763397832491917"
      ]
     },
     "execution_count": 3,
     "metadata": {},
     "output_type": "execute_result"
    }
   ],
   "source": [
    "#covariance \n",
    "np.mean( (xs-xs.mean())*(ys-ys.mean() ))"
   ]
  },
  {
   "cell_type": "markdown",
   "id": "a3525ea2",
   "metadata": {},
   "source": [
    "We get same result using build in function"
   ]
  },
  {
   "cell_type": "code",
   "execution_count": 4,
   "id": "eced6c91",
   "metadata": {
    "execution": {
     "iopub.execute_input": "2021-04-27T17:15:43.083274Z",
     "iopub.status.busy": "2021-04-27T17:15:43.082825Z",
     "iopub.status.idle": "2021-04-27T17:15:43.104273Z",
     "shell.execute_reply": "2021-04-27T17:15:43.103902Z"
    }
   },
   "outputs": [
    {
     "data": {
      "text/plain": [
       "array([[ 0.08297983, -0.00077642],\n",
       "       [-0.00077642,  0.08321473]])"
      ]
     },
     "execution_count": 4,
     "metadata": {},
     "output_type": "execute_result"
    }
   ],
   "source": [
    "np.cov(xs,ys)"
   ]
  },
  {
   "cell_type": "code",
   "execution_count": 5,
   "id": "9244cff2",
   "metadata": {
    "execution": {
     "iopub.execute_input": "2021-04-27T17:15:43.108051Z",
     "iopub.status.busy": "2021-04-27T17:15:43.107489Z",
     "iopub.status.idle": "2021-04-27T17:15:43.111029Z",
     "shell.execute_reply": "2021-04-27T17:15:43.111405Z"
    }
   },
   "outputs": [
    {
     "data": {
      "text/plain": [
       "-0.009343484727426656"
      ]
     },
     "execution_count": 5,
     "metadata": {},
     "output_type": "execute_result"
    }
   ],
   "source": [
    "#correlation\n",
    "np.mean( (xs-xs.mean())*(ys-ys.mean() ))/np.sqrt(np.mean( (xs-xs.mean())**2)*np.mean((ys-ys.mean() )**2))"
   ]
  },
  {
   "cell_type": "code",
   "execution_count": 6,
   "id": "37a0b2cb",
   "metadata": {
    "execution": {
     "iopub.execute_input": "2021-04-27T17:15:43.114629Z",
     "iopub.status.busy": "2021-04-27T17:15:43.113862Z",
     "iopub.status.idle": "2021-04-27T17:15:43.116997Z",
     "shell.execute_reply": "2021-04-27T17:15:43.117374Z"
    }
   },
   "outputs": [
    {
     "data": {
      "text/plain": [
       "array([[ 1.        , -0.00934348],\n",
       "       [-0.00934348,  1.        ]])"
      ]
     },
     "execution_count": 6,
     "metadata": {},
     "output_type": "execute_result"
    }
   ],
   "source": [
    "np.corrcoef(xs,ys)"
   ]
  },
  {
   "cell_type": "code",
   "execution_count": 7,
   "id": "82a8fb20",
   "metadata": {
    "execution": {
     "iopub.execute_input": "2021-04-27T17:15:43.120255Z",
     "iopub.status.busy": "2021-04-27T17:15:43.119731Z",
     "iopub.status.idle": "2021-04-27T17:15:43.122891Z",
     "shell.execute_reply": "2021-04-27T17:15:43.123242Z"
    }
   },
   "outputs": [
    {
     "data": {
      "text/plain": [
       "array([[ 1.        , -0.00934348,  0.70328868],\n",
       "       [-0.00934348,  1.        ,  0.70430218],\n",
       "       [ 0.70328868,  0.70430218,  1.        ]])"
      ]
     },
     "execution_count": 7,
     "metadata": {},
     "output_type": "execute_result"
    }
   ],
   "source": [
    "zs = xs + ys \n",
    "np.corrcoef((xs,ys,zs))"
   ]
  },
  {
   "cell_type": "markdown",
   "id": "81d98e8a",
   "metadata": {
    "tags": [
     "problem"
    ]
   },
   "source": [
    "__Problem:__ Variance of sum  of independent random variables"
   ]
  },
  {
   "cell_type": "markdown",
   "id": "2a1bebef",
   "metadata": {
    "tags": [
     "problem"
    ]
   },
   "source": [
    "Show that if random variables $X$ and $Y$ are independent then"
   ]
  },
  {
   "cell_type": "markdown",
   "id": "193053f1",
   "metadata": {
    "tags": [
     "problem"
    ]
   },
   "source": [
    "$$\\operatorname{var}(X+Y) = \\operatorname{var}(X) +  \\operatorname{var}(Y)$$"
   ]
  },
  {
   "cell_type": "markdown",
   "id": "709ca830",
   "metadata": {},
   "source": [
    "Some other characteristics of the random variables include"
   ]
  },
  {
   "cell_type": "markdown",
   "id": "78e79255",
   "metadata": {},
   "source": [
    "### Median"
   ]
  },
  {
   "cell_type": "markdown",
   "id": "470e2d5f",
   "metadata": {},
   "source": [
    "Median $m$ is a number that divides the values of the random variable into two  sets as equiprobable as possible"
   ]
  },
  {
   "cell_type": "markdown",
   "id": "714bc696",
   "metadata": {},
   "source": [
    "$$P(X\\le m) \\ge \\frac{1}{2}\\text{ and } P(X\\ge m) \\ge \\frac{1}{2}$$"
   ]
  },
  {
   "cell_type": "markdown",
   "id": "b1bcfd87",
   "metadata": {
    "tags": [
     "problem"
    ]
   },
   "source": [
    "#### Problem: Median for coin toss"
   ]
  },
  {
   "cell_type": "markdown",
   "id": "a0ad4472",
   "metadata": {
    "tags": [
     "problem"
    ]
   },
   "source": [
    "What is a median for coin toss if you assign value $1$ to heads and $0$ to tails? "
   ]
  },
  {
   "cell_type": "markdown",
   "id": "e46a8181",
   "metadata": {},
   "source": [
    "### Mode "
   ]
  },
  {
   "cell_type": "markdown",
   "id": "c19a6b17",
   "metadata": {},
   "source": [
    "The mode is the value for which the probability mass function has its maximum. That's an element most likely to be sampled."
   ]
  },
  {
   "cell_type": "markdown",
   "id": "12f20eaa",
   "metadata": {},
   "source": [
    "$$\\operatorname{mode}(X)=\\underset{x_k}{\\operatorname{argmax}} P(X=x_k)$$"
   ]
  },
  {
   "cell_type": "markdown",
   "id": "4efa27f4",
   "metadata": {},
   "source": [
    "### Entropy"
   ]
  },
  {
   "cell_type": "markdown",
   "id": "9b740d67",
   "metadata": {},
   "source": [
    "Last characteristic of an distribution that I would like to introduce is the _entropy_ "
   ]
  },
  {
   "cell_type": "markdown",
   "id": "53dc1b22",
   "metadata": {},
   "source": [
    "$$H[X] \\equiv -\\sum_i P_X(x_i) \\log P_X(x_i)=-E[\\log X] $$"
   ]
  },
  {
   "cell_type": "markdown",
   "id": "08cef619",
   "metadata": {},
   "source": [
    "Entropy is a \"measure of randomnes\", the greater entropy, the greater randomness or harder to predict outcome. "
   ]
  },
  {
   "cell_type": "markdown",
   "id": "3e1fb58b",
   "metadata": {},
   "source": [
    "Take for example a coin toss with unfair coin with probability $p$ of comming up heads. The entropy is "
   ]
  },
  {
   "cell_type": "markdown",
   "id": "50e06337",
   "metadata": {},
   "source": [
    "$$-p\\log p - (1-p)\\log(1-p)$$"
   ]
  },
  {
   "cell_type": "code",
   "execution_count": 8,
   "id": "b4a23aa9",
   "metadata": {
    "execution": {
     "iopub.execute_input": "2021-04-27T17:15:43.157280Z",
     "iopub.status.busy": "2021-04-27T17:15:43.152111Z",
     "iopub.status.idle": "2021-04-27T17:15:43.212056Z",
     "shell.execute_reply": "2021-04-27T17:15:43.212435Z"
    }
   },
   "outputs": [
    {
     "data": {
      "image/png": "[encoded data removed]",
      "text/plain": [
       "<Figure size 432x288 with 1 Axes>"
      ]
     },
     "metadata": {
      "needs_background": "light"
     },
     "output_type": "display_data"
    }
   ],
   "source": [
    "ps = np.linspace(0,1,100)[1:-1] # we reject 0 and 1\n",
    "plt.plot(ps, -ps *np.log(ps)-(1-ps)*np.log(1-ps));"
   ]
  },
  {
   "cell_type": "markdown",
   "id": "f019df19",
   "metadata": {},
   "source": [
    "We can see that the entropy is maximum when $p=1/2$ and zero when $p=0$ or $p=1$ that is when the outcome is certain. "
   ]
  }
 ],
 "metadata": {
  "jupytext": {
   "text_representation": {
    "extension": ".Rmd",
    "format_name": "rmarkdown",
    "format_version": "1.2",
    "jupytext_version": "1.11.1"
   }
  },
  "kernelspec": {
   "display_name": "Python 3",
   "language": "python",
   "name": "python3"
  },
  "language_info": {
   "codemirror_mode": {
    "name": "ipython",
    "version": 3
   },
   "file_extension": ".py",
   "mimetype": "text/x-python",
   "name": "python",
   "nbconvert_exporter": "python",
   "pygments_lexer": "ipython3",
   "version": "3.9.2"
  }
 },
 "nbformat": 4,
 "nbformat_minor": 5
}