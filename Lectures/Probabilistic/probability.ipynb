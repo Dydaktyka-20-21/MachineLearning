{
 "cells": [
  {
   "cell_type": "code",
   "execution_count": 1,
   "id": "05305afc",
   "metadata": {
    "execution": {
     "iopub.execute_input": "2021-04-27T17:15:18.256013Z",
     "iopub.status.busy": "2021-04-27T17:15:18.255311Z",
     "iopub.status.idle": "2021-04-27T17:15:18.257478Z",
     "shell.execute_reply": "2021-04-27T17:15:18.258044Z"
    }
   },
   "outputs": [],
   "source": [
    "from IPython.display import Markdown as md"
   ]
  },
  {
   "cell_type": "markdown",
   "id": "68807cd4",
   "metadata": {
    "slideshow": {
     "slide_type": "slide"
    }
   },
   "source": [
    ">#### \"One sees, from this Essay, that the theory of probabilities is basically just common sense reduced to calculus; it makes one appreciate with exactness that which accurate minds feel with a sort of instinct, often without being able to account for it.\"\n",
    "> \"Théorie Analytique des Probabilités\" Pierre-Simon Laplace"
   ]
  },
  {
   "cell_type": "markdown",
   "id": "dd7f4c3c",
   "metadata": {},
   "source": [
    "# Probability"
   ]
  },
  {
   "cell_type": "markdown",
   "id": "05bfe110",
   "metadata": {
    "tags": [
     "description"
    ]
   },
   "source": [
    "Because they deal with uncertain events, most of the machine learning methods can be framed in the language of probability. \n",
    "In this notebook I will very briefly recall the basics concepts of the probability calculus and introduce the notation I will be using, hopefully consistently, throughout the lecture."
   ]
  },
  {
   "cell_type": "markdown",
   "id": "1217c934",
   "metadata": {
    "tags": [
     "description"
    ]
   },
   "source": [
    "But keep in mind that this is not a supposed to be a textbook  on probability! Please treat this as a list of concepts and definitions that you have to refresh. It will also serve as a brief introduction to various Python packages. But again this is not a tutorial on Python. The code is provided as a guidance for you and it's up to you to lookup  explanantion in documentation if  needed. I  am of course also happy to help. You can consult me on the chat on Teams. "
   ]
  },
  {
   "cell_type": "markdown",
   "id": "2449dddd",
   "metadata": {
    "tags": [
     "description"
    ]
   },
   "source": [
    "The lecture includes some simple problems to help you check your understanding of the subject. Some problems have answers right in the notebook. I will try to hide the content of this cells, please try to solve the problem before looking at the answer. "
   ]
  },
  {
   "cell_type": "markdown",
   "id": "8f84a0f1",
   "metadata": {},
   "source": [
    "## Random events"
   ]
  },
  {
   "cell_type": "markdown",
   "id": "5b4cf17c",
   "metadata": {},
   "source": [
    "Imagine any process that can have an upredictable outcome. This could be the results of a coin toss,  number of passengers on the bus etc. Let's  assume that we know the set of all possible outcomes of this process and call this set $S$. This set is often called _sample space_."
   ]
  },
  {
   "cell_type": "markdown",
   "id": "7dce447a",
   "metadata": {},
   "source": [
    "Any subset $A$ of $S$ denoted $A\\subseteq S$ will be called an _event_. If process has an outcome $s\\in S$ then we say that the event $A$ happened if $s\\in A$. An event that contain only one  element $\\{s\\}$ will be called an _elementary_ event, _atomic_ event or _sample point_."
   ]
  },
  {
   "cell_type": "markdown",
   "id": "3be9a3f3",
   "metadata": {},
   "source": [
    "Typical textbook example would be a  coin toss. In this case $ S=\\{H, T\\}$ and there are only four possible events (including the empty set).  There are two elementary events $\\{H\\}$ nad $\\{T\\}$.  "
   ]
  },
  {
   "cell_type": "markdown",
   "id": "baacbfa5",
   "metadata": {},
   "source": [
    "#### Example: Dice roll"
   ]
  },
  {
   "cell_type": "markdown",
   "id": "a33167b5",
   "metadata": {},
   "source": [
    "What is the sets of all possible outcomes of a roll of two dice? How many elements it contains? Write down the event $A$ - \"the sum of the points is 9\".  "
   ]
  },
  {
   "cell_type": "markdown",
   "id": "721373a0",
   "metadata": {},
   "source": [
    "$$S=\\{(i,j): i,j\\in\\{1,2,3,4,5,6\\}\\},\\quad \\#S=36,\\quad A=\\{(3,6), (4,5), (5,4), (6,3)\\}\\quad \\#A = 4$$"
   ]
  },
  {
   "cell_type": "markdown",
   "id": "8f6a27e4",
   "metadata": {},
   "source": [
    "Where $\\#A$ denotes the number of elements in set $A$."
   ]
  },
  {
   "cell_type": "markdown",
   "id": "1535cfce",
   "metadata": {},
   "source": [
    "For larger examples this would be impractical, but just for fun let's code this in Python"
   ]
  },
  {
   "cell_type": "code",
   "execution_count": 2,
   "id": "93314878",
   "metadata": {
    "execution": {
     "iopub.execute_input": "2021-04-27T17:15:18.261951Z",
     "iopub.status.busy": "2021-04-27T17:15:18.261249Z",
     "iopub.status.idle": "2021-04-27T17:15:18.263328Z",
     "shell.execute_reply": "2021-04-27T17:15:18.263774Z"
    }
   },
   "outputs": [],
   "source": [
    "from itertools import product"
   ]
  },
  {
   "cell_type": "code",
   "execution_count": 3,
   "id": "216c9a2c",
   "metadata": {
    "execution": {
     "iopub.execute_input": "2021-04-27T17:15:18.267708Z",
     "iopub.status.busy": "2021-04-27T17:15:18.267013Z",
     "iopub.status.idle": "2021-04-27T17:15:18.269094Z",
     "shell.execute_reply": "2021-04-27T17:15:18.269544Z"
    }
   },
   "outputs": [],
   "source": [
    "S_dice =  {(i,j) for i,j in product(range(1,7), range(1,7))}"
   ]
  },
  {
   "cell_type": "code",
   "execution_count": 4,
   "id": "f10c5e84",
   "metadata": {
    "execution": {
     "iopub.execute_input": "2021-04-27T17:15:18.273572Z",
     "iopub.status.busy": "2021-04-27T17:15:18.272796Z",
     "iopub.status.idle": "2021-04-27T17:15:18.275550Z",
     "shell.execute_reply": "2021-04-27T17:15:18.275996Z"
    }
   },
   "outputs": [
    {
     "name": "stdout",
     "output_type": "stream",
     "text": [
      "36\n",
      "{(3, 4), (4, 3), (3, 1), (5, 4), (4, 6), (5, 1), (2, 2), (1, 6), (2, 5), (1, 3), (6, 2), (6, 5), (4, 2), (4, 5), (3, 3), (5, 6), (3, 6), (5, 3), (2, 4), (1, 2), (2, 1), (1, 5), (6, 1), (6, 4), (3, 2), (4, 1), (3, 5), (5, 2), (4, 4), (5, 5), (1, 1), (1, 4), (2, 3), (2, 6), (6, 6), (6, 3)}\n"
     ]
    }
   ],
   "source": [
    "print(len(S_dice))\n",
    "print(S_dice)"
   ]
  },
  {
   "cell_type": "code",
   "execution_count": 5,
   "id": "4c0ec599",
   "metadata": {
    "execution": {
     "iopub.execute_input": "2021-04-27T17:15:18.279710Z",
     "iopub.status.busy": "2021-04-27T17:15:18.279031Z",
     "iopub.status.idle": "2021-04-27T17:15:18.281138Z",
     "shell.execute_reply": "2021-04-27T17:15:18.281552Z"
    }
   },
   "outputs": [
    {
     "name": "stdout",
     "output_type": "stream",
     "text": [
      "{(4, 5), (5, 4), (6, 3), (3, 6)}\n"
     ]
    }
   ],
   "source": [
    "A = set( filter(lambda s: sum(s)==9, S_dice) )\n",
    "print(A)"
   ]
  },
  {
   "cell_type": "markdown",
   "id": "6ddc9715",
   "metadata": {},
   "source": [
    "## Probability of an event"
   ]
  },
  {
   "cell_type": "markdown",
   "id": "50790a73",
   "metadata": {},
   "source": [
    "Because the outcome of a process is unpredictable, so are the events.    However some events are more likely to happen then the others and we can quantify this by assigning  a number to each event that we call _probability_ of that event:"
   ]
  },
  {
   "cell_type": "markdown",
   "id": "b412c99e",
   "metadata": {},
   "source": [
    "$$0\\leq P(A) \\leq 1$$"
   ]
  },
  {
   "cell_type": "markdown",
   "id": "21d352b5",
   "metadata": {},
   "source": [
    "What this number really means is still subject to discussion and interpretation and I will not address this issue. Personaly I suport the Bayesian interpretation where probability is a measure of \"degree of certainty\" with zero probability denoting _impossible_ event and one denoting a _certain_ event.  What is important is that those numbers cannot be totaly arbitrary. To be considered a valid measure, probabilities must satisfy several  axioms consistent with our common sense: "
   ]
  },
  {
   "cell_type": "markdown",
   "id": "53842820",
   "metadata": {},
   "source": [
    "1. Probability is non-negative \n",
    "\n",
    "$$P(A)\\ge 0$$"
   ]
  },
  {
   "cell_type": "markdown",
   "id": "4386b460",
   "metadata": {},
   "source": [
    "2. Probability event $S$ is one as one of the possible outcomes _must_ happen\n",
    "\n",
    "$$P(S)=1$$"
   ]
  },
  {
   "cell_type": "markdown",
   "id": "d62b2208",
   "metadata": {},
   "source": [
    "3. Probability of a sum of disjoint events is the sum of the probabilities of each event.</br>\n",
    "    For any integer $k>1$ including $k=\\infty$ if events $A_i$ are mutually disjoint that is for each $i\\neq j$ $A_i \\cap A_j =\\varnothing$ then \n",
    "\n",
    "    $$P(A_1\\cup A_2\\cup\\cdots \\cup A_k) = P(A_1)+P(A_2) + \\cdots + P(A_k)$$\n",
    "\n",
    "    An important colorary is that when the set of outcomes is countable the probability of an event $A$ is the sum of the probabilities for each elementary event contained in $A$:\n",
    "\n",
    "    $$P(A) = \\sum_{s\\in A}P(\\{s\\})$$\n",
    "A set is countable when we can assign an unique natural number to each of its elements, in other word we can count its elements. All finite sets are of course countable. An example of not countable set is provided e.g. by the real numbers or any interval $[a,b)$ with $b>a$. "
   ]
  },
  {
   "cell_type": "markdown",
   "id": "6143c4b0",
   "metadata": {},
   "source": [
    "It follows from 3. that in case of countable outcomes it is enough to specify the probability of each elementary event, as they are clearly disjoint and each event can be  represented a a sum of elementary events. \n",
    "\n",
    "In the following  I will ommit the set parenthesis for the elementary events i.e. assume \n",
    "$$P(s)\\equiv P(\\{s\\}).$$ \n",
    "From axiom 2.  we have \n",
    "$$\\sum_{s\\in S} P(s) = 1$$"
   ]
  },
  {
   "cell_type": "markdown",
   "id": "e6fa5622",
   "metadata": {},
   "source": [
    "#### Problem: Complementary event"
   ]
  },
  {
   "cell_type": "markdown",
   "id": "5df6590a",
   "metadata": {},
   "source": [
    "Prove that "
   ]
  },
  {
   "cell_type": "markdown",
   "id": "507d2cde",
   "metadata": {},
   "source": [
    "$$P(S\\setminus A)= 1-P(A)\\text{ where } S\\setminus A = \\{s\\in S: s\\notin A\\}$$"
   ]
  },
  {
   "cell_type": "markdown",
   "id": "91eea0bf",
   "metadata": {},
   "source": [
    "__Answer__"
   ]
  },
  {
   "cell_type": "markdown",
   "id": "55801f10",
   "metadata": {
    "tags": [
     "answer"
    ]
   },
   "source": [
    "It follows directly from the second and third axiom after noting that"
   ]
  },
  {
   "cell_type": "markdown",
   "id": "bd218a5a",
   "metadata": {
    "tags": [
     "answer"
    ]
   },
   "source": [
    "$$(S\\setminus A) \\cup A = S \\text{ and } (S\\setminus A) \\cap A = \\varnothing$$"
   ]
  },
  {
   "cell_type": "markdown",
   "id": "7cd2dee5",
   "metadata": {},
   "source": [
    "## Calculating probability"
   ]
  },
  {
   "cell_type": "markdown",
   "id": "d93db8e4",
   "metadata": {},
   "source": [
    "The concept of the probability can be somewhat hazy and verges upon philosophy. My take on this is that to calculate the probability we need a _model_ of the process. E.g. for the dice example the model is that all elementary events are equally probable, leading to assignement of probability $1/36$ to every possible two dice roll outcome. "
   ]
  },
  {
   "cell_type": "markdown",
   "id": "9b79575e",
   "metadata": {},
   "source": [
    "The connection with experiment (reality) is given by the [Borel's law of large numbers](https://en.wikipedia.org/wiki/Law_of_large_numbers). It states that if we repeat an experiment under same conditions many times, the fraction of times an event happens will converge to the probability of this event. This is a fundation of _frequentist_ interpretation of probability. "
   ]
  },
  {
   "cell_type": "markdown",
   "id": "9f3d0dc7",
   "metadata": {},
   "source": [
    "It is harder to interpret the probability of one-off events _e.g._ \"there is a 30% chance that it will rain tomorrow\", or \"there is 80% chance that Real Madrid will win La Liga this year\" in view of the frequentist interpretation. However we can still use the Bayesian \"degree of certainty(belief)\" interpretation in this case. "
   ]
  },
  {
   "cell_type": "markdown",
   "id": "e9ae717c",
   "metadata": {},
   "source": [
    "## Conditional probability"
   ]
  },
  {
   "cell_type": "markdown",
   "id": "ad67e148",
   "metadata": {},
   "source": [
    "How does a probability of an event change when we know that some other event happed? That is a central question in machine learning and is  answered by _conditional_ probability"
   ]
  },
  {
   "cell_type": "markdown",
   "id": "b3f4bf66",
   "metadata": {},
   "source": [
    "$$P(A|B)$$"
   ]
  },
  {
   "cell_type": "markdown",
   "id": "ed1ab964",
   "metadata": {},
   "source": [
    "This denotes the probability that event $A$ happened on  condition that the event also $B$ happend. The formal definition is"
   ]
  },
  {
   "cell_type": "markdown",
   "id": "74f30c3a",
   "metadata": {},
   "source": [
    "$$P(A|B) = \\frac{P(A\\cap B)}{P(B)}$$"
   ]
  },
  {
   "cell_type": "markdown",
   "id": "e5f56779",
   "metadata": {},
   "source": [
    "From this defintion it follows  that\n",
    "$$P(A\\cap B)=P(A|B) P(B)$$ \n",
    "This is called [_product or chain rule_](https://en.wikipedia.org/wiki/Chain_rule_(probability)) and is very useful for specyfying the probability. "
   ]
  },
  {
   "cell_type": "markdown",
   "id": "5f6b09e8",
   "metadata": {},
   "source": [
    "#### Example"
   ]
  },
  {
   "cell_type": "markdown",
   "id": "ba414470",
   "metadata": {},
   "source": [
    "Let's take as an example roll of two dice. What is the probability that  the sum is six ?"
   ]
  },
  {
   "cell_type": "code",
   "execution_count": 6,
   "id": "2574a5bc",
   "metadata": {
    "execution": {
     "iopub.execute_input": "2021-04-27T17:15:18.284874Z",
     "iopub.status.busy": "2021-04-27T17:15:18.284283Z",
     "iopub.status.idle": "2021-04-27T17:15:18.286164Z",
     "shell.execute_reply": "2021-04-27T17:15:18.286593Z"
    }
   },
   "outputs": [],
   "source": [
    "A = set( filter(lambda s: sum(s)==6, S_dice) )"
   ]
  },
  {
   "cell_type": "code",
   "execution_count": 7,
   "id": "7e3371bf",
   "metadata": {
    "execution": {
     "iopub.execute_input": "2021-04-27T17:15:18.295047Z",
     "iopub.status.busy": "2021-04-27T17:15:18.294364Z",
     "iopub.status.idle": "2021-04-27T17:15:18.296866Z",
     "shell.execute_reply": "2021-04-27T17:15:18.297253Z"
    },
    "jupyter": {
     "source_hidden": true
    },
    "tags": [
     "md"
    ]
   },
   "outputs": [
    {
     "data": {
      "text/markdown": [
       "\n",
       "The event $A$  contains 5 elementary events: [(1, 5), (2, 4), (3, 3), (4, 2), (5, 1)] </br>\n",
       "so the probability of this event is  $5/36 \\approx 0.1388888888888889$\n"
      ],
      "text/plain": [
       "<IPython.core.display.Markdown object>"
      ]
     },
     "execution_count": 7,
     "metadata": {},
     "output_type": "execute_result"
    }
   ],
   "source": [
    "md(f\"\"\"\n",
    "The event $A$  contains {len(A)} elementary events: {sorted(A)} </br>\n",
    "so the probability of this event is  ${len(A)}/36 \\\\approx {len(A)/36}$\n",
    "\"\"\")"
   ]
  },
  {
   "cell_type": "code",
   "execution_count": 8,
   "id": "ad9d9f36",
   "metadata": {
    "execution": {
     "iopub.execute_input": "2021-04-27T17:15:18.300347Z",
     "iopub.status.busy": "2021-04-27T17:15:18.299824Z",
     "iopub.status.idle": "2021-04-27T17:15:18.303730Z",
     "shell.execute_reply": "2021-04-27T17:15:18.304107Z"
    },
    "tags": []
   },
   "outputs": [
    {
     "name": "stdout",
     "output_type": "stream",
     "text": [
      "5/36 0.1388888888888889\n"
     ]
    }
   ],
   "source": [
    "# Just to have nice fractions instead of floats\n",
    "from fractions import Fraction \n",
    "P_A =  Fraction(len(A),len(S_dice))\n",
    "print(P_A, float(P_A))"
   ]
  },
  {
   "cell_type": "markdown",
   "id": "1b8bfdd2",
   "metadata": {},
   "source": [
    "And now suppose that someone tells us that we have rolled three on one die. Did the the probability change?  "
   ]
  },
  {
   "cell_type": "markdown",
   "id": "13af3529",
   "metadata": {},
   "source": [
    "Again I will use some Python code althought it is probably faster to   calculate this \"by hand\". Try it before proceding further."
   ]
  },
  {
   "cell_type": "code",
   "execution_count": 9,
   "id": "bb9a4658",
   "metadata": {
    "execution": {
     "iopub.execute_input": "2021-04-27T17:15:18.307134Z",
     "iopub.status.busy": "2021-04-27T17:15:18.306552Z",
     "iopub.status.idle": "2021-04-27T17:15:18.308286Z",
     "shell.execute_reply": "2021-04-27T17:15:18.308660Z"
    }
   },
   "outputs": [],
   "source": [
    "B = set( filter(lambda s: s[0]==3 or s[1]==3 , S_dice) )"
   ]
  },
  {
   "cell_type": "code",
   "execution_count": 10,
   "id": "db46edf6",
   "metadata": {
    "execution": {
     "iopub.execute_input": "2021-04-27T17:15:18.311982Z",
     "iopub.status.busy": "2021-04-27T17:15:18.311407Z",
     "iopub.status.idle": "2021-04-27T17:15:18.313516Z",
     "shell.execute_reply": "2021-04-27T17:15:18.313875Z"
    },
    "jupyter": {
     "source_hidden": true
    },
    "tags": [
     "md"
    ]
   },
   "outputs": [
    {
     "data": {
      "text/markdown": [
       "\n",
       "Event $B$ - \"there is a three on one die\" contains $11$ elements </br>\n",
       "{(3, 4), (4, 3), (3, 1), (2, 3), (3, 3), (3, 6), (5, 3), (3, 2), (6, 3), (1, 3), (3, 5)}\n"
      ],
      "text/plain": [
       "<IPython.core.display.Markdown object>"
      ]
     },
     "execution_count": 10,
     "metadata": {},
     "output_type": "execute_result"
    }
   ],
   "source": [
    "md(f\"\"\"\n",
    "Event $B$ - \"there is a three on one die\" contains ${len(B)}$ elements </br>\n",
    "{B}\n",
    "\"\"\")"
   ]
  },
  {
   "cell_type": "code",
   "execution_count": 11,
   "id": "2ccc72ca",
   "metadata": {
    "execution": {
     "iopub.execute_input": "2021-04-27T17:15:18.316986Z",
     "iopub.status.busy": "2021-04-27T17:15:18.316449Z",
     "iopub.status.idle": "2021-04-27T17:15:18.318498Z",
     "shell.execute_reply": "2021-04-27T17:15:18.318908Z"
    }
   },
   "outputs": [
    {
     "data": {
      "text/markdown": [
       "and its probability is 11/36"
      ],
      "text/plain": [
       "<IPython.core.display.Markdown object>"
      ]
     },
     "execution_count": 11,
     "metadata": {},
     "output_type": "execute_result"
    }
   ],
   "source": [
    "P_B = Fraction(len(B), len(S_dice))\n",
    "md(f\"and its probability is {P_B}\")"
   ]
  },
  {
   "cell_type": "code",
   "execution_count": 12,
   "id": "8259252e",
   "metadata": {
    "execution": {
     "iopub.execute_input": "2021-04-27T17:15:18.321665Z",
     "iopub.status.busy": "2021-04-27T17:15:18.321115Z",
     "iopub.status.idle": "2021-04-27T17:15:18.322657Z",
     "shell.execute_reply": "2021-04-27T17:15:18.323076Z"
    }
   },
   "outputs": [],
   "source": [
    "A_cap_B = A.intersection(B)\n",
    "P_A_cap_B = Fraction(len(A_cap_B), len(S_dice))"
   ]
  },
  {
   "cell_type": "code",
   "execution_count": 13,
   "id": "fc5285e0",
   "metadata": {
    "execution": {
     "iopub.execute_input": "2021-04-27T17:15:18.325938Z",
     "iopub.status.busy": "2021-04-27T17:15:18.325390Z",
     "iopub.status.idle": "2021-04-27T17:15:18.327288Z",
     "shell.execute_reply": "2021-04-27T17:15:18.327609Z"
    },
    "tags": []
   },
   "outputs": [
    {
     "data": {
      "text/markdown": [
       "\n",
       "Event $A\\cap B$ has 1 element(s  {(3, 3)}\n"
      ],
      "text/plain": [
       "<IPython.core.display.Markdown object>"
      ]
     },
     "execution_count": 13,
     "metadata": {},
     "output_type": "execute_result"
    }
   ],
   "source": [
    "md(f\"\"\"\n",
    "Event $A\\cap B$ has {len(A_cap_B)} element(s  {A_cap_B}\n",
    "\"\"\")"
   ]
  },
  {
   "cell_type": "markdown",
   "id": "0ed4d239",
   "metadata": {},
   "source": [
    "And finally"
   ]
  },
  {
   "cell_type": "code",
   "execution_count": 14,
   "id": "2e3c1742",
   "metadata": {
    "execution": {
     "iopub.execute_input": "2021-04-27T17:15:18.330141Z",
     "iopub.status.busy": "2021-04-27T17:15:18.329642Z",
     "iopub.status.idle": "2021-04-27T17:15:18.331342Z",
     "shell.execute_reply": "2021-04-27T17:15:18.331736Z"
    }
   },
   "outputs": [
    {
     "name": "stdout",
     "output_type": "stream",
     "text": [
      "1/11 0.09090909090909091\n"
     ]
    }
   ],
   "source": [
    "P_A_cond_B = P_A_cap_B/P_B\n",
    "print(P_A_cond_B, float(P_A_cond_B))"
   ]
  },
  {
   "cell_type": "markdown",
   "id": "9f353b4d",
   "metadata": {},
   "source": [
    "So this is smaller  then $P(A)=5/36$. "
   ]
  },
  {
   "cell_type": "markdown",
   "id": "5ccc7403",
   "metadata": {},
   "source": [
    "#### Problem"
   ]
  },
  {
   "cell_type": "markdown",
   "id": "07dd21ae",
   "metadata": {},
   "source": [
    "__1.__ What if we are told that we have rolled one on one die? Has the conditional probability of rolling six changed? "
   ]
  },
  {
   "cell_type": "code",
   "execution_count": 15,
   "id": "eab2d6f3",
   "metadata": {
    "execution": {
     "iopub.execute_input": "2021-04-27T17:15:18.334379Z",
     "iopub.status.busy": "2021-04-27T17:15:18.333877Z",
     "iopub.status.idle": "2021-04-27T17:15:18.335381Z",
     "shell.execute_reply": "2021-04-27T17:15:18.335701Z"
    },
    "tags": [
     "remove"
    ]
   },
   "outputs": [],
   "source": [
    "B1 = set( filter(lambda s: s[0]==1 or s[1]==1 , S_dice) )\n",
    "A_cap_B1 = A.intersection(B1)"
   ]
  },
  {
   "cell_type": "code",
   "execution_count": 16,
   "id": "6dee2418",
   "metadata": {
    "execution": {
     "iopub.execute_input": "2021-04-27T17:15:18.338446Z",
     "iopub.status.busy": "2021-04-27T17:15:18.337986Z",
     "iopub.status.idle": "2021-04-27T17:15:18.339824Z",
     "shell.execute_reply": "2021-04-27T17:15:18.340143Z"
    },
    "tags": [
     "remove"
    ]
   },
   "outputs": [
    {
     "data": {
      "text/plain": [
       "Fraction(2, 11)"
      ]
     },
     "execution_count": 16,
     "metadata": {},
     "output_type": "execute_result"
    }
   ],
   "source": [
    "Fraction(len(A_cap_B1), len(B1))"
   ]
  },
  {
   "cell_type": "markdown",
   "id": "34af1386",
   "metadata": {},
   "source": [
    "__2.__ Calculate the conditional probability \n",
    "$$P(d_1 + d_2 = 6\\, |\\, d_1 = i \\vee d_2 = i)\\quad\\text{for}\\;\\; i=1,\\ldots,6$$\n",
    "where $d_1$ and $d_2$ are the outcomes of fisrt and second dice roll respetcively. "
   ]
  },
  {
   "cell_type": "code",
   "execution_count": 17,
   "id": "36d2c685",
   "metadata": {
    "execution": {
     "iopub.execute_input": "2021-04-27T17:15:18.343219Z",
     "iopub.status.busy": "2021-04-27T17:15:18.342768Z",
     "iopub.status.idle": "2021-04-27T17:15:18.344580Z",
     "shell.execute_reply": "2021-04-27T17:15:18.344897Z"
    },
    "tags": [
     "remove"
    ]
   },
   "outputs": [],
   "source": [
    "Bi = [set( filter(lambda s: s[0]==i or s[1]==i , S_dice) ) for i in range(1,7)]\n",
    "A_cap_Bi = [A.intersection(s) for s in Bi]"
   ]
  },
  {
   "cell_type": "code",
   "execution_count": 18,
   "id": "3d367a84",
   "metadata": {
    "execution": {
     "iopub.execute_input": "2021-04-27T17:15:18.347886Z",
     "iopub.status.busy": "2021-04-27T17:15:18.347409Z",
     "iopub.status.idle": "2021-04-27T17:15:18.349374Z",
     "shell.execute_reply": "2021-04-27T17:15:18.349694Z"
    },
    "tags": [
     "remove"
    ]
   },
   "outputs": [
    {
     "data": {
      "text/plain": [
       "[Fraction(2, 11),\n",
       " Fraction(2, 11),\n",
       " Fraction(1, 11),\n",
       " Fraction(2, 11),\n",
       " Fraction(2, 11),\n",
       " Fraction(0, 1)]"
      ]
     },
     "execution_count": 18,
     "metadata": {},
     "output_type": "execute_result"
    }
   ],
   "source": [
    "[Fraction(len(n),len(d)) for n,d in zip(A_cap_Bi, Bi)]"
   ]
  },
  {
   "cell_type": "markdown",
   "id": "e9e56275",
   "metadata": {},
   "source": [
    "## Bayes theorem"
   ]
  },
  {
   "cell_type": "markdown",
   "id": "2fd05dd1",
   "metadata": {},
   "source": [
    "It is very important to keep in mind that conditional probability $P(A|B)$ is not symetric! _E.g._ when it rains the probability that sidewalk will be wet is one. On the other hand when the sidewalk is wet it does not imply  with certainty that it has rained, it may have  been _e.g._ washed by our neighbour. But as we will see many times in course of this lecture the ability to \"invert\" conditional probability comes in very handy. "
   ]
  },
  {
   "cell_type": "markdown",
   "id": "a40f71fc",
   "metadata": {},
   "source": [
    "By definition"
   ]
  },
  {
   "cell_type": "markdown",
   "id": "aebf9262",
   "metadata": {},
   "source": [
    "$$P(B|A) = \\frac{P(A \\cap B)}{P(A)}\\quad\\text{and}\\quad P(A|B) = \\frac{P(A \\cap B)}{P(B)}$$"
   ]
  },
  {
   "cell_type": "markdown",
   "id": "973a4081",
   "metadata": {},
   "source": [
    "we can use second expression to calculate $P(A\\cap B)$ and subsitute it into first to obtain"
   ]
  },
  {
   "cell_type": "markdown",
   "id": "819303a0",
   "metadata": {},
   "source": [
    "$$\\large\\boxed{P(B|A) = \\frac{P(A|B)P(B)}{P(A)}}$$"
   ]
  },
  {
   "cell_type": "markdown",
   "id": "db360c5c",
   "metadata": {},
   "source": [
    "This formula is know as Bayes theorem. "
   ]
  },
  {
   "cell_type": "markdown",
   "id": "8fcde9e0",
   "metadata": {},
   "source": [
    "#### Problem: Wet sidewalk"
   ]
  },
  {
   "cell_type": "markdown",
   "id": "c661350f",
   "metadata": {},
   "source": [
    "Let's apply it to the \"wet sidewalk problem\". We look in the morning through our window and see wet sidewalk. What is the probability that it has rained at night? "
   ]
  },
  {
   "cell_type": "markdown",
   "id": "da02fefe",
   "metadata": {},
   "source": [
    "#### Answer"
   ]
  },
  {
   "cell_type": "markdown",
   "id": "6ac3a9f1",
   "metadata": {},
   "source": [
    "If $wet$ is the event \"sidewalk is wet\" and $rain$ is the event \"it has rained\" then $P(wet|rain)=1$ and according to Bayes theorem"
   ]
  },
  {
   "cell_type": "markdown",
   "id": "fba71fd8",
   "metadata": {},
   "source": [
    "$$P(rain|wet)=\\frac{P(rain)}{P(wet)}$$"
   ]
  },
  {
   "cell_type": "markdown",
   "id": "8911e59b",
   "metadata": {},
   "source": [
    "We will make a reasonable assumption that our neighbour does not wash the sidewalk when it has rained: $P(wash|rain)=0$. Also obviously $P(wet|wash)=1$ so  "
   ]
  },
  {
   "cell_type": "markdown",
   "id": "e815042f",
   "metadata": {},
   "source": [
    "$$P(wet) = P(rain) + P(wash|\\neg rain)P(\\neg rain) = P(rain) + P(wash|\\neg rain)(1-P(rain))$$"
   ]
  },
  {
   "cell_type": "markdown",
   "id": "f95afd5c",
   "metadata": {},
   "source": [
    "and"
   ]
  },
  {
   "cell_type": "markdown",
   "id": "2ca0bc1f",
   "metadata": {},
   "source": [
    "$$P(rain|wet) = \\frac{P(rain)}{P(rain)+P(wash|\\neg rain)(1-P(rain))}$$"
   ]
  },
  {
   "cell_type": "markdown",
   "id": "79353ee4",
   "metadata": {},
   "source": [
    "Let's consider some \"corner cases\". If our neigbour always washes the sidewalk when it does not rain then the results is $P(rain)$ - sidewalk is always wet, we do not have any additional information.  "
   ]
  },
  {
   "cell_type": "markdown",
   "id": "f8781d34",
   "metadata": {},
   "source": [
    "If our neigbour never washes the sidewalk then results is one - the only reason for wet sidewalk is rain so when it is wet it must have rained."
   ]
  },
  {
   "cell_type": "markdown",
   "id": "6b5e200d",
   "metadata": {},
   "source": [
    "If our neighbour washed the sidewalk only half of the times when it does not rain we obtain"
   ]
  },
  {
   "cell_type": "markdown",
   "id": "42a87992",
   "metadata": {},
   "source": [
    "$$P(rain|wet) = \\frac{P(rain)}{P(rain)+\\frac{1}{2}(1-P(rain))} = \\frac{ 2 P(rain)}{1+P(rain)}$$"
   ]
  },
  {
   "cell_type": "markdown",
   "id": "1518005b",
   "metadata": {},
   "source": [
    "So if _e.g._ $P(rain)=1/7$  seeing wet sidewalk increses that chance to"
   ]
  },
  {
   "cell_type": "code",
   "execution_count": 19,
   "id": "a59ab589",
   "metadata": {
    "execution": {
     "iopub.execute_input": "2021-04-27T17:15:18.352316Z",
     "iopub.status.busy": "2021-04-27T17:15:18.351837Z",
     "iopub.status.idle": "2021-04-27T17:15:18.353341Z",
     "shell.execute_reply": "2021-04-27T17:15:18.353849Z"
    }
   },
   "outputs": [
    {
     "name": "stdout",
     "output_type": "stream",
     "text": [
      "1/4\n"
     ]
    }
   ],
   "source": [
    "print(2 * Fraction(1,7)/(1+Fraction(1,7)))"
   ]
  },
  {
   "cell_type": "markdown",
   "id": "8220aba2",
   "metadata": {},
   "source": [
    "Let's plot this using `matplotlib`  and `numpy` libraries. "
   ]
  },
  {
   "cell_type": "code",
   "execution_count": 20,
   "id": "80c16e09",
   "metadata": {
    "execution": {
     "iopub.execute_input": "2021-04-27T17:15:18.357028Z",
     "iopub.status.busy": "2021-04-27T17:15:18.356472Z",
     "iopub.status.idle": "2021-04-27T17:15:18.720092Z",
     "shell.execute_reply": "2021-04-27T17:15:18.720544Z"
    }
   },
   "outputs": [],
   "source": [
    "import numpy as np\n",
    "import matplotlib.pyplot as plt\n",
    "%matplotlib inline\n",
    "plt.rcParams[\"figure.figsize\"] = [12,8]"
   ]
  },
  {
   "cell_type": "markdown",
   "id": "37381d4a",
   "metadata": {},
   "source": [
    "We can plot the whole family of plots corresponding to different values of $P(wash|\\neg rain)$"
   ]
  },
  {
   "cell_type": "code",
   "execution_count": 21,
   "id": "8e0ab493",
   "metadata": {
    "execution": {
     "iopub.execute_input": "2021-04-27T17:15:18.794678Z",
     "iopub.status.busy": "2021-04-27T17:15:18.794121Z",
     "iopub.status.idle": "2021-04-27T17:15:18.898555Z",
     "shell.execute_reply": "2021-04-27T17:15:18.898934Z"
    },
    "tags": [
     "hide_src"
    ]
   },
   "outputs": [
    {
     "data": {
      "image/png": "[encoded data removed]",
      "text/plain": [
       "<Figure size 864x576 with 1 Axes>"
      ]
     },
     "metadata": {
      "needs_background": "light"
     },
     "output_type": "display_data"
    }
   ],
   "source": [
    "ps = np.linspace(0,1,100)\n",
    "plt.xlabel(\"P(rain)\")\n",
    "plt.ylabel(\"P(rain|wet)\");\n",
    "plt.plot(ps, ps, c='grey', linewidth = 1);\n",
    "for pw in [0.1, 0.2, 0.3, 0.4, 0.5, 0.75]:\n",
    "    plt.plot(ps, ps/(ps+pw*(1-ps)),label = \"P(w|not r) = {:.2f}\".format(pw)); \n",
    "plt.grid()\n",
    "plt.legend();"
   ]
  },
  {
   "cell_type": "markdown",
   "id": "786acd77",
   "metadata": {
    "slideshow": {
     "slide_type": "slide",
     "slideshow": {
      "slide_type": "slide"
     }
    },
    "tags": [
     "problem"
    ]
   },
   "source": [
    "#### Problem: Base rate fallacy"
   ]
  },
  {
   "cell_type": "markdown",
   "id": "1a64a57f",
   "metadata": {
    "tags": [
     "problem"
    ]
   },
   "source": [
    "You are tested for a rare disease (1 person in 250). Test has 80%  true positive rate and  10% false positive rate. i.e. test gives positive (you are ill) result for 80% of ill patients and for 10% of healthy patients.   \n",
    "\n",
    "Your are tested positive, what are the chances you have the disease? "
   ]
  },
  {
   "cell_type": "markdown",
   "id": "b0797b57",
   "metadata": {},
   "source": [
    "#### Answer"
   ]
  },
  {
   "cell_type": "markdown",
   "id": "5347320c",
   "metadata": {
    "tags": [
     "answer"
    ]
   },
   "source": [
    "What we need is the  probability that we are ill on condition that we have been tested positive:"
   ]
  },
  {
   "cell_type": "markdown",
   "id": "d53c193e",
   "metadata": {
    "slideshow": {
     "slide_type": "fragment"
    },
    "tags": [
     "answer"
    ]
   },
   "source": [
    "$$P(ill|P)= \\frac{P(ill, P)}{P(P)}$$"
   ]
  },
  {
   "cell_type": "markdown",
   "id": "9cd60312",
   "metadata": {
    "tags": [
     "answer"
    ]
   },
   "source": [
    "The probability of being ill and tested positive is "
   ]
  },
  {
   "cell_type": "code",
   "execution_count": 22,
   "id": "f5d6dcc2",
   "metadata": {
    "execution": {
     "iopub.execute_input": "2021-04-27T17:15:18.901615Z",
     "iopub.status.busy": "2021-04-27T17:15:18.901144Z",
     "iopub.status.idle": "2021-04-27T17:15:18.902637Z",
     "shell.execute_reply": "2021-04-27T17:15:18.902968Z"
    },
    "tags": [
     "answer"
    ]
   },
   "outputs": [],
   "source": [
    "p_ill_p = 0.004 * 0.8  "
   ]
  },
  {
   "cell_type": "markdown",
   "id": "97d3f9e6",
   "metadata": {
    "tags": [
     "answer"
    ]
   },
   "source": [
    "The probability of being tested positive is"
   ]
  },
  {
   "cell_type": "markdown",
   "id": "d5fcbec2",
   "metadata": {
    "tags": [
     "answer"
    ]
   },
   "source": [
    "$$P(P)=P(ill,P)+P(\\neg ill, P)$$"
   ]
  },
  {
   "cell_type": "code",
   "execution_count": 23,
   "id": "0edb8ff2",
   "metadata": {
    "execution": {
     "iopub.execute_input": "2021-04-27T17:15:18.905676Z",
     "iopub.status.busy": "2021-04-27T17:15:18.905080Z",
     "iopub.status.idle": "2021-04-27T17:15:18.906761Z",
     "shell.execute_reply": "2021-04-27T17:15:18.907280Z"
    },
    "tags": [
     "answer"
    ]
   },
   "outputs": [],
   "source": [
    "p_p = .004*0.8 + 0.996*0.1"
   ]
  },
  {
   "cell_type": "markdown",
   "id": "4832e6a6",
   "metadata": {
    "tags": [
     "answer"
    ]
   },
   "source": [
    "and finally "
   ]
  },
  {
   "cell_type": "code",
   "execution_count": 24,
   "id": "ed000c32",
   "metadata": {
    "execution": {
     "iopub.execute_input": "2021-04-27T17:15:18.910180Z",
     "iopub.status.busy": "2021-04-27T17:15:18.909637Z",
     "iopub.status.idle": "2021-04-27T17:15:18.911615Z",
     "shell.execute_reply": "2021-04-27T17:15:18.911973Z"
    },
    "tags": [
     "answer"
    ]
   },
   "outputs": [
    {
     "name": "stdout",
     "output_type": "stream",
     "text": [
      " 3.1%\n"
     ]
    }
   ],
   "source": [
    "p_ill_cond_p = p_ill_p/p_p\n",
    "print(\"{:4.1f}%\".format(100*p_ill_cond_p))"
   ]
  },
  {
   "cell_type": "markdown",
   "id": "91e02c4e",
   "metadata": {
    "tags": [
     "answer"
    ]
   },
   "source": [
    "So there is no cause to despair yet :) "
   ]
  },
  {
   "cell_type": "markdown",
   "id": "b36aafb7",
   "metadata": {
    "slideshow": {
     "slide_type": "slide",
     "slideshow": {
      "slide_type": "slide"
     }
    }
   },
   "source": [
    "### Increase of information (learning)"
   ]
  },
  {
   "cell_type": "markdown",
   "id": "2aaa5fe7",
   "metadata": {},
   "source": [
    "One could say that this test is useless if positive  result gives only $3\\%$ chance of being ill. And  this particular test was actually discarde but it is not totaly useless. Before taking the test our chance of being ill was $0.4\\%$. After seing the positive result it \"jumped\" more then ten times to $3.1\\%$. "
   ]
  },
  {
   "cell_type": "markdown",
   "id": "6787d0a5",
   "metadata": {
    "slideshow": {
     "slide_type": "fragment"
    }
   },
   "source": [
    "$$0.004 \\longrightarrow 0.031$$"
   ]
  },
  {
   "cell_type": "markdown",
   "id": "4b966b04",
   "metadata": {},
   "source": [
    "After seing a negative result our chances of being ill dropped four times:"
   ]
  },
  {
   "cell_type": "markdown",
   "id": "99028014",
   "metadata": {
    "slideshow": {
     "slide_type": "fragment"
    }
   },
   "source": [
    "$$0.004 \\longrightarrow 0.001 $$ "
   ]
  },
  {
   "cell_type": "markdown",
   "id": "e2261fd2",
   "metadata": {},
   "source": [
    "## Independent events"
   ]
  },
  {
   "cell_type": "markdown",
   "id": "cd542a12",
   "metadata": {},
   "source": [
    "It may happen that  knowledge that $B$ happened does not change  the probability of $A$"
   ]
  },
  {
   "cell_type": "markdown",
   "id": "a7405453",
   "metadata": {},
   "source": [
    "$$P(A|B) = P(A)$$"
   ]
  },
  {
   "cell_type": "markdown",
   "id": "f169abd0",
   "metadata": {},
   "source": [
    "We say then that  events $A$ and $B$ are _independent_. "
   ]
  },
  {
   "cell_type": "markdown",
   "id": "f0afa643",
   "metadata": {},
   "source": [
    "For example when tossing the coin the outcome of toss does not depend in any way on the outcome of previous tosses or in case of dice the  face they land on are independent etc. "
   ]
  },
  {
   "cell_type": "markdown",
   "id": "4d80d31b",
   "metadata": {},
   "source": [
    "Substituting the definition of conditional independence "
   ]
  },
  {
   "cell_type": "markdown",
   "id": "c25d6736",
   "metadata": {},
   "source": [
    "$$\\frac{P(A\\cap B)}{P(B)}  = P(A)$$"
   ]
  },
  {
   "cell_type": "markdown",
   "id": "22c49d5d",
   "metadata": {},
   "source": [
    "we obtain  a more familiar factorisation criterion for joint probability of independent events"
   ]
  },
  {
   "cell_type": "markdown",
   "id": "6a87ba6a",
   "metadata": {},
   "source": [
    "$$P(A\\cap B) = P(A)\\cdot P(B)$$"
   ]
  }
 ],
 "metadata": {
  "jupytext": {
   "text_representation": {
    "extension": ".Rmd",
    "format_name": "rmarkdown",
    "format_version": "1.2",
    "jupytext_version": "1.11.1"
   }
  },
  "kernelspec": {
   "display_name": "Python 3",
   "language": "python",
   "name": "python3"
  },
  "language_info": {
   "codemirror_mode": {
    "name": "ipython",
    "version": 3
   },
   "file_extension": ".py",
   "mimetype": "text/x-python",
   "name": "python",
   "nbconvert_exporter": "python",
   "pygments_lexer": "ipython3",
   "version": "3.9.2"
  }
 },
 "nbformat": 4,
 "nbformat_minor": 5
}